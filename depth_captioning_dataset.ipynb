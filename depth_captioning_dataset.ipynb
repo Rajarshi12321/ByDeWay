{
 "cells": [
  {
   "cell_type": "code",
   "execution_count": 5,
   "metadata": {},
   "outputs": [
    {
     "name": "stdout",
     "output_type": "stream",
     "text": [
      "Requirement already satisfied: torch in /usr/local/lib/python3.10/dist-packages (2.1.0+cu118)\n",
      "Collecting torch\n",
      "  Downloading torch-2.6.0-cp310-cp310-manylinux1_x86_64.whl.metadata (28 kB)\n",
      "Requirement already satisfied: torchvision in /usr/local/lib/python3.10/dist-packages (0.16.0+cu118)\n",
      "Collecting torchvision\n",
      "  Downloading torchvision-0.21.0-cp310-cp310-manylinux1_x86_64.whl.metadata (6.1 kB)\n",
      "Requirement already satisfied: torchaudio in /usr/local/lib/python3.10/dist-packages (2.1.0+cu118)\n",
      "Collecting torchaudio\n",
      "  Downloading torchaudio-2.6.0-cp310-cp310-manylinux1_x86_64.whl.metadata (6.6 kB)\n",
      "Requirement already satisfied: filelock in /usr/local/lib/python3.10/dist-packages (from torch) (3.9.0)\n",
      "Requirement already satisfied: typing-extensions>=4.10.0 in /usr/local/lib/python3.10/dist-packages (from torch) (4.13.1)\n",
      "Requirement already satisfied: networkx in /usr/local/lib/python3.10/dist-packages (from torch) (3.0)\n",
      "Requirement already satisfied: jinja2 in /usr/local/lib/python3.10/dist-packages (from torch) (3.1.2)\n",
      "Requirement already satisfied: fsspec in /usr/local/lib/python3.10/dist-packages (from torch) (2024.12.0)\n",
      "Collecting nvidia-cuda-nvrtc-cu12==12.4.127 (from torch)\n",
      "  Downloading nvidia_cuda_nvrtc_cu12-12.4.127-py3-none-manylinux2014_x86_64.whl.metadata (1.5 kB)\n",
      "Collecting nvidia-cuda-runtime-cu12==12.4.127 (from torch)\n",
      "  Downloading nvidia_cuda_runtime_cu12-12.4.127-py3-none-manylinux2014_x86_64.whl.metadata (1.5 kB)\n",
      "Collecting nvidia-cuda-cupti-cu12==12.4.127 (from torch)\n",
      "  Downloading nvidia_cuda_cupti_cu12-12.4.127-py3-none-manylinux2014_x86_64.whl.metadata (1.6 kB)\n",
      "Collecting nvidia-cudnn-cu12==9.1.0.70 (from torch)\n",
      "  Downloading nvidia_cudnn_cu12-9.1.0.70-py3-none-manylinux2014_x86_64.whl.metadata (1.6 kB)\n",
      "Collecting nvidia-cublas-cu12==12.4.5.8 (from torch)\n",
      "  Downloading nvidia_cublas_cu12-12.4.5.8-py3-none-manylinux2014_x86_64.whl.metadata (1.5 kB)\n",
      "Collecting nvidia-cufft-cu12==11.2.1.3 (from torch)\n",
      "  Downloading nvidia_cufft_cu12-11.2.1.3-py3-none-manylinux2014_x86_64.whl.metadata (1.5 kB)\n",
      "Collecting nvidia-curand-cu12==10.3.5.147 (from torch)\n",
      "  Downloading nvidia_curand_cu12-10.3.5.147-py3-none-manylinux2014_x86_64.whl.metadata (1.5 kB)\n",
      "Collecting nvidia-cusolver-cu12==11.6.1.9 (from torch)\n",
      "  Downloading nvidia_cusolver_cu12-11.6.1.9-py3-none-manylinux2014_x86_64.whl.metadata (1.6 kB)\n",
      "Collecting nvidia-cusparse-cu12==12.3.1.170 (from torch)\n",
      "  Downloading nvidia_cusparse_cu12-12.3.1.170-py3-none-manylinux2014_x86_64.whl.metadata (1.6 kB)\n",
      "Collecting nvidia-cusparselt-cu12==0.6.2 (from torch)\n",
      "  Downloading nvidia_cusparselt_cu12-0.6.2-py3-none-manylinux2014_x86_64.whl.metadata (6.8 kB)\n",
      "Collecting nvidia-nccl-cu12==2.21.5 (from torch)\n",
      "  Downloading nvidia_nccl_cu12-2.21.5-py3-none-manylinux2014_x86_64.whl.metadata (1.8 kB)\n",
      "Collecting nvidia-nvtx-cu12==12.4.127 (from torch)\n",
      "  Downloading nvidia_nvtx_cu12-12.4.127-py3-none-manylinux2014_x86_64.whl.metadata (1.7 kB)\n",
      "Collecting nvidia-nvjitlink-cu12==12.4.127 (from torch)\n",
      "  Downloading nvidia_nvjitlink_cu12-12.4.127-py3-none-manylinux2014_x86_64.whl.metadata (1.5 kB)\n",
      "Collecting triton==3.2.0 (from torch)\n",
      "  Downloading triton-3.2.0-cp310-cp310-manylinux_2_17_x86_64.manylinux2014_x86_64.whl.metadata (1.4 kB)\n",
      "Collecting sympy==1.13.1 (from torch)\n",
      "  Downloading sympy-1.13.1-py3-none-any.whl.metadata (12 kB)\n",
      "Requirement already satisfied: mpmath<1.4,>=1.1.0 in /usr/local/lib/python3.10/dist-packages (from sympy==1.13.1->torch) (1.3.0)\n",
      "Requirement already satisfied: numpy in /usr/local/lib/python3.10/dist-packages (from torchvision) (2.2.4)\n",
      "Requirement already satisfied: pillow!=8.3.*,>=5.3.0 in /usr/local/lib/python3.10/dist-packages (from torchvision) (10.4.0)\n",
      "Requirement already satisfied: MarkupSafe>=2.0 in /usr/local/lib/python3.10/dist-packages (from jinja2->torch) (2.1.2)\n",
      "Downloading torch-2.6.0-cp310-cp310-manylinux1_x86_64.whl (766.7 MB)\n",
      "\u001b[2K   \u001b[90m━━━━━━━━━━━━━━━━━━━━━━━━━━━━━━━━━━━━━━━\u001b[0m \u001b[32m766.7/766.7 MB\u001b[0m \u001b[31m243.0 MB/s\u001b[0m eta \u001b[36m0:00:00\u001b[0ma \u001b[36m0:00:01\u001b[0m\n",
      "\u001b[?25hDownloading nvidia_cublas_cu12-12.4.5.8-py3-none-manylinux2014_x86_64.whl (363.4 MB)\n",
      "\u001b[2K   \u001b[90m━━━━━━━━━━━━━━━━━━━━━━━━━━━━━━━━━━━━━━━\u001b[0m \u001b[32m363.4/363.4 MB\u001b[0m \u001b[31m234.8 MB/s\u001b[0m eta \u001b[36m0:00:00\u001b[0ma \u001b[36m0:00:01\u001b[0m\n",
      "\u001b[?25hDownloading nvidia_cuda_cupti_cu12-12.4.127-py3-none-manylinux2014_x86_64.whl (13.8 MB)\n",
      "\u001b[2K   \u001b[90m━━━━━━━━━━━━━━━━━━━━━━━━━━━━━━━━━━━━━━━━\u001b[0m \u001b[32m13.8/13.8 MB\u001b[0m \u001b[31m401.7 MB/s\u001b[0m eta \u001b[36m0:00:00\u001b[0m\n",
      "\u001b[?25hDownloading nvidia_cuda_nvrtc_cu12-12.4.127-py3-none-manylinux2014_x86_64.whl (24.6 MB)\n",
      "\u001b[2K   \u001b[90m━━━━━━━━━━━━━━━━━━━━━━━━━━━━━━━━━━━━━━━━\u001b[0m \u001b[32m24.6/24.6 MB\u001b[0m \u001b[31m273.7 MB/s\u001b[0m eta \u001b[36m0:00:00\u001b[0m\n",
      "\u001b[?25hDownloading nvidia_cuda_runtime_cu12-12.4.127-py3-none-manylinux2014_x86_64.whl (883 kB)\n",
      "\u001b[2K   \u001b[90m━━━━━━━━━━━━━━━━━━━━━━━━━━━━━━━━━━━━━━━\u001b[0m \u001b[32m883.7/883.7 kB\u001b[0m \u001b[31m429.3 MB/s\u001b[0m eta \u001b[36m0:00:00\u001b[0m\n",
      "\u001b[?25hDownloading nvidia_cudnn_cu12-9.1.0.70-py3-none-manylinux2014_x86_64.whl (664.8 MB)\n",
      "\u001b[2K   \u001b[90m━━━━━━━━━━━━━━━━━━━━━━━━━━━━━━━━━━━━━━━\u001b[0m \u001b[32m664.8/664.8 MB\u001b[0m \u001b[31m284.5 MB/s\u001b[0m eta \u001b[36m0:00:00\u001b[0m00:01\u001b[0m00:01\u001b[0m\n",
      "\u001b[?25hDownloading nvidia_cufft_cu12-11.2.1.3-py3-none-manylinux2014_x86_64.whl (211.5 MB)\n",
      "\u001b[2K   \u001b[90m━━━━━━━━━━━━━━━━━━━━━━━━━━━━━━━━━━━━━━━\u001b[0m \u001b[32m211.5/211.5 MB\u001b[0m \u001b[31m199.1 MB/s\u001b[0m eta \u001b[36m0:00:00\u001b[0ma \u001b[36m0:00:01\u001b[0m\n",
      "\u001b[?25hDownloading nvidia_curand_cu12-10.3.5.147-py3-none-manylinux2014_x86_64.whl (56.3 MB)\n",
      "\u001b[2K   \u001b[90m━━━━━━━━━━━━━━━━━━━━━━━━━━━━━━━━━━━━━━━━\u001b[0m \u001b[32m56.3/56.3 MB\u001b[0m \u001b[31m271.8 MB/s\u001b[0m eta \u001b[36m0:00:00\u001b[0ma \u001b[36m0:00:01\u001b[0m\n",
      "\u001b[?25hDownloading nvidia_cusolver_cu12-11.6.1.9-py3-none-manylinux2014_x86_64.whl (127.9 MB)\n",
      "\u001b[2K   \u001b[90m━━━━━━━━━━━━━━━━━━━━━━━━━━━━━━━━━━━━━━━\u001b[0m \u001b[32m127.9/127.9 MB\u001b[0m \u001b[31m276.1 MB/s\u001b[0m eta \u001b[36m0:00:00\u001b[0ma \u001b[36m0:00:01\u001b[0m\n",
      "\u001b[?25hDownloading nvidia_cusparse_cu12-12.3.1.170-py3-none-manylinux2014_x86_64.whl (207.5 MB)\n",
      "\u001b[2K   \u001b[90m━━━━━━━━━━━━━━━━━━━━━━━━━━━━━━━━━━━━━━━\u001b[0m \u001b[32m207.5/207.5 MB\u001b[0m \u001b[31m179.5 MB/s\u001b[0m eta \u001b[36m0:00:00\u001b[0ma \u001b[36m0:00:01\u001b[0m\n",
      "\u001b[?25hDownloading nvidia_cusparselt_cu12-0.6.2-py3-none-manylinux2014_x86_64.whl (150.1 MB)\n",
      "\u001b[2K   \u001b[90m━━━━━━━━━━━━━━━━━━━━━━━━━━━━━━━━━━━━━━━\u001b[0m \u001b[32m150.1/150.1 MB\u001b[0m \u001b[31m142.3 MB/s\u001b[0m eta \u001b[36m0:00:00\u001b[0ma \u001b[36m0:00:01\u001b[0m\n",
      "\u001b[?25hDownloading nvidia_nccl_cu12-2.21.5-py3-none-manylinux2014_x86_64.whl (188.7 MB)\n",
      "\u001b[2K   \u001b[90m━━━━━━━━━━━━━━━━━━━━━━━━━━━━━━━━━━━━━━━\u001b[0m \u001b[32m188.7/188.7 MB\u001b[0m \u001b[31m226.1 MB/s\u001b[0m eta \u001b[36m0:00:00\u001b[0ma \u001b[36m0:00:01\u001b[0m\n",
      "\u001b[?25hDownloading nvidia_nvjitlink_cu12-12.4.127-py3-none-manylinux2014_x86_64.whl (21.1 MB)\n",
      "\u001b[2K   \u001b[90m━━━━━━━━━━━━━━━━━━━━━━━━━━━━━━━━━━━━━━━━\u001b[0m \u001b[32m21.1/21.1 MB\u001b[0m \u001b[31m133.6 MB/s\u001b[0m eta \u001b[36m0:00:00\u001b[0m\n",
      "\u001b[?25hDownloading nvidia_nvtx_cu12-12.4.127-py3-none-manylinux2014_x86_64.whl (99 kB)\n",
      "Downloading sympy-1.13.1-py3-none-any.whl (6.2 MB)\n",
      "\u001b[2K   \u001b[90m━━━━━━━━━━━━━━━━━━━━━━━━━━━━━━━━━━━━━━━━\u001b[0m \u001b[32m6.2/6.2 MB\u001b[0m \u001b[31m352.3 MB/s\u001b[0m eta \u001b[36m0:00:00\u001b[0m\n",
      "\u001b[?25hDownloading triton-3.2.0-cp310-cp310-manylinux_2_17_x86_64.manylinux2014_x86_64.whl (253.1 MB)\n",
      "\u001b[2K   \u001b[90m━━━━━━━━━━━━━━━━━━━━━━━━━━━━━━━━━━━━━━━\u001b[0m \u001b[32m253.1/253.1 MB\u001b[0m \u001b[31m202.6 MB/s\u001b[0m eta \u001b[36m0:00:00\u001b[0ma \u001b[36m0:00:01\u001b[0m\n",
      "\u001b[?25hDownloading torchvision-0.21.0-cp310-cp310-manylinux1_x86_64.whl (7.2 MB)\n",
      "\u001b[2K   \u001b[90m━━━━━━━━━━━━━━━━━━━━━━━━━━━━━━━━━━━━━━━━\u001b[0m \u001b[32m7.2/7.2 MB\u001b[0m \u001b[31m396.0 MB/s\u001b[0m eta \u001b[36m0:00:00\u001b[0m\n",
      "\u001b[?25hDownloading torchaudio-2.6.0-cp310-cp310-manylinux1_x86_64.whl (3.4 MB)\n",
      "\u001b[2K   \u001b[90m━━━━━━━━━━━━━━━━━━━━━━━━━━━━━━━━━━━━━━━━\u001b[0m \u001b[32m3.4/3.4 MB\u001b[0m \u001b[31m495.6 MB/s\u001b[0m eta \u001b[36m0:00:00\u001b[0m\n",
      "\u001b[?25hInstalling collected packages: triton, nvidia-cusparselt-cu12, sympy, nvidia-nvtx-cu12, nvidia-nvjitlink-cu12, nvidia-nccl-cu12, nvidia-curand-cu12, nvidia-cufft-cu12, nvidia-cuda-runtime-cu12, nvidia-cuda-nvrtc-cu12, nvidia-cuda-cupti-cu12, nvidia-cublas-cu12, nvidia-cusparse-cu12, nvidia-cudnn-cu12, nvidia-cusolver-cu12, torch, torchvision, torchaudio\n",
      "  Attempting uninstall: triton\n",
      "    Found existing installation: triton 2.1.0\n",
      "    Uninstalling triton-2.1.0:\n",
      "      Successfully uninstalled triton-2.1.0\n",
      "  Rolling back uninstall of triton\n",
      "  Moving to /usr/local/lib/python3.10/dist-packages/triton-2.1.0.dist-info/\n",
      "   from /usr/local/lib/python3.10/dist-packages/~riton-2.1.0.dist-info\n",
      "  Moving to /usr/local/lib/python3.10/dist-packages/triton/\n",
      "   from /usr/local/lib/python3.10/dist-packages/~riton\n",
      "\u001b[31mERROR: Could not install packages due to an OSError: [Errno 28] No space left on device\n",
      "\u001b[0m\u001b[31m\n",
      "\u001b[0mNote: you may need to restart the kernel to use updated packages.\n"
     ]
    }
   ],
   "source": [
    "# pip install --upgrade torch torchvision torchaudio --no-cache-dir\n"
   ]
  },
  {
   "cell_type": "code",
   "execution_count": 1,
   "metadata": {},
   "outputs": [
    {
     "name": "stdout",
     "output_type": "stream",
     "text": [
      "Current directory: /root/Depth-SoM/Depth-Anything-V2\n"
     ]
    },
    {
     "name": "stderr",
     "output_type": "stream",
     "text": [
      "\n",
      "A module that was compiled using NumPy 1.x cannot be run in\n",
      "NumPy 2.2.4 as it may crash. To support both 1.x and 2.x\n",
      "versions of NumPy, modules must be compiled with NumPy 2.0.\n",
      "Some module may need to rebuild instead e.g. with 'pybind11>=2.12'.\n",
      "\n",
      "If you are a user of the module, the easiest solution will be to\n",
      "downgrade to 'numpy<2' or try to upgrade the affected module.\n",
      "We expect that some modules will need time to support NumPy 2.\n",
      "\n",
      "Traceback (most recent call last):  File \"/usr/lib/python3.10/runpy.py\", line 196, in _run_module_as_main\n",
      "    return _run_code(code, main_globals, None,\n",
      "  File \"/usr/lib/python3.10/runpy.py\", line 86, in _run_code\n",
      "    exec(code, run_globals)\n",
      "  File \"/usr/local/lib/python3.10/dist-packages/ipykernel_launcher.py\", line 17, in <module>\n",
      "    app.launch_new_instance()\n",
      "  File \"/usr/local/lib/python3.10/dist-packages/traitlets/config/application.py\", line 1053, in launch_instance\n",
      "    app.start()\n",
      "  File \"/usr/local/lib/python3.10/dist-packages/ipykernel/kernelapp.py\", line 737, in start\n",
      "    self.io_loop.start()\n",
      "  File \"/usr/local/lib/python3.10/dist-packages/tornado/platform/asyncio.py\", line 195, in start\n",
      "    self.asyncio_loop.run_forever()\n",
      "  File \"/usr/lib/python3.10/asyncio/base_events.py\", line 603, in run_forever\n",
      "    self._run_once()\n",
      "  File \"/usr/lib/python3.10/asyncio/base_events.py\", line 1909, in _run_once\n",
      "    handle._run()\n",
      "  File \"/usr/lib/python3.10/asyncio/events.py\", line 80, in _run\n",
      "    self._context.run(self._callback, *self._args)\n",
      "  File \"/usr/local/lib/python3.10/dist-packages/ipykernel/kernelbase.py\", line 524, in dispatch_queue\n",
      "    await self.process_one()\n",
      "  File \"/usr/local/lib/python3.10/dist-packages/ipykernel/kernelbase.py\", line 513, in process_one\n",
      "    await dispatch(*args)\n",
      "  File \"/usr/local/lib/python3.10/dist-packages/ipykernel/kernelbase.py\", line 418, in dispatch_shell\n",
      "    await result\n",
      "  File \"/usr/local/lib/python3.10/dist-packages/ipykernel/kernelbase.py\", line 758, in execute_request\n",
      "    reply_content = await reply_content\n",
      "  File \"/usr/local/lib/python3.10/dist-packages/ipykernel/ipkernel.py\", line 426, in do_execute\n",
      "    res = shell.run_cell(\n",
      "  File \"/usr/local/lib/python3.10/dist-packages/ipykernel/zmqshell.py\", line 549, in run_cell\n",
      "    return super().run_cell(*args, **kwargs)\n",
      "  File \"/usr/local/lib/python3.10/dist-packages/IPython/core/interactiveshell.py\", line 3046, in run_cell\n",
      "    result = self._run_cell(\n",
      "  File \"/usr/local/lib/python3.10/dist-packages/IPython/core/interactiveshell.py\", line 3101, in _run_cell\n",
      "    result = runner(coro)\n",
      "  File \"/usr/local/lib/python3.10/dist-packages/IPython/core/async_helpers.py\", line 129, in _pseudo_sync_runner\n",
      "    coro.send(None)\n",
      "  File \"/usr/local/lib/python3.10/dist-packages/IPython/core/interactiveshell.py\", line 3306, in run_cell_async\n",
      "    has_raised = await self.run_ast_nodes(code_ast.body, cell_name,\n",
      "  File \"/usr/local/lib/python3.10/dist-packages/IPython/core/interactiveshell.py\", line 3488, in run_ast_nodes\n",
      "    if await self.run_code(code, result, async_=asy):\n",
      "  File \"/usr/local/lib/python3.10/dist-packages/IPython/core/interactiveshell.py\", line 3548, in run_code\n",
      "    exec(code_obj, self.user_global_ns, self.user_ns)\n",
      "  File \"/tmp/ipykernel_3470/4050866691.py\", line 1, in <module>\n",
      "    from depth_kosmos import requests, DepthKosmosCaptioner\n",
      "  File \"/root/Depth-SoM/depth_kosmos.py\", line 17, in <module>\n",
      "    import torch\n",
      "  File \"/usr/local/lib/python3.10/dist-packages/torch/__init__.py\", line 1382, in <module>\n",
      "    from .functional import *  # noqa: F403\n",
      "  File \"/usr/local/lib/python3.10/dist-packages/torch/functional.py\", line 7, in <module>\n",
      "    import torch.nn.functional as F\n",
      "  File \"/usr/local/lib/python3.10/dist-packages/torch/nn/__init__.py\", line 1, in <module>\n",
      "    from .modules import *  # noqa: F403\n",
      "  File \"/usr/local/lib/python3.10/dist-packages/torch/nn/modules/__init__.py\", line 35, in <module>\n",
      "    from .transformer import TransformerEncoder, TransformerDecoder, \\\n",
      "  File \"/usr/local/lib/python3.10/dist-packages/torch/nn/modules/transformer.py\", line 20, in <module>\n",
      "    device: torch.device = torch.device(torch._C._get_default_device()),  # torch.device('cpu'),\n",
      "/usr/local/lib/python3.10/dist-packages/torch/nn/modules/transformer.py:20: UserWarning: Failed to initialize NumPy: _ARRAY_API not found (Triggered internally at ../torch/csrc/utils/tensor_numpy.cpp:84.)\n",
      "  device: torch.device = torch.device(torch._C._get_default_device()),  # torch.device('cpu'),\n",
      "xFormers not available\n",
      "xFormers not available\n",
      "2025-04-04 17:51:55.469897: I tensorflow/core/util/port.cc:153] oneDNN custom operations are on. You may see slightly different numerical results due to floating-point round-off errors from different computation orders. To turn them off, set the environment variable `TF_ENABLE_ONEDNN_OPTS=0`.\n",
      "2025-04-04 17:51:55.471232: I external/local_xla/xla/tsl/cuda/cudart_stub.cc:32] Could not find cuda drivers on your machine, GPU will not be used.\n",
      "2025-04-04 17:51:55.474379: I external/local_xla/xla/tsl/cuda/cudart_stub.cc:32] Could not find cuda drivers on your machine, GPU will not be used.\n",
      "2025-04-04 17:51:55.484590: E external/local_xla/xla/stream_executor/cuda/cuda_fft.cc:467] Unable to register cuFFT factory: Attempting to register factory for plugin cuFFT when one has already been registered\n",
      "WARNING: All log messages before absl::InitializeLog() is called are written to STDERR\n",
      "E0000 00:00:1743789115.502203    3470 cuda_dnn.cc:8579] Unable to register cuDNN factory: Attempting to register factory for plugin cuDNN when one has already been registered\n",
      "E0000 00:00:1743789115.507465    3470 cuda_blas.cc:1407] Unable to register cuBLAS factory: Attempting to register factory for plugin cuBLAS when one has already been registered\n",
      "W0000 00:00:1743789115.520676    3470 computation_placer.cc:177] computation placer already registered. Please check linkage and avoid linking the same target more than once.\n",
      "W0000 00:00:1743789115.520691    3470 computation_placer.cc:177] computation placer already registered. Please check linkage and avoid linking the same target more than once.\n",
      "W0000 00:00:1743789115.520693    3470 computation_placer.cc:177] computation placer already registered. Please check linkage and avoid linking the same target more than once.\n",
      "W0000 00:00:1743789115.520694    3470 computation_placer.cc:177] computation placer already registered. Please check linkage and avoid linking the same target more than once.\n",
      "2025-04-04 17:51:55.525501: I tensorflow/core/platform/cpu_feature_guard.cc:210] This TensorFlow binary is optimized to use available CPU instructions in performance-critical operations.\n",
      "To enable the following instructions: AVX2 AVX512F AVX512_VNNI FMA, in other operations, rebuild TensorFlow with the appropriate compiler flags.\n",
      "Using a slow image processor as `use_fast` is unset and a slow processor was saved with this model. `use_fast=True` will be the default behavior in v4.52, even if the model was saved with a slow processor. This will result in minor differences in outputs. You'll still be able to use a slow processor with `use_fast=False`.\n"
     ]
    },
    {
     "name": "stdout",
     "output_type": "stream",
     "text": [
      "Using device: cuda\n"
     ]
    },
    {
     "name": "stderr",
     "output_type": "stream",
     "text": [
      "/usr/local/lib/python3.10/dist-packages/torch/_utils.py:831: UserWarning: TypedStorage is deprecated. It will be removed in the future and UntypedStorage will be the only storage class. This should only matter to you if you are using storages directly.  To access UntypedStorage directly, use tensor.untyped_storage() instead of tensor.storage()\n",
      "  return self.fget.__get__(instance, owner)()\n"
     ]
    },
    {
     "name": "stdout",
     "output_type": "stream",
     "text": [
      "Using device: cuda\n"
     ]
    }
   ],
   "source": [
    "from depth_kosmos import requests, DepthKosmosCaptioner\n",
    "from depth_kosmos import Image as Image_PIL\n",
    "\n",
    "depth_kosmos_captioner = DepthKosmosCaptioner()\n"
   ]
  },
  {
   "cell_type": "code",
   "execution_count": 1,
   "metadata": {},
   "outputs": [],
   "source": [
    "# !pip install numpy --upgrade\n"
   ]
  },
  {
   "cell_type": "code",
   "execution_count": 2,
   "metadata": {},
   "outputs": [
    {
     "ename": "NameError",
     "evalue": "name 'Image_PIL' is not defined",
     "output_type": "error",
     "traceback": [
      "\u001b[0;31m---------------------------------------------------------------------------\u001b[0m",
      "\u001b[0;31mNameError\u001b[0m                                 Traceback (most recent call last)",
      "Cell \u001b[0;32mIn[2], line 2\u001b[0m\n\u001b[1;32m      1\u001b[0m url \u001b[38;5;241m=\u001b[39m \u001b[38;5;124m\"\u001b[39m\u001b[38;5;124mhttps://encrypted-tbn0.gstatic.com/images?q=tbn:ANd9GcTp5jMLHnfiO56w8iVWAwI4VvOu4B_5c2C1ww&s\u001b[39m\u001b[38;5;124m\"\u001b[39m\n\u001b[0;32m----> 2\u001b[0m image \u001b[38;5;241m=\u001b[39m \u001b[43mImage_PIL\u001b[49m\u001b[38;5;241m.\u001b[39mopen(requests\u001b[38;5;241m.\u001b[39mget(url, stream\u001b[38;5;241m=\u001b[39m\u001b[38;5;28;01mTrue\u001b[39;00m)\u001b[38;5;241m.\u001b[39mraw)\n",
      "\u001b[0;31mNameError\u001b[0m: name 'Image_PIL' is not defined"
     ]
    }
   ],
   "source": [
    "\n",
    "url = \"https://encrypted-tbn0.gstatic.com/images?q=tbn:ANd9GcTp5jMLHnfiO56w8iVWAwI4VvOu4B_5c2C1ww&s\"\n",
    "image = Image_PIL.open(requests.get(url, stream=True).raw)\n"
   ]
  },
  {
   "cell_type": "code",
   "execution_count": 3,
   "metadata": {},
   "outputs": [
    {
     "ename": "NameError",
     "evalue": "name 'depth_kosmos_captioner' is not defined",
     "output_type": "error",
     "traceback": [
      "\u001b[0;31m---------------------------------------------------------------------------\u001b[0m",
      "\u001b[0;31mNameError\u001b[0m                                 Traceback (most recent call last)",
      "Cell \u001b[0;32mIn[3], line 2\u001b[0m\n\u001b[1;32m      1\u001b[0m \u001b[38;5;66;03m# depth_kosmos_captioner.display_depth_images(image)\u001b[39;00m\n\u001b[0;32m----> 2\u001b[0m full_caption_string \u001b[38;5;241m=\u001b[39m \u001b[43mdepth_kosmos_captioner\u001b[49m\u001b[38;5;241m.\u001b[39mget_caption_with_depth(image)\n\u001b[1;32m      3\u001b[0m \u001b[38;5;28mprint\u001b[39m(full_caption_string)\n",
      "\u001b[0;31mNameError\u001b[0m: name 'depth_kosmos_captioner' is not defined"
     ]
    }
   ],
   "source": [
    "# depth_kosmos_captioner.display_depth_images(image)\n",
    "full_caption_string = depth_kosmos_captioner.get_caption_with_depth(image)\n",
    "print(full_caption_string)"
   ]
  },
  {
   "cell_type": "code",
   "execution_count": null,
   "metadata": {},
   "outputs": [],
   "source": []
  },
  {
   "cell_type": "code",
   "execution_count": null,
   "metadata": {},
   "outputs": [],
   "source": []
  },
  {
   "cell_type": "code",
   "execution_count": 4,
   "metadata": {},
   "outputs": [
    {
     "data": {
      "application/vnd.jupyter.widget-view+json": {
       "model_id": "bfd661836575434c9599e519a3fdcfec",
       "version_major": 2,
       "version_minor": 0
      },
      "text/plain": [
       "README.md:   0%|          | 0.00/715 [00:00<?, ?B/s]"
      ]
     },
     "metadata": {},
     "output_type": "display_data"
    },
    {
     "data": {
      "application/vnd.jupyter.widget-view+json": {
       "model_id": "f59ad4833fe845728f2b6faca4a126c6",
       "version_major": 2,
       "version_minor": 0
      },
      "text/plain": [
       "train-00000-of-00001.parquet:   0%|          | 0.00/60.3M [00:00<?, ?B/s]"
      ]
     },
     "metadata": {},
     "output_type": "display_data"
    },
    {
     "data": {
      "application/vnd.jupyter.widget-view+json": {
       "model_id": "f0e16ac416ff49349ae87beab4a51028",
       "version_major": 2,
       "version_minor": 0
      },
      "text/plain": [
       "Generating train split:   0%|          | 0/400 [00:00<?, ? examples/s]"
      ]
     },
     "metadata": {},
     "output_type": "display_data"
    },
    {
     "name": "stdout",
     "output_type": "stream",
     "text": [
      "✅ Saved: image/image_0.jpg\n",
      "✅ Saved: image/image_1.jpg\n",
      "✅ Saved: image/image_2.jpg\n",
      "✅ Saved: image/image_3.jpg\n",
      "✅ Saved: image/image_4.jpg\n",
      "✅ Saved: image/image_5.jpg\n",
      "✅ Saved: image/image_6.jpg\n",
      "✅ Saved: image/image_7.jpg\n",
      "✅ Saved: image/image_8.jpg\n",
      "✅ Saved: image/image_9.jpg\n",
      "✅ Saved: image/image_10.jpg\n",
      "✅ Saved: image/image_11.jpg\n",
      "✅ Saved: image/image_12.jpg\n",
      "✅ Saved: image/image_13.jpg\n",
      "✅ Saved: image/image_14.jpg\n",
      "✅ Saved: image/image_15.jpg\n",
      "✅ Saved: image/image_16.jpg\n",
      "✅ Saved: image/image_17.jpg\n",
      "✅ Saved: image/image_18.jpg\n",
      "✅ Saved: image/image_19.jpg\n",
      "✅ Saved: image/image_20.jpg\n",
      "✅ Saved: image/image_21.jpg\n",
      "✅ Saved: image/image_22.jpg\n",
      "✅ Saved: image/image_23.jpg\n",
      "✅ Saved: image/image_24.jpg\n",
      "✅ Saved: image/image_25.jpg\n",
      "✅ Saved: image/image_26.jpg\n",
      "✅ Saved: image/image_27.jpg\n",
      "✅ Saved: image/image_28.jpg\n",
      "✅ Saved: image/image_29.jpg\n",
      "✅ Saved: image/image_30.jpg\n",
      "✅ Saved: image/image_31.jpg\n",
      "✅ Saved: image/image_32.jpg\n",
      "✅ Saved: image/image_33.jpg\n",
      "✅ Saved: image/image_34.jpg\n",
      "✅ Saved: image/image_35.jpg\n",
      "✅ Saved: image/image_36.jpg\n",
      "✅ Saved: image/image_37.jpg\n",
      "✅ Saved: image/image_38.jpg\n",
      "✅ Saved: image/image_39.jpg\n",
      "✅ Saved: image/image_40.jpg\n",
      "✅ Saved: image/image_41.jpg\n",
      "✅ Saved: image/image_42.jpg\n",
      "✅ Saved: image/image_43.jpg\n",
      "✅ Saved: image/image_44.jpg\n",
      "✅ Saved: image/image_45.jpg\n",
      "✅ Saved: image/image_46.jpg\n",
      "✅ Saved: image/image_47.jpg\n",
      "✅ Saved: image/image_48.jpg\n",
      "✅ Saved: image/image_49.jpg\n",
      "✅ Saved: image/image_50.jpg\n",
      "✅ Saved: image/image_51.jpg\n",
      "✅ Saved: image/image_52.jpg\n",
      "✅ Saved: image/image_53.jpg\n",
      "✅ Saved: image/image_54.jpg\n",
      "✅ Saved: image/image_55.jpg\n",
      "✅ Saved: image/image_56.jpg\n",
      "✅ Saved: image/image_57.jpg\n",
      "✅ Saved: image/image_58.jpg\n",
      "✅ Saved: image/image_59.jpg\n",
      "✅ Saved: image/image_60.jpg\n",
      "✅ Saved: image/image_61.jpg\n",
      "✅ Saved: image/image_62.jpg\n",
      "✅ Saved: image/image_63.jpg\n",
      "✅ Saved: image/image_64.jpg\n",
      "✅ Saved: image/image_65.jpg\n",
      "✅ Saved: image/image_66.jpg\n",
      "✅ Saved: image/image_67.jpg\n",
      "✅ Saved: image/image_68.jpg\n",
      "✅ Saved: image/image_69.jpg\n",
      "✅ Saved: image/image_70.jpg\n",
      "✅ Saved: image/image_71.jpg\n",
      "✅ Saved: image/image_72.jpg\n",
      "✅ Saved: image/image_73.jpg\n",
      "✅ Saved: image/image_74.jpg\n",
      "✅ Saved: image/image_75.jpg\n",
      "✅ Saved: image/image_76.jpg\n",
      "✅ Saved: image/image_77.jpg\n",
      "✅ Saved: image/image_78.jpg\n",
      "✅ Saved: image/image_79.jpg\n",
      "✅ Saved: image/image_80.jpg\n",
      "✅ Saved: image/image_81.jpg\n",
      "✅ Saved: image/image_82.jpg\n",
      "✅ Saved: image/image_83.jpg\n",
      "✅ Saved: image/image_84.jpg\n",
      "✅ Saved: image/image_85.jpg\n",
      "✅ Saved: image/image_86.jpg\n",
      "✅ Saved: image/image_87.jpg\n",
      "✅ Saved: image/image_88.jpg\n",
      "✅ Saved: image/image_89.jpg\n",
      "✅ Saved: image/image_90.jpg\n",
      "✅ Saved: image/image_91.jpg\n",
      "✅ Saved: image/image_92.jpg\n",
      "✅ Saved: image/image_93.jpg\n",
      "✅ Saved: image/image_94.jpg\n",
      "✅ Saved: image/image_95.jpg\n",
      "✅ Saved: image/image_96.jpg\n",
      "✅ Saved: image/image_97.jpg\n",
      "✅ Saved: image/image_98.jpg\n",
      "✅ Saved: image/image_99.jpg\n",
      "✅ Saved: image/image_100.jpg\n",
      "✅ Saved: image/image_101.jpg\n",
      "✅ Saved: image/image_102.jpg\n",
      "✅ Saved: image/image_103.jpg\n",
      "✅ Saved: image/image_104.jpg\n",
      "✅ Saved: image/image_105.jpg\n",
      "✅ Saved: image/image_106.jpg\n",
      "✅ Saved: image/image_107.jpg\n",
      "✅ Saved: image/image_108.jpg\n",
      "✅ Saved: image/image_109.jpg\n",
      "✅ Saved: image/image_110.jpg\n",
      "✅ Saved: image/image_111.jpg\n",
      "✅ Saved: image/image_112.jpg\n",
      "✅ Saved: image/image_113.jpg\n",
      "✅ Saved: image/image_114.jpg\n",
      "✅ Saved: image/image_115.jpg\n",
      "✅ Saved: image/image_116.jpg\n",
      "✅ Saved: image/image_117.jpg\n",
      "✅ Saved: image/image_118.jpg\n",
      "✅ Saved: image/image_119.jpg\n",
      "✅ Saved: image/image_120.jpg\n",
      "✅ Saved: image/image_121.jpg\n",
      "✅ Saved: image/image_122.jpg\n",
      "✅ Saved: image/image_123.jpg\n",
      "✅ Saved: image/image_124.jpg\n",
      "✅ Saved: image/image_125.jpg\n",
      "✅ Saved: image/image_126.jpg\n",
      "✅ Saved: image/image_127.jpg\n",
      "✅ Saved: image/image_128.jpg\n",
      "✅ Saved: image/image_129.jpg\n",
      "✅ Saved: image/image_130.jpg\n",
      "✅ Saved: image/image_131.jpg\n",
      "✅ Saved: image/image_132.jpg\n",
      "✅ Saved: image/image_133.jpg\n",
      "✅ Saved: image/image_134.jpg\n",
      "✅ Saved: image/image_135.jpg\n",
      "✅ Saved: image/image_136.jpg\n",
      "✅ Saved: image/image_137.jpg\n",
      "✅ Saved: image/image_138.jpg\n",
      "✅ Saved: image/image_139.jpg\n",
      "✅ Saved: image/image_140.jpg\n",
      "✅ Saved: image/image_141.jpg\n",
      "✅ Saved: image/image_142.jpg\n",
      "✅ Saved: image/image_143.jpg\n",
      "✅ Saved: image/image_144.jpg\n",
      "✅ Saved: image/image_145.jpg\n",
      "✅ Saved: image/image_146.jpg\n",
      "✅ Saved: image/image_147.jpg\n",
      "✅ Saved: image/image_148.jpg\n",
      "✅ Saved: image/image_149.jpg\n",
      "✅ Saved: image/image_150.jpg\n",
      "✅ Saved: image/image_151.jpg\n",
      "✅ Saved: image/image_152.jpg\n",
      "✅ Saved: image/image_153.jpg\n",
      "✅ Saved: image/image_154.jpg\n",
      "✅ Saved: image/image_155.jpg\n",
      "✅ Saved: image/image_156.jpg\n",
      "✅ Saved: image/image_157.jpg\n",
      "✅ Saved: image/image_158.jpg\n",
      "✅ Saved: image/image_159.jpg\n",
      "✅ Saved: image/image_160.jpg\n",
      "✅ Saved: image/image_161.jpg\n",
      "✅ Saved: image/image_162.jpg\n",
      "✅ Saved: image/image_163.jpg\n",
      "✅ Saved: image/image_164.jpg\n",
      "✅ Saved: image/image_165.jpg\n",
      "✅ Saved: image/image_166.jpg\n",
      "✅ Saved: image/image_167.jpg\n",
      "✅ Saved: image/image_168.jpg\n",
      "✅ Saved: image/image_169.jpg\n",
      "✅ Saved: image/image_170.jpg\n",
      "✅ Saved: image/image_171.jpg\n",
      "✅ Saved: image/image_172.jpg\n",
      "✅ Saved: image/image_173.jpg\n",
      "✅ Saved: image/image_174.jpg\n",
      "✅ Saved: image/image_175.jpg\n",
      "✅ Saved: image/image_176.jpg\n",
      "✅ Saved: image/image_177.jpg\n",
      "✅ Saved: image/image_178.jpg\n",
      "✅ Saved: image/image_179.jpg\n",
      "✅ Saved: image/image_180.jpg\n",
      "✅ Saved: image/image_181.jpg\n",
      "✅ Saved: image/image_182.jpg\n",
      "✅ Saved: image/image_183.jpg\n",
      "✅ Saved: image/image_184.jpg\n",
      "✅ Saved: image/image_185.jpg\n",
      "✅ Saved: image/image_186.jpg\n",
      "✅ Saved: image/image_187.jpg\n",
      "✅ Saved: image/image_188.jpg\n",
      "✅ Saved: image/image_189.jpg\n",
      "✅ Saved: image/image_190.jpg\n",
      "✅ Saved: image/image_191.jpg\n",
      "✅ Saved: image/image_192.jpg\n",
      "✅ Saved: image/image_193.jpg\n",
      "✅ Saved: image/image_194.jpg\n",
      "✅ Saved: image/image_195.jpg\n",
      "✅ Saved: image/image_196.jpg\n",
      "✅ Saved: image/image_197.jpg\n",
      "✅ Saved: image/image_198.jpg\n",
      "✅ Saved: image/image_199.jpg\n",
      "✅ Saved: image/image_200.jpg\n",
      "✅ Saved: image/image_201.jpg\n",
      "✅ Saved: image/image_202.jpg\n",
      "✅ Saved: image/image_203.jpg\n",
      "✅ Saved: image/image_204.jpg\n",
      "✅ Saved: image/image_205.jpg\n",
      "✅ Saved: image/image_206.jpg\n",
      "✅ Saved: image/image_207.jpg\n",
      "✅ Saved: image/image_208.jpg\n",
      "✅ Saved: image/image_209.jpg\n",
      "✅ Saved: image/image_210.jpg\n",
      "✅ Saved: image/image_211.jpg\n",
      "✅ Saved: image/image_212.jpg\n",
      "✅ Saved: image/image_213.jpg\n",
      "✅ Saved: image/image_214.jpg\n",
      "✅ Saved: image/image_215.jpg\n",
      "✅ Saved: image/image_216.jpg\n",
      "✅ Saved: image/image_217.jpg\n",
      "✅ Saved: image/image_218.jpg\n",
      "✅ Saved: image/image_219.jpg\n",
      "✅ Saved: image/image_220.jpg\n",
      "✅ Saved: image/image_221.jpg\n",
      "✅ Saved: image/image_222.jpg\n",
      "✅ Saved: image/image_223.jpg\n",
      "✅ Saved: image/image_224.jpg\n",
      "✅ Saved: image/image_225.jpg\n",
      "✅ Saved: image/image_226.jpg\n",
      "✅ Saved: image/image_227.jpg\n",
      "✅ Saved: image/image_228.jpg\n",
      "✅ Saved: image/image_229.jpg\n",
      "✅ Saved: image/image_230.jpg\n",
      "✅ Saved: image/image_231.jpg\n",
      "✅ Saved: image/image_232.jpg\n",
      "✅ Saved: image/image_233.jpg\n",
      "✅ Saved: image/image_234.jpg\n",
      "✅ Saved: image/image_235.jpg\n",
      "✅ Saved: image/image_236.jpg\n",
      "✅ Saved: image/image_237.jpg\n",
      "✅ Saved: image/image_238.jpg\n",
      "✅ Saved: image/image_239.jpg\n",
      "✅ Saved: image/image_240.jpg\n",
      "✅ Saved: image/image_241.jpg\n",
      "✅ Saved: image/image_242.jpg\n",
      "✅ Saved: image/image_243.jpg\n",
      "✅ Saved: image/image_244.jpg\n",
      "✅ Saved: image/image_245.jpg\n",
      "✅ Saved: image/image_246.jpg\n",
      "✅ Saved: image/image_247.jpg\n",
      "✅ Saved: image/image_248.jpg\n",
      "✅ Saved: image/image_249.jpg\n",
      "✅ Saved: image/image_250.jpg\n",
      "✅ Saved: image/image_251.jpg\n",
      "✅ Saved: image/image_252.jpg\n",
      "✅ Saved: image/image_253.jpg\n",
      "✅ Saved: image/image_254.jpg\n",
      "✅ Saved: image/image_255.jpg\n",
      "✅ Saved: image/image_256.jpg\n",
      "✅ Saved: image/image_257.jpg\n",
      "✅ Saved: image/image_258.jpg\n",
      "✅ Saved: image/image_259.jpg\n",
      "✅ Saved: image/image_260.jpg\n",
      "✅ Saved: image/image_261.jpg\n",
      "✅ Saved: image/image_262.jpg\n",
      "✅ Saved: image/image_263.jpg\n",
      "✅ Saved: image/image_264.jpg\n",
      "✅ Saved: image/image_265.jpg\n",
      "✅ Saved: image/image_266.jpg\n",
      "✅ Saved: image/image_267.jpg\n",
      "✅ Saved: image/image_268.jpg\n",
      "✅ Saved: image/image_269.jpg\n",
      "✅ Saved: image/image_270.jpg\n",
      "✅ Saved: image/image_271.jpg\n",
      "✅ Saved: image/image_272.jpg\n",
      "✅ Saved: image/image_273.jpg\n",
      "✅ Saved: image/image_274.jpg\n",
      "✅ Saved: image/image_275.jpg\n",
      "✅ Saved: image/image_276.jpg\n",
      "✅ Saved: image/image_277.jpg\n",
      "✅ Saved: image/image_278.jpg\n",
      "✅ Saved: image/image_279.jpg\n",
      "✅ Saved: image/image_280.jpg\n",
      "✅ Saved: image/image_281.jpg\n",
      "✅ Saved: image/image_282.jpg\n",
      "✅ Saved: image/image_283.jpg\n",
      "✅ Saved: image/image_284.jpg\n",
      "✅ Saved: image/image_285.jpg\n",
      "✅ Saved: image/image_286.jpg\n",
      "✅ Saved: image/image_287.jpg\n",
      "✅ Saved: image/image_288.jpg\n",
      "✅ Saved: image/image_289.jpg\n",
      "✅ Saved: image/image_290.jpg\n",
      "✅ Saved: image/image_291.jpg\n",
      "✅ Saved: image/image_292.jpg\n",
      "✅ Saved: image/image_293.jpg\n",
      "✅ Saved: image/image_294.jpg\n",
      "✅ Saved: image/image_295.jpg\n",
      "✅ Saved: image/image_296.jpg\n",
      "✅ Saved: image/image_297.jpg\n",
      "✅ Saved: image/image_298.jpg\n",
      "✅ Saved: image/image_299.jpg\n",
      "✅ Saved: image/image_300.jpg\n",
      "✅ Saved: image/image_301.jpg\n",
      "✅ Saved: image/image_302.jpg\n",
      "✅ Saved: image/image_303.jpg\n",
      "✅ Saved: image/image_304.jpg\n",
      "✅ Saved: image/image_305.jpg\n",
      "✅ Saved: image/image_306.jpg\n",
      "✅ Saved: image/image_307.jpg\n",
      "✅ Saved: image/image_308.jpg\n",
      "✅ Saved: image/image_309.jpg\n",
      "✅ Saved: image/image_310.jpg\n",
      "✅ Saved: image/image_311.jpg\n",
      "✅ Saved: image/image_312.jpg\n",
      "✅ Saved: image/image_313.jpg\n",
      "✅ Saved: image/image_314.jpg\n",
      "✅ Saved: image/image_315.jpg\n",
      "✅ Saved: image/image_316.jpg\n",
      "✅ Saved: image/image_317.jpg\n",
      "✅ Saved: image/image_318.jpg\n",
      "✅ Saved: image/image_319.jpg\n",
      "✅ Saved: image/image_320.jpg\n",
      "✅ Saved: image/image_321.jpg\n",
      "✅ Saved: image/image_322.jpg\n",
      "✅ Saved: image/image_323.jpg\n",
      "✅ Saved: image/image_324.jpg\n",
      "✅ Saved: image/image_325.jpg\n",
      "✅ Saved: image/image_326.jpg\n",
      "✅ Saved: image/image_327.jpg\n",
      "✅ Saved: image/image_328.jpg\n",
      "✅ Saved: image/image_329.jpg\n",
      "✅ Saved: image/image_330.jpg\n",
      "✅ Saved: image/image_331.jpg\n",
      "✅ Saved: image/image_332.jpg\n",
      "✅ Saved: image/image_333.jpg\n",
      "✅ Saved: image/image_334.jpg\n",
      "✅ Saved: image/image_335.jpg\n",
      "✅ Saved: image/image_336.jpg\n",
      "✅ Saved: image/image_337.jpg\n",
      "✅ Saved: image/image_338.jpg\n",
      "✅ Saved: image/image_339.jpg\n",
      "✅ Saved: image/image_340.jpg\n",
      "✅ Saved: image/image_341.jpg\n",
      "✅ Saved: image/image_342.jpg\n",
      "✅ Saved: image/image_343.jpg\n",
      "✅ Saved: image/image_344.jpg\n",
      "✅ Saved: image/image_345.jpg\n",
      "✅ Saved: image/image_346.jpg\n",
      "✅ Saved: image/image_347.jpg\n",
      "✅ Saved: image/image_348.jpg\n",
      "✅ Saved: image/image_349.jpg\n",
      "✅ Saved: image/image_350.jpg\n",
      "✅ Saved: image/image_351.jpg\n",
      "✅ Saved: image/image_352.jpg\n",
      "✅ Saved: image/image_353.jpg\n",
      "✅ Saved: image/image_354.jpg\n",
      "✅ Saved: image/image_355.jpg\n",
      "✅ Saved: image/image_356.jpg\n",
      "✅ Saved: image/image_357.jpg\n",
      "✅ Saved: image/image_358.jpg\n",
      "✅ Saved: image/image_359.jpg\n",
      "✅ Saved: image/image_360.jpg\n",
      "✅ Saved: image/image_361.jpg\n",
      "✅ Saved: image/image_362.jpg\n",
      "✅ Saved: image/image_363.jpg\n",
      "✅ Saved: image/image_364.jpg\n",
      "✅ Saved: image/image_365.jpg\n",
      "✅ Saved: image/image_366.jpg\n",
      "✅ Saved: image/image_367.jpg\n",
      "✅ Saved: image/image_368.jpg\n",
      "✅ Saved: image/image_369.jpg\n",
      "✅ Saved: image/image_370.jpg\n",
      "✅ Saved: image/image_371.jpg\n",
      "✅ Saved: image/image_372.jpg\n",
      "✅ Saved: image/image_373.jpg\n",
      "✅ Saved: image/image_374.jpg\n",
      "✅ Saved: image/image_375.jpg\n",
      "✅ Saved: image/image_376.jpg\n",
      "✅ Saved: image/image_377.jpg\n",
      "✅ Saved: image/image_378.jpg\n",
      "✅ Saved: image/image_379.jpg\n",
      "✅ Saved: image/image_380.jpg\n",
      "✅ Saved: image/image_381.jpg\n",
      "✅ Saved: image/image_382.jpg\n",
      "✅ Saved: image/image_383.jpg\n",
      "✅ Saved: image/image_384.jpg\n",
      "✅ Saved: image/image_385.jpg\n",
      "✅ Saved: image/image_386.jpg\n",
      "✅ Saved: image/image_387.jpg\n",
      "✅ Saved: image/image_388.jpg\n",
      "✅ Saved: image/image_389.jpg\n",
      "✅ Saved: image/image_390.jpg\n",
      "✅ Saved: image/image_391.jpg\n",
      "✅ Saved: image/image_392.jpg\n",
      "✅ Saved: image/image_393.jpg\n",
      "✅ Saved: image/image_394.jpg\n",
      "✅ Saved: image/image_395.jpg\n",
      "✅ Saved: image/image_396.jpg\n",
      "✅ Saved: image/image_397.jpg\n",
      "✅ Saved: image/image_398.jpg\n",
      "✅ Saved: image/image_399.jpg\n",
      "✅ Updated DataFrame saved as 'updated_dataset.csv'!\n"
     ]
    },
    {
     "name": "stderr",
     "output_type": "stream",
     "text": [
      "  0%|          | 0/400 [00:00<?, ?it/s]"
     ]
    },
    {
     "name": "stdout",
     "output_type": "stream",
     "text": [
      "Error processing image at index 0: Numpy is not available\n"
     ]
    },
    {
     "name": "stderr",
     "output_type": "stream",
     "text": [
      "  1%|          | 4/400 [00:00<00:09, 39.80it/s]"
     ]
    },
    {
     "name": "stdout",
     "output_type": "stream",
     "text": [
      "Error processing image at index 1: Numpy is not available\n",
      "Error processing image at index 2: Numpy is not available\n",
      "Error processing image at index 3: Numpy is not available\n",
      "Error processing image at index 4: Numpy is not available\n",
      "Error processing image at index 5: Numpy is not available\n",
      "Error processing image at index 6: Numpy is not available\n"
     ]
    },
    {
     "name": "stderr",
     "output_type": "stream",
     "text": [
      "  2%|▏         | 8/400 [00:01<01:14,  5.29it/s]"
     ]
    },
    {
     "name": "stdout",
     "output_type": "stream",
     "text": [
      "Error processing image at index 7: Numpy is not available\n",
      "Error processing image at index 8: Numpy is not available\n"
     ]
    },
    {
     "name": "stderr",
     "output_type": "stream",
     "text": [
      "  4%|▍         | 15/400 [00:02<00:53,  7.24it/s]"
     ]
    },
    {
     "name": "stdout",
     "output_type": "stream",
     "text": [
      "Error processing image at index 9: Numpy is not available\n",
      "Error processing image at index 10: Numpy is not available\n",
      "Error processing image at index 11: Numpy is not available\n",
      "Error processing image at index 12: Numpy is not available\n",
      "Error processing image at index 13: Numpy is not available\n",
      "Error processing image at index 14: Numpy is not available\n",
      "Error processing image at index 15: Numpy is not available\n",
      "Error processing image at index 16: Numpy is not available\n",
      "Error processing image at index 17: Numpy is not available\n",
      "Error processing image at index 18: Numpy is not available\n"
     ]
    },
    {
     "name": "stderr",
     "output_type": "stream",
     "text": [
      "  6%|▋         | 25/400 [00:02<00:23, 15.98it/s]"
     ]
    },
    {
     "name": "stdout",
     "output_type": "stream",
     "text": [
      "Error processing image at index 19: Numpy is not available\n",
      "Error processing image at index 20: Numpy is not available\n",
      "Error processing image at index 21: Numpy is not available\n",
      "Error processing image at index 22: Numpy is not available\n",
      "Error processing image at index 23: Numpy is not available\n",
      "Error processing image at index 24: Numpy is not available\n",
      "Error processing image at index 25: Numpy is not available\n",
      "Error processing image at index 26: Numpy is not available\n",
      "Error processing image at index 27: Numpy is not available\n",
      "Error processing image at index 28: Numpy is not available\n",
      "Error processing image at index 29: Numpy is not available\n"
     ]
    },
    {
     "name": "stderr",
     "output_type": "stream",
     "text": [
      "  8%|▊         | 31/400 [00:02<00:16, 21.89it/s]"
     ]
    },
    {
     "name": "stdout",
     "output_type": "stream",
     "text": [
      "Error processing image at index 30: Numpy is not available\n",
      "Error processing image at index 31: Numpy is not available\n",
      "Error processing image at index 32: Numpy is not available\n",
      "Error processing image at index 33: Numpy is not available\n",
      "Error processing image at index 34: Numpy is not available\n"
     ]
    },
    {
     "name": "stderr",
     "output_type": "stream",
     "text": [
      " 10%|█         | 41/400 [00:02<00:14, 24.52it/s]"
     ]
    },
    {
     "name": "stdout",
     "output_type": "stream",
     "text": [
      "Error processing image at index 35: Numpy is not available\n",
      "Error processing image at index 36: Numpy is not available\n",
      "Error processing image at index 37: Numpy is not available\n",
      "Error processing image at index 38: Numpy is not available\n",
      "Error processing image at index 39: Numpy is not available\n",
      "Error processing image at index 40: Numpy is not available\n",
      "Error processing image at index 41: Numpy is not available\n"
     ]
    },
    {
     "name": "stderr",
     "output_type": "stream",
     "text": [
      " 13%|█▎        | 52/400 [00:03<00:10, 34.11it/s]"
     ]
    },
    {
     "name": "stdout",
     "output_type": "stream",
     "text": [
      "Error processing image at index 42: Numpy is not available\n",
      "Error processing image at index 43: Numpy is not available\n",
      "Error processing image at index 44: Numpy is not available\n",
      "Error processing image at index 45: Numpy is not available\n",
      "Error processing image at index 46: Numpy is not available\n",
      "Error processing image at index 47: Numpy is not available\n",
      "Error processing image at index 48: Numpy is not available\n",
      "Error processing image at index 49: Numpy is not available\n",
      "Error processing image at index 50: Numpy is not available\n",
      "Error processing image at index 51: Numpy is not available\n",
      "Error processing image at index 52: Numpy is not available\n"
     ]
    },
    {
     "name": "stderr",
     "output_type": "stream",
     "text": [
      " 16%|█▌        | 63/400 [00:03<00:08, 39.69it/s]"
     ]
    },
    {
     "name": "stdout",
     "output_type": "stream",
     "text": [
      "Error processing image at index 53: Numpy is not available\n",
      "Error processing image at index 54: Numpy is not available\n",
      "Error processing image at index 55: Numpy is not available\n",
      "Error processing image at index 56: Numpy is not available\n",
      "Error processing image at index 57: Numpy is not available\n",
      "Error processing image at index 58: Numpy is not available\n",
      "Error processing image at index 59: Numpy is not available\n",
      "Error processing image at index 60: Numpy is not available\n",
      "Error processing image at index 61: Numpy is not available\n",
      "Error processing image at index 62: Numpy is not available\n"
     ]
    },
    {
     "name": "stderr",
     "output_type": "stream",
     "text": [
      " 18%|█▊        | 73/400 [00:03<00:07, 42.89it/s]"
     ]
    },
    {
     "name": "stdout",
     "output_type": "stream",
     "text": [
      "Error processing image at index 63: Numpy is not available\n",
      "Error processing image at index 64: Numpy is not available\n",
      "Error processing image at index 65: Numpy is not available\n",
      "Error processing image at index 66: Numpy is not available\n",
      "Error processing image at index 67: Numpy is not available\n",
      "Error processing image at index 68: Numpy is not available\n",
      "Error processing image at index 69: Numpy is not available\n",
      "Error processing image at index 70: Numpy is not available\n",
      "Error processing image at index 71: Numpy is not available\n",
      "Error processing image at index 72: Numpy is not available\n"
     ]
    },
    {
     "name": "stderr",
     "output_type": "stream",
     "text": [
      " 20%|█▉        | 79/400 [00:03<00:07, 45.38it/s]"
     ]
    },
    {
     "name": "stdout",
     "output_type": "stream",
     "text": [
      "Error processing image at index 73: Numpy is not available\n",
      "Error processing image at index 74: Numpy is not available\n",
      "Error processing image at index 75: Numpy is not available\n",
      "Error processing image at index 76: Numpy is not available\n",
      "Error processing image at index 77: Numpy is not available\n",
      "Error processing image at index 78: Numpy is not available\n",
      "Error processing image at index 79: Numpy is not available\n",
      "Error processing image at index 80: Numpy is not available\n",
      "Error processing image at index 81: Numpy is not available\n"
     ]
    },
    {
     "name": "stderr",
     "output_type": "stream",
     "text": [
      " 22%|██▏       | 89/400 [00:04<00:17, 18.01it/s]"
     ]
    },
    {
     "name": "stdout",
     "output_type": "stream",
     "text": [
      "Error processing image at index 82: Numpy is not available\n",
      "Error processing image at index 83: Numpy is not available\n",
      "Error processing image at index 84: Numpy is not available\n",
      "Error processing image at index 85: Numpy is not available\n",
      "Error processing image at index 86: Numpy is not available\n",
      "Error processing image at index 87: Numpy is not available\n",
      "Error processing image at index 88: Numpy is not available\n",
      "Error processing image at index 89: Numpy is not available\n",
      "Error processing image at index 90: Numpy is not available\n",
      "Error processing image at index 91: Numpy is not available\n"
     ]
    },
    {
     "name": "stderr",
     "output_type": "stream",
     "text": [
      " 25%|██▍       | 99/400 [00:05<00:11, 25.92it/s]"
     ]
    },
    {
     "name": "stdout",
     "output_type": "stream",
     "text": [
      "Error processing image at index 92: Numpy is not available\n",
      "Error processing image at index 93: Numpy is not available\n",
      "Error processing image at index 94: Numpy is not available\n",
      "Error processing image at index 95: Numpy is not available\n",
      "Error processing image at index 96: Numpy is not available\n",
      "Error processing image at index 97: Numpy is not available\n",
      "Error processing image at index 98: Numpy is not available\n",
      "Error processing image at index 99: Numpy is not available\n",
      "Error processing image at index 100: Numpy is not available\n"
     ]
    },
    {
     "name": "stderr",
     "output_type": "stream",
     "text": [
      " 27%|██▋       | 109/400 [00:05<00:08, 32.68it/s]"
     ]
    },
    {
     "name": "stdout",
     "output_type": "stream",
     "text": [
      "Error processing image at index 101: Numpy is not available\n",
      "Error processing image at index 102: Numpy is not available\n",
      "Error processing image at index 103: Numpy is not available\n",
      "Error processing image at index 104: Numpy is not available\n",
      "Error processing image at index 105: Numpy is not available\n",
      "Error processing image at index 106: Numpy is not available\n",
      "Error processing image at index 107: Numpy is not available\n",
      "Error processing image at index 108: Numpy is not available\n",
      "Error processing image at index 109: Numpy is not available\n",
      "Error processing image at index 110: Numpy is not available\n"
     ]
    },
    {
     "name": "stderr",
     "output_type": "stream",
     "text": [
      " 30%|███       | 120/400 [00:05<00:07, 39.42it/s]"
     ]
    },
    {
     "name": "stdout",
     "output_type": "stream",
     "text": [
      "Error processing image at index 111: Numpy is not available\n",
      "Error processing image at index 112: Numpy is not available\n",
      "Error processing image at index 113: Numpy is not available\n",
      "Error processing image at index 114: Numpy is not available\n",
      "Error processing image at index 115: Numpy is not available\n",
      "Error processing image at index 116: Numpy is not available\n",
      "Error processing image at index 117: Numpy is not available\n",
      "Error processing image at index 118: Numpy is not available\n",
      "Error processing image at index 119: Numpy is not available\n",
      "Error processing image at index 120: Numpy is not available\n"
     ]
    },
    {
     "name": "stderr",
     "output_type": "stream",
     "text": [
      " 32%|███▎      | 130/400 [00:05<00:06, 43.11it/s]"
     ]
    },
    {
     "name": "stdout",
     "output_type": "stream",
     "text": [
      "Error processing image at index 121: Numpy is not available\n",
      "Error processing image at index 122: Numpy is not available\n",
      "Error processing image at index 123: Numpy is not available\n",
      "Error processing image at index 124: Numpy is not available\n",
      "Error processing image at index 125: Numpy is not available\n",
      "Error processing image at index 126: Numpy is not available\n",
      "Error processing image at index 127: Numpy is not available\n",
      "Error processing image at index 128: Numpy is not available\n",
      "Error processing image at index 129: Numpy is not available\n",
      "Error processing image at index 130: Numpy is not available\n",
      "Error processing image at index 131: Numpy is not available\n"
     ]
    },
    {
     "name": "stderr",
     "output_type": "stream",
     "text": [
      " 35%|███▌      | 140/400 [00:07<00:18, 13.93it/s]"
     ]
    },
    {
     "name": "stdout",
     "output_type": "stream",
     "text": [
      "Error processing image at index 132: Numpy is not available\n",
      "Error processing image at index 133: Numpy is not available\n",
      "Error processing image at index 134: Numpy is not available\n",
      "Error processing image at index 135: Numpy is not available\n",
      "Error processing image at index 136: Numpy is not available\n",
      "Error processing image at index 137: Numpy is not available\n",
      "Error processing image at index 138: Numpy is not available\n",
      "Error processing image at index 139: Numpy is not available\n",
      "Error processing image at index 140: Numpy is not available\n"
     ]
    },
    {
     "name": "stderr",
     "output_type": "stream",
     "text": [
      " 38%|███▊      | 150/400 [00:07<00:11, 21.69it/s]"
     ]
    },
    {
     "name": "stdout",
     "output_type": "stream",
     "text": [
      "Error processing image at index 141: Numpy is not available\n",
      "Error processing image at index 142: Numpy is not available\n",
      "Error processing image at index 143: Numpy is not available\n",
      "Error processing image at index 144: Numpy is not available\n",
      "Error processing image at index 145: Numpy is not available\n",
      "Error processing image at index 146: Numpy is not available\n",
      "Error processing image at index 147: Numpy is not available\n",
      "Error processing image at index 148: Numpy is not available\n",
      "Error processing image at index 149: Numpy is not available\n",
      "Error processing image at index 150: Numpy is not available\n",
      "Error processing image at index 151: Numpy is not available\n",
      "Error processing image at index 152: Numpy is not available\n",
      "Error processing image at index 153: Numpy is not available\n"
     ]
    },
    {
     "name": "stderr",
     "output_type": "stream",
     "text": [
      " 40%|████      | 160/400 [00:10<00:37,  6.36it/s]"
     ]
    },
    {
     "name": "stdout",
     "output_type": "stream",
     "text": [
      "Error processing image at index 154: Numpy is not available\n",
      "Error processing image at index 155: Numpy is not available\n",
      "Error processing image at index 156: Numpy is not available\n",
      "Error processing image at index 157: Numpy is not available\n",
      "Error processing image at index 158: Numpy is not available\n",
      "Error processing image at index 159: Numpy is not available\n",
      "Error processing image at index 160: Numpy is not available\n",
      "Error processing image at index 161: Numpy is not available\n",
      "Error processing image at index 162: Numpy is not available\n",
      "Error processing image at index 163: Numpy is not available\n"
     ]
    },
    {
     "name": "stderr",
     "output_type": "stream",
     "text": [
      " 42%|████▏     | 166/400 [00:10<00:26,  9.00it/s]"
     ]
    },
    {
     "name": "stdout",
     "output_type": "stream",
     "text": [
      "Error processing image at index 164: Numpy is not available\n",
      "Error processing image at index 165: Numpy is not available\n",
      "Error processing image at index 166: Numpy is not available\n",
      "Error processing image at index 167: Numpy is not available\n",
      "Error processing image at index 168: Numpy is not available\n"
     ]
    },
    {
     "name": "stderr",
     "output_type": "stream",
     "text": [
      " 44%|████▍     | 175/400 [00:11<00:17, 12.81it/s]"
     ]
    },
    {
     "name": "stdout",
     "output_type": "stream",
     "text": [
      "Error processing image at index 169: Numpy is not available\n",
      "Error processing image at index 170: Numpy is not available\n",
      "Error processing image at index 171: Numpy is not available\n",
      "Error processing image at index 172: Numpy is not available\n",
      "Error processing image at index 173: Numpy is not available\n",
      "Error processing image at index 174: Numpy is not available\n",
      "Error processing image at index 175: Numpy is not available\n"
     ]
    },
    {
     "name": "stderr",
     "output_type": "stream",
     "text": [
      " 45%|████▍     | 179/400 [00:12<00:35,  6.26it/s]"
     ]
    },
    {
     "name": "stdout",
     "output_type": "stream",
     "text": [
      "Error processing image at index 176: Numpy is not available\n",
      "Error processing image at index 177: Numpy is not available\n",
      "Error processing image at index 178: Numpy is not available\n",
      "Error processing image at index 179: Numpy is not available\n",
      "Error processing image at index 180: Numpy is not available\n"
     ]
    },
    {
     "name": "stderr",
     "output_type": "stream",
     "text": [
      " 47%|████▋     | 187/400 [00:13<00:22,  9.41it/s]"
     ]
    },
    {
     "name": "stdout",
     "output_type": "stream",
     "text": [
      "Error processing image at index 181: Numpy is not available\n",
      "Error processing image at index 182: Numpy is not available\n",
      "Error processing image at index 183: Numpy is not available\n",
      "Error processing image at index 184: Numpy is not available\n",
      "Error processing image at index 185: Numpy is not available\n",
      "Error processing image at index 186: Numpy is not available\n",
      "Error processing image at index 187: Numpy is not available\n",
      "Error processing image at index 188: Numpy is not available\n",
      "Error processing image at index 189: Numpy is not available\n",
      "Error processing image at index 190: Numpy is not available\n"
     ]
    },
    {
     "name": "stderr",
     "output_type": "stream",
     "text": [
      " 49%|████▉     | 197/400 [00:13<00:12, 16.68it/s]"
     ]
    },
    {
     "name": "stdout",
     "output_type": "stream",
     "text": [
      "Error processing image at index 191: Numpy is not available\n",
      "Error processing image at index 192: Numpy is not available\n",
      "Error processing image at index 193: Numpy is not available\n",
      "Error processing image at index 194: Numpy is not available\n",
      "Error processing image at index 195: Numpy is not available\n",
      "Error processing image at index 196: Numpy is not available\n",
      "Error processing image at index 197: Numpy is not available\n",
      "Error processing image at index 198: Numpy is not available\n",
      "Error processing image at index 199: Numpy is not available\n"
     ]
    },
    {
     "name": "stderr",
     "output_type": "stream",
     "text": [
      " 50%|█████     | 201/400 [00:13<00:11, 17.70it/s]"
     ]
    },
    {
     "name": "stdout",
     "output_type": "stream",
     "text": [
      "Error processing image at index 200: Numpy is not available\n",
      "Error processing image at index 201: Numpy is not available\n",
      "Error processing image at index 202: Numpy is not available\n"
     ]
    },
    {
     "name": "stderr",
     "output_type": "stream",
     "text": [
      " 52%|█████▏    | 208/400 [00:14<00:13, 14.70it/s]"
     ]
    },
    {
     "name": "stdout",
     "output_type": "stream",
     "text": [
      "Error processing image at index 203: Numpy is not available\n",
      "Error processing image at index 204: Numpy is not available\n",
      "Error processing image at index 205: Numpy is not available\n",
      "Error processing image at index 206: Numpy is not available\n",
      "Error processing image at index 207: Numpy is not available\n",
      "Error processing image at index 208: Numpy is not available\n",
      "Error processing image at index 209: Numpy is not available\n",
      "Error processing image at index 210: Numpy is not available\n"
     ]
    },
    {
     "name": "stderr",
     "output_type": "stream",
     "text": [
      " 55%|█████▍    | 218/400 [00:14<00:07, 24.14it/s]"
     ]
    },
    {
     "name": "stdout",
     "output_type": "stream",
     "text": [
      "Error processing image at index 211: Numpy is not available\n",
      "Error processing image at index 212: Numpy is not available\n",
      "Error processing image at index 213: Numpy is not available\n",
      "Error processing image at index 214: Numpy is not available\n",
      "Error processing image at index 215: Numpy is not available\n",
      "Error processing image at index 216: Numpy is not available\n",
      "Error processing image at index 217: Numpy is not available\n",
      "Error processing image at index 218: Numpy is not available\n",
      "Error processing image at index 219: Numpy is not available\n",
      "Error processing image at index 220: Numpy is not available\n"
     ]
    },
    {
     "name": "stderr",
     "output_type": "stream",
     "text": [
      " 57%|█████▋    | 227/400 [00:14<00:05, 29.74it/s]"
     ]
    },
    {
     "name": "stdout",
     "output_type": "stream",
     "text": [
      "Error processing image at index 221: Numpy is not available\n",
      "Error processing image at index 222: Numpy is not available\n",
      "Error processing image at index 223: Numpy is not available\n",
      "Error processing image at index 224: Numpy is not available\n",
      "Error processing image at index 225: Numpy is not available\n",
      "Error processing image at index 226: Numpy is not available\n",
      "Error processing image at index 227: Numpy is not available\n",
      "Error processing image at index 228: Numpy is not available\n",
      "Error processing image at index 229: Numpy is not available\n",
      "Error processing image at index 230: Numpy is not available\n",
      "Error processing image at index 231: Numpy is not available\n"
     ]
    },
    {
     "name": "stderr",
     "output_type": "stream",
     "text": [
      " 60%|█████▉    | 238/400 [00:14<00:04, 32.92it/s]"
     ]
    },
    {
     "name": "stdout",
     "output_type": "stream",
     "text": [
      "Error processing image at index 232: Numpy is not available\n",
      "Error processing image at index 233: Numpy is not available\n",
      "Error processing image at index 234: Numpy is not available\n",
      "Error processing image at index 235: Numpy is not available\n",
      "Error processing image at index 236: Numpy is not available\n",
      "Error processing image at index 237: Numpy is not available\n",
      "Error processing image at index 238: Numpy is not available\n"
     ]
    },
    {
     "name": "stderr",
     "output_type": "stream",
     "text": [
      " 61%|██████    | 244/400 [00:14<00:04, 37.81it/s]"
     ]
    },
    {
     "name": "stdout",
     "output_type": "stream",
     "text": [
      "Error processing image at index 239: Numpy is not available\n",
      "Error processing image at index 240: Numpy is not available\n",
      "Error processing image at index 241: Numpy is not available\n",
      "Error processing image at index 242: Numpy is not available\n",
      "Error processing image at index 243: Numpy is not available\n",
      "Error processing image at index 244: Numpy is not available\n"
     ]
    },
    {
     "name": "stderr",
     "output_type": "stream",
     "text": [
      " 64%|██████▎   | 254/400 [00:16<00:14, 10.34it/s]"
     ]
    },
    {
     "name": "stdout",
     "output_type": "stream",
     "text": [
      "Error processing image at index 245: Numpy is not available\n",
      "Error processing image at index 246: Numpy is not available\n",
      "Error processing image at index 247: Numpy is not available\n",
      "Error processing image at index 248: Numpy is not available\n",
      "Error processing image at index 249: Numpy is not available\n",
      "Error processing image at index 250: Numpy is not available\n",
      "Error processing image at index 251: Numpy is not available\n",
      "Error processing image at index 252: Numpy is not available\n",
      "Error processing image at index 253: Numpy is not available\n",
      "Error processing image at index 254: Numpy is not available\n"
     ]
    },
    {
     "name": "stderr",
     "output_type": "stream",
     "text": [
      " 66%|██████▋   | 265/400 [00:17<00:07, 17.50it/s]"
     ]
    },
    {
     "name": "stdout",
     "output_type": "stream",
     "text": [
      "Error processing image at index 255: Numpy is not available\n",
      "Error processing image at index 256: Numpy is not available\n",
      "Error processing image at index 257: Numpy is not available\n",
      "Error processing image at index 258: Numpy is not available\n",
      "Error processing image at index 259: Numpy is not available\n",
      "Error processing image at index 260: Numpy is not available\n",
      "Error processing image at index 261: Numpy is not available\n",
      "Error processing image at index 262: Numpy is not available\n",
      "Error processing image at index 263: Numpy is not available\n",
      "Error processing image at index 264: Numpy is not available\n",
      "Error processing image at index 265: Numpy is not available\n",
      "Error processing image at index 266: Numpy is not available\n"
     ]
    },
    {
     "name": "stderr",
     "output_type": "stream",
     "text": [
      " 69%|██████▉   | 276/400 [00:18<00:08, 15.06it/s]"
     ]
    },
    {
     "name": "stdout",
     "output_type": "stream",
     "text": [
      "Error processing image at index 267: Numpy is not available\n",
      "Error processing image at index 268: Numpy is not available\n",
      "Error processing image at index 269: Numpy is not available\n",
      "Error processing image at index 270: Numpy is not available\n",
      "Error processing image at index 271: Numpy is not available\n",
      "Error processing image at index 272: Numpy is not available\n",
      "Error processing image at index 273: Numpy is not available\n",
      "Error processing image at index 274: Numpy is not available\n",
      "Error processing image at index 275: Numpy is not available\n",
      "Error processing image at index 276: Numpy is not available\n",
      "Error processing image at index 277: Numpy is not available\n"
     ]
    },
    {
     "name": "stderr",
     "output_type": "stream",
     "text": [
      " 71%|███████   | 284/400 [00:18<00:08, 13.08it/s]"
     ]
    },
    {
     "name": "stdout",
     "output_type": "stream",
     "text": [
      "Error processing image at index 278: Numpy is not available\n",
      "Error processing image at index 279: Numpy is not available\n",
      "Error processing image at index 280: Numpy is not available\n",
      "Error processing image at index 281: Numpy is not available\n",
      "Error processing image at index 282: Numpy is not available\n",
      "Error processing image at index 283: Numpy is not available\n"
     ]
    },
    {
     "name": "stderr",
     "output_type": "stream",
     "text": [
      " 72%|███████▏  | 287/400 [00:20<00:16,  6.96it/s]"
     ]
    },
    {
     "name": "stdout",
     "output_type": "stream",
     "text": [
      "Error processing image at index 284: Numpy is not available\n",
      "Error processing image at index 285: Numpy is not available\n",
      "Error processing image at index 286: Numpy is not available\n",
      "Error processing image at index 287: Numpy is not available\n"
     ]
    },
    {
     "name": "stderr",
     "output_type": "stream",
     "text": [
      " 74%|███████▍  | 295/400 [00:21<00:12,  8.32it/s]"
     ]
    },
    {
     "name": "stdout",
     "output_type": "stream",
     "text": [
      "Error processing image at index 288: Numpy is not available\n",
      "Error processing image at index 289: Numpy is not available\n",
      "Error processing image at index 290: Numpy is not available\n",
      "Error processing image at index 291: Numpy is not available\n",
      "Error processing image at index 292: Numpy is not available\n",
      "Error processing image at index 293: Numpy is not available\n",
      "Error processing image at index 294: Numpy is not available\n",
      "Error processing image at index 295: Numpy is not available\n",
      "Error processing image at index 296: Numpy is not available\n",
      "Error processing image at index 297: Numpy is not available\n"
     ]
    },
    {
     "name": "stderr",
     "output_type": "stream",
     "text": [
      " 76%|███████▋  | 306/400 [00:21<00:05, 16.15it/s]"
     ]
    },
    {
     "name": "stdout",
     "output_type": "stream",
     "text": [
      "Error processing image at index 298: Numpy is not available\n",
      "Error processing image at index 299: Numpy is not available\n",
      "Error processing image at index 300: Numpy is not available\n",
      "Error processing image at index 301: Numpy is not available\n",
      "Error processing image at index 302: Numpy is not available\n",
      "Error processing image at index 303: Numpy is not available\n",
      "Error processing image at index 304: Numpy is not available\n",
      "Error processing image at index 305: Numpy is not available\n",
      "Error processing image at index 306: Numpy is not available\n",
      "Error processing image at index 307: Numpy is not available\n"
     ]
    },
    {
     "name": "stderr",
     "output_type": "stream",
     "text": [
      " 79%|███████▉  | 315/400 [00:21<00:03, 21.69it/s]"
     ]
    },
    {
     "name": "stdout",
     "output_type": "stream",
     "text": [
      "Error processing image at index 308: Numpy is not available\n",
      "Error processing image at index 309: Numpy is not available\n",
      "Error processing image at index 310: Numpy is not available\n",
      "Error processing image at index 311: Numpy is not available\n",
      "Error processing image at index 312: Numpy is not available\n",
      "Error processing image at index 313: Numpy is not available\n",
      "Error processing image at index 314: Numpy is not available\n",
      "Error processing image at index 315: Numpy is not available\n",
      "Error processing image at index 316: Numpy is not available\n"
     ]
    },
    {
     "name": "stderr",
     "output_type": "stream",
     "text": [
      " 80%|███████▉  | 319/400 [00:22<00:08,  9.78it/s]"
     ]
    },
    {
     "name": "stdout",
     "output_type": "stream",
     "text": [
      "Error processing image at index 317: Numpy is not available\n",
      "Error processing image at index 318: Numpy is not available\n",
      "Error processing image at index 319: Numpy is not available\n",
      "Error processing image at index 320: Numpy is not available\n"
     ]
    },
    {
     "name": "stderr",
     "output_type": "stream",
     "text": [
      " 82%|████████▏ | 328/400 [00:22<00:05, 14.29it/s]"
     ]
    },
    {
     "name": "stdout",
     "output_type": "stream",
     "text": [
      "Error processing image at index 321: Numpy is not available\n",
      "Error processing image at index 322: Numpy is not available\n",
      "Error processing image at index 323: Numpy is not available\n",
      "Error processing image at index 324: Numpy is not available\n",
      "Error processing image at index 325: Numpy is not available\n",
      "Error processing image at index 326: Numpy is not available\n",
      "Error processing image at index 327: Numpy is not available\n",
      "Error processing image at index 328: Numpy is not available\n",
      "Unexpected exception formatting exception. Falling back to standard exception\n"
     ]
    },
    {
     "name": "stderr",
     "output_type": "stream",
     "text": [
      "\n",
      "Traceback (most recent call last):\n",
      "  File \"/tmp/ipykernel_2581/50784099.py\", line 64, in process_image_from_df\n",
      "    full_caption_string = depth_kosmos_captioner.get_caption_with_depth(image)\n",
      "  File \"/root/Depth-SoM/depth_kosmos.py\", line 141, in get_caption_with_depth\n",
      "    images = self.depth_context.make_depth_context_img(image)\n",
      "  File \"/root/Depth-SoM/depth_kosmos.py\", line 77, in make_depth_context_img\n",
      "    all_outputs = self.on_submit(image_array)\n",
      "  File \"/root/Depth-SoM/depth_kosmos.py\", line 61, in on_submit\n",
      "    depth = self.predict_depth(image[:, :, ::-1])\n",
      "  File \"/root/Depth-SoM/depth_kosmos.py\", line 57, in predict_depth\n",
      "    return self.model.infer_image(image)\n",
      "  File \"/usr/local/lib/python3.10/dist-packages/torch/utils/_contextlib.py\", line 115, in decorate_context\n",
      "    return func(*args, **kwargs)\n",
      "  File \"/root/Depth-SoM/Depth-Anything-V2/depth_anything_v2/dpt.py\", line 188, in infer_image\n",
      "    image, (h, w) = self.image2tensor(raw_image, input_size)\n",
      "  File \"/root/Depth-SoM/Depth-Anything-V2/depth_anything_v2/dpt.py\", line 216, in image2tensor\n",
      "    image = torch.from_numpy(image).unsqueeze(0)\n",
      "RuntimeError: Numpy is not available\n",
      "\n",
      "During handling of the above exception, another exception occurred:\n",
      "\n",
      "Traceback (most recent call last):\n",
      "  File \"/usr/local/lib/python3.10/dist-packages/IPython/core/interactiveshell.py\", line 3548, in run_code\n",
      "    exec(code_obj, self.user_global_ns, self.user_ns)\n",
      "  File \"/tmp/ipykernel_2581/50784099.py\", line 123, in <module>\n",
      "    df = process_image_from_df(df, depth_kosmos_captioner, image_to_process)\n",
      "  File \"/tmp/ipykernel_2581/50784099.py\", line 73, in process_image_from_df\n",
      "    df.loc[index, \"depth_caption\"] = \"Error\"\n",
      "  File \"/usr/local/lib/python3.10/dist-packages/pandas/core/indexing.py\", line 907, in __setitem__\n",
      "    indexer = self._get_setitem_indexer(key)\n",
      "  File \"/usr/local/lib/python3.10/dist-packages/pandas/core/indexing.py\", line 750, in _get_setitem_indexer\n",
      "    self._ensure_listlike_indexer(key)\n",
      "  File \"/usr/local/lib/python3.10/dist-packages/pandas/core/indexing.py\", line 844, in _ensure_listlike_indexer\n",
      "    if self.ndim != 2:\n",
      "  File \"indexing.pyx\", line 23, in pandas._libs.indexing.NDFrameIndexerBase.ndim.__get__\n",
      "  File \"/usr/local/lib/python3.10/dist-packages/pandas/core/generic.py\", line 696, in ndim\n",
      "    @final\n",
      "KeyboardInterrupt\n",
      "\n",
      "During handling of the above exception, another exception occurred:\n",
      "\n",
      "Traceback (most recent call last):\n",
      "  File \"/usr/local/lib/python3.10/dist-packages/IPython/core/interactiveshell.py\", line 2142, in showtraceback\n",
      "    stb = self.InteractiveTB.structured_traceback(\n",
      "  File \"/usr/local/lib/python3.10/dist-packages/IPython/core/ultratb.py\", line 1435, in structured_traceback\n",
      "    return FormattedTB.structured_traceback(\n",
      "  File \"/usr/local/lib/python3.10/dist-packages/IPython/core/ultratb.py\", line 1326, in structured_traceback\n",
      "    return VerboseTB.structured_traceback(\n",
      "  File \"/usr/local/lib/python3.10/dist-packages/IPython/core/ultratb.py\", line 1173, in structured_traceback\n",
      "    formatted_exception = self.format_exception_as_a_whole(etype, evalue, etb, number_of_lines_of_context,\n",
      "  File \"/usr/local/lib/python3.10/dist-packages/IPython/core/ultratb.py\", line 1063, in format_exception_as_a_whole\n",
      "    self.get_records(etb, number_of_lines_of_context, tb_offset) if etb else []\n",
      "  File \"/usr/local/lib/python3.10/dist-packages/IPython/core/ultratb.py\", line 1155, in get_records\n",
      "    FrameInfo(\n",
      "  File \"/usr/local/lib/python3.10/dist-packages/IPython/core/ultratb.py\", line 780, in __init__\n",
      "    ix = inspect.getsourcelines(frame)\n",
      "  File \"/usr/lib/python3.10/inspect.py\", line 1121, in getsourcelines\n",
      "    lines, lnum = findsource(object)\n",
      "  File \"/usr/lib/python3.10/inspect.py\", line 950, in findsource\n",
      "    raise OSError('source code not available')\n",
      "OSError: source code not available\n"
     ]
    }
   ],
   "source": [
    "import os\n",
    "import io\n",
    "import pandas as pd\n",
    "from PIL import Image as Image_PIL\n",
    "import shutil\n",
    "from datasets import load_dataset, Dataset, Image\n",
    "from tqdm import tqdm\n",
    "from huggingface_hub import login\n",
    "from dotenv import load_dotenv\n",
    "import os\n",
    "\n",
    "load_dotenv()  # Load environment variables from .env file\n",
    "\n",
    "\n",
    "# --- Configuration ---\n",
    "\n",
    "hf_token = os.getenv(\"HF_TOKEN\")\n",
    "\n",
    "hf_user = \"Rajarshi-Roy-research\"\n",
    "# dataset_name = \"Flickr30k_Grounding_Som\"\n",
    "# commit_message = \"Updating dataset with image paths\"\n",
    "# img_cols = [\"image\",\"wbox_image\"]\n",
    "# image_to_process = \"image\"\n",
    "\n",
    "dataset_name = \"refcocog-eval-depth\"\n",
    "commit_message = \"Updating dataset with images and depth caption\"\n",
    "img_cols = [\"image\"]\n",
    "image_to_process = \"image\"\n",
    "\n",
    "# --- Helper Functions ---\n",
    "def save_image_from_bytes(image_data, idx, image_folder):\n",
    "    \"\"\"Saves an image from byte data and returns the saved file path.\"\"\"\n",
    "    try:\n",
    "        image_bytes = image_data.get(\"bytes\", None)\n",
    "        if image_bytes:\n",
    "            image = Image_PIL.open(io.BytesIO(image_bytes))\n",
    "            image_path = os.path.join(image_folder, f\"image_{idx}.jpg\")\n",
    "            image.save(image_path, format=\"JPEG\")\n",
    "            print(f\"✅ Saved: {image_path}\")\n",
    "            return image_path\n",
    "        else:\n",
    "            print(f\"⚠️ Skipped row {idx}: No bytes found\")\n",
    "            return None\n",
    "    except Exception as e:\n",
    "        print(f\"❌ Error saving image at row {idx}: {e}\")\n",
    "        return None\n",
    "\n",
    "def process_image_from_df(df, depth_kosmos_captioner, image_folder):\n",
    "    \"\"\"Processes the DataFrame, adding depth captions and saving progress.\"\"\"\n",
    "    if \"depth_caption\" not in df.columns:\n",
    "        df[\"depth_caption\"] = None\n",
    "\n",
    "    for index, row in tqdm(df.iterrows(), total=len(df)):\n",
    "        if row[\"depth_caption\"] is None:\n",
    "            try:\n",
    "                if isinstance(row[\"image\"], dict): #Handle case where image is still a dict\n",
    "                    image_path = save_image_from_bytes(row[\"image\"], index, image_folder)\n",
    "                    if image_path:\n",
    "                        image = Image_PIL.open(image_path)\n",
    "                        full_caption_string = depth_kosmos_captioner.get_caption_with_depth(image)\n",
    "                        df.loc[index, \"depth_caption\"] = full_caption_string\n",
    "                elif isinstance(row[\"image\"], str): #Handle case where image is a file path\n",
    "                    image = Image_PIL.open(row[\"image\"])\n",
    "                    full_caption_string = depth_kosmos_captioner.get_caption_with_depth(image)\n",
    "                    df.loc[index, \"depth_caption\"] = full_caption_string\n",
    "                else:\n",
    "                    print(f\"⚠️ Unexpected image type at index {index}: {type(row['image'])}\")\n",
    "                    df.loc[index, \"depth_caption\"] = \"Error: Unexpected image type\"\n",
    "\n",
    "                df.to_parquet(\"df_with_captions.parquet\")\n",
    "            except Exception as e:\n",
    "                print(f\"Error processing image at index {index}: {e}\")\n",
    "                df.loc[index, \"depth_caption\"] = \"Error\"\n",
    "                df.to_parquet(\"df_with_captions.parquet\")\n",
    "\n",
    "    return df\n",
    "\n",
    "def push_df_to_hugging_face(df, img_cols, hf_user, dataset_name, commit_message, hf_token, private=False):\n",
    "    \"\"\"Pushes the DataFrame to the Hugging Face Hub.\"\"\"\n",
    "    hf_dataset = Dataset.from_pandas(df)\n",
    "    \n",
    "    for img_col in img_cols:\n",
    "        hf_dataset = hf_dataset.cast_column(img_col, Image())\n",
    "\n",
    "    try:\n",
    "        hf_dataset.push_to_hub(\n",
    "            repo_id=f\"{hf_user}/{dataset_name}\",\n",
    "            commit_message=commit_message,\n",
    "            token=hf_token,\n",
    "            private=private,\n",
    "        )\n",
    "        print(f\"✅ Dataset successfully uploaded: {hf_user}/{dataset_name}\")\n",
    "    except Exception as e:\n",
    "        print(f\"❌ Error pushing to Hugging Face Hub: {e}\")\n",
    "\n",
    "\n",
    "# --- Main Script ---\n",
    "# Clean up existing image folder\n",
    "for img_col in img_cols:\n",
    "    if os.path.exists(img_col):\n",
    "        shutil.rmtree(img_col)\n",
    "    os.makedirs(img_col)\n",
    "\n",
    "# Load dataset\n",
    "ds = load_dataset(f\"{hf_user}/{dataset_name}\")\n",
    "df = ds[\"train\"].to_pandas()\n",
    "\n",
    "for img_col in img_cols:\n",
    "    # Save images and update DataFrame\n",
    "    for i, row in df.iterrows():\n",
    "        if isinstance(row[img_col], dict):\n",
    "            df.at[i, img_col] = save_image_from_bytes(row[img_col], i, img_col)\n",
    "\n",
    "df.to_csv(\"updated_dataset.csv\", index=False)\n",
    "print(\"✅ Updated DataFrame saved as 'updated_dataset.csv'!\")\n",
    "\n",
    "#Process and add captions\n",
    "try:\n",
    "    df = pd.read_csv(\"updated_dataset.csv\")\n",
    "except FileNotFoundError:\n",
    "    pass\n",
    "\n",
    "df = process_image_from_df(df, depth_kosmos_captioner, image_to_process)\n",
    "\n",
    "# Authenticate and push to Hugging Face\n",
    "\n",
    "login(token=hf_token)\n",
    "push_df_to_hugging_face(df, img_cols, hf_user, dataset_name, commit_message, hf_token, private=True)\n",
    "\n",
    "df\n"
   ]
  },
  {
   "cell_type": "code",
   "execution_count": null,
   "metadata": {},
   "outputs": [],
   "source": []
  },
  {
   "cell_type": "code",
   "execution_count": null,
   "metadata": {},
   "outputs": [],
   "source": []
  },
  {
   "cell_type": "code",
   "execution_count": null,
   "metadata": {},
   "outputs": [],
   "source": []
  },
  {
   "cell_type": "code",
   "execution_count": null,
   "metadata": {},
   "outputs": [],
   "source": []
  }
 ],
 "metadata": {
  "kernelspec": {
   "display_name": "Python 3",
   "language": "python",
   "name": "python3"
  },
  "language_info": {
   "codemirror_mode": {
    "name": "ipython",
    "version": 3
   },
   "file_extension": ".py",
   "mimetype": "text/x-python",
   "name": "python",
   "nbconvert_exporter": "python",
   "pygments_lexer": "ipython3",
   "version": "3.10.12"
  }
 },
 "nbformat": 4,
 "nbformat_minor": 2
}
