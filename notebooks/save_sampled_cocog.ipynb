{
 "cells": [
  {
   "cell_type": "code",
   "execution_count": 3,
   "metadata": {},
   "outputs": [],
   "source": [
    "from datasets import load_dataset\n",
    "\n",
    "ds = load_dataset(\"lmms-lab/RefCOCO\")"
   ]
  },
  {
   "cell_type": "code",
   "execution_count": 5,
   "metadata": {},
   "outputs": [
    {
     "name": "stdout",
     "output_type": "stream",
     "text": [
      "Loading dataset...\n"
     ]
    },
    {
     "name": "stdout",
     "output_type": "stream",
     "text": [
      "Sampling 400 examples...\n",
      "Pushing sampled dataset to: Rajarshi-Roy-research/lmms-lab-RefCOCO\n"
     ]
    },
    {
     "data": {
      "application/vnd.jupyter.widget-view+json": {
       "model_id": "dbdc41321ac44dc9987a6a45afa19803",
       "version_major": 2,
       "version_minor": 0
      },
      "text/plain": [
       "Uploading the dataset shards:   0%|          | 0/1 [00:00<?, ?it/s]"
      ]
     },
     "metadata": {},
     "output_type": "display_data"
    },
    {
     "data": {
      "application/vnd.jupyter.widget-view+json": {
       "model_id": "3b02e76afef644ee9454b16facf92fe6",
       "version_major": 2,
       "version_minor": 0
      },
      "text/plain": [
       "Map:   0%|          | 0/400 [00:00<?, ? examples/s]"
      ]
     },
     "metadata": {},
     "output_type": "display_data"
    },
    {
     "data": {
      "application/vnd.jupyter.widget-view+json": {
       "model_id": "8566520701bc43e7a5405d8104b0c068",
       "version_major": 2,
       "version_minor": 0
      },
      "text/plain": [
       "Creating parquet from Arrow format:   0%|          | 0/4 [00:00<?, ?ba/s]"
      ]
     },
     "metadata": {},
     "output_type": "display_data"
    },
    {
     "name": "stdout",
     "output_type": "stream",
     "text": [
      "✅ Successfully pushed 400 samples to the Hugging Face Hub.\n"
     ]
    }
   ],
   "source": [
    "import os\n",
    "from datasets import load_dataset\n",
    "from dotenv import load_dotenv\n",
    "from huggingface_hub import HfFolder\n",
    "\n",
    "# Load Hugging Face token from .env\n",
    "load_dotenv()\n",
    "HF_TOKEN = os.getenv(\"HF_TOKEN\")\n",
    "\n",
    "if HF_TOKEN is None:\n",
    "    raise ValueError(\"HF_TOKEN not found in .env file\")\n",
    "\n",
    "# Save token for datasets & hub usage\n",
    "HfFolder.save_token(HF_TOKEN)\n",
    "\n",
    "# Load the RefCOCO dataset\n",
    "print(\"Loading dataset...\")\n",
    "ds = load_dataset(\"lmms-lab/RefCOCO\", split=\"testB\")\n",
    "\n",
    "# Sample 400 examples\n",
    "print(\"Sampling 400 examples...\")\n",
    "sampled_ds = ds.shuffle(seed=42).select(range(400))\n",
    "\n",
    "# Push to the new repo\n",
    "repo_id = \"Rajarshi-Roy-research/lmms-lab-RefCOCO\"\n",
    "print(f\"Pushing sampled dataset to: {repo_id}\")\n",
    "sampled_ds.push_to_hub(repo_id)\n",
    "\n",
    "print(\"✅ Successfully pushed 400 samples to the Hugging Face Hub.\")\n"
   ]
  },
  {
   "cell_type": "code",
   "execution_count": null,
   "metadata": {},
   "outputs": [],
   "source": []
  }
 ],
 "metadata": {
  "kernelspec": {
   "display_name": ".venv",
   "language": "python",
   "name": "python3"
  },
  "language_info": {
   "codemirror_mode": {
    "name": "ipython",
    "version": 3
   },
   "file_extension": ".py",
   "mimetype": "text/x-python",
   "name": "python",
   "nbconvert_exporter": "python",
   "pygments_lexer": "ipython3",
   "version": "3.10.12"
  }
 },
 "nbformat": 4,
 "nbformat_minor": 2
}
