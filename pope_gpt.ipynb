{
 "cells": [
  {
   "cell_type": "code",
   "execution_count": 24,
   "id": "6e381f3c",
   "metadata": {},
   "outputs": [],
   "source": [
    "# !pip install -r requirements.txt"
   ]
  },
  {
   "cell_type": "code",
   "execution_count": 1,
   "id": "7a08ead3",
   "metadata": {},
   "outputs": [],
   "source": [
    "import os\n",
    "import base64\n",
    "import requests\n",
    "import json\n",
    "from io import BytesIO\n",
    "from langchain.output_parsers import StructuredOutputParser, ResponseSchema\n"
   ]
  },
  {
   "cell_type": "code",
   "execution_count": null,
   "id": "fde13bde",
   "metadata": {},
   "outputs": [],
   "source": []
  },
  {
   "cell_type": "code",
   "execution_count": 2,
   "id": "64311c65",
   "metadata": {},
   "outputs": [],
   "source": [
    "\n",
    "# Get OpenAI API Key from environment variable\n",
    "api_key = os.getenv(\"OPENAI_API_KEY\")\n",
    "# os.environ[\"OPENAI_API_KEY\"]\n",
    "headers = {\"Content-Type\": \"application/json\", \"Authorization\": f\"Bearer {api_key}\"}\n",
    "\n",
    "# Structured Output Schema\n",
    "response_schema = ResponseSchema(\n",
    "    name=\"object_availability\",\n",
    "    description=\"List of 'yes' or 'no' responses indicating whether the objects are present in the image.\",\n",
    ")\n",
    "\n",
    "parser = StructuredOutputParser.from_response_schemas([response_schema])\n",
    "\n",
    "metaprompt = \"\"\"\n",
    " - Include a check for object availability: 'yes' or 'no'.\"\"\"\n",
    "\n",
    "\n",
    "# Function to encode the image\n",
    "def encode_image_from_pil(image):\n",
    "    buffered = BytesIO()\n",
    "    image.save(buffered, format=\"JPEG\")\n",
    "    return base64.b64encode(buffered.getvalue()).decode(\"utf-8\")\n",
    "\n",
    "\n",
    "def prepare_inputs(message, image):\n",
    "    base64_image = encode_image_from_pil(image)\n",
    "\n",
    "    system_instruction = parser.get_format_instructions() + \"\\n\\n\" + metaprompt\n",
    "\n",
    "    payload = {\n",
    "        \"model\": \"gpt-4o\",\n",
    "        \"messages\": [\n",
    "            {\"role\": \"system\", \"content\": system_instruction},\n",
    "            {\n",
    "                \"role\": \"user\",\n",
    "                \"content\": [\n",
    "                    {\"type\": \"text\", \"text\": message},\n",
    "                    {\n",
    "                        \"type\": \"image_url\",\n",
    "                        \"image_url\": {\"url\": f\"data:image/jpeg;base64,{base64_image}\"},\n",
    "                    },\n",
    "                ],\n",
    "            },\n",
    "        ],\n",
    "        \"max_tokens\": 800,\n",
    "    }\n",
    "    return payload\n",
    "\n",
    "\n",
    "def request_gpt4v(message, image):\n",
    "\n",
    "    payload = prepare_inputs(message, image)\n",
    "    response = requests.post(\n",
    "        \"https://api.openai.com/v1/chat/completions\", headers=headers, json=payload\n",
    "    )\n",
    "\n",
    "    # Extract response content\n",
    "    res = response.json()[\"choices\"][0][\"message\"][\"content\"]\n",
    "    print(\"res\", res)\n",
    "    # Parse response using structured output parser\n",
    "    parsed_output = parser.parse(res)\n",
    "    print(parsed_output)\n",
    "    \n",
    "    # return parsed_output\n",
    "\n",
    "    # Convert to a list of integers\n",
    "    availability = parsed_output.get(\"object_availability\", [])\n",
    "    if isinstance(availability, str):\n",
    "        try:\n",
    "            return availability  # Convert to integers\n",
    "        except ValueError:\n",
    "            raise ValueError(\"Unexpected non-numeric values in output.\")\n",
    "    else:\n",
    "        raise ValueError(\"Output is not a valid list.\")\n",
    "\n",
    "\n",
    "# Pass an image (PIL format)qa_records when calling `request_gpt4v(message, image)`\n",
    "\n",
    "\n",
    "# def get_prompt(obj_list, depth_caption):\n",
    "#     prompt = (\n",
    "#         \"Each object in the image has a bright numeric ID at its center.\\n\\n\"\n",
    "#         \"Identify the numeric ID for each of the following objects and return them in a Python list in the same order:\\n\\n\"\n",
    "#     )\n",
    "\n",
    "#     for i in obj_list:\n",
    "#         prompt += f\"- {i}\\n\"\n",
    "\n",
    "#     prompt += (\n",
    "#         f\"\\nImage Caption about depth: \\n{depth_caption}\\n\\n\"  # Added depth caption to prompt\n",
    "#         f\"\\nThere are exactly {len(obj_list)} objects to identify, so your answer must contain {len(obj_list)} numeric IDs.\\n\"\n",
    "#         \"If the object is present in the image, return the ID you see, even if uncertain.\\n\"\n",
    "#         \"Do not guess or assume an ID—only use IDs visible in the image.\\n\"\n",
    "#         \"try to answer confidently with what you have\"\n",
    "#         \"If the object is completely missing from the image, return `-1`.\\n\"\n",
    "#         \"Return only a Python list of IDs, nothing else. Example: `[1, 2, -1, 4]`\"\n",
    "#     )\n",
    "\n",
    "#     return prompt\n",
    "\n",
    "\n",
    "def get_prompt(question_, depth_caption):\n",
    "    prompt = (\n",
    "        \"Based on the image and its depth information, answer the following question with either 'yes' or 'no':\\n\\n\"\n",
    "        f\"Question: {question_}\\n\\n\"\n",
    "        f\"Image Caption about depth: \\n{depth_caption}\\n\\n\"\n",
    "        \"Do not guess or assume. Answer only based on the image content.\\n\"\n",
    "        \"Return only a Python list with a single 'yes' or 'no' string. Example: `['yes']`\"\n",
    "    )\n",
    "    return prompt\n",
    "\n",
    "\n",
    "def qa_records(\n",
    "    ds, index, data_split,\n",
    "    question=\"question\", image=\"image\",\n",
    "    depth_caption=\"depth_caption\", use_depth=False,\n",
    "    pred_key=\"pred_res\"\n",
    "):\n",
    "    record = ds[data_split][index]\n",
    "    image_input = record[image]\n",
    "    question_ = record[question]\n",
    "\n",
    "    if use_depth:\n",
    "        depth_caption_ = record[depth_caption]\n",
    "        message = get_prompt(question_, depth_caption_)\n",
    "        print(message)\n",
    "    else:\n",
    "        message = question_\n",
    "\n",
    "    response = request_gpt4v(message, image_input)\n",
    "\n",
    "    # Store the response using the specified key\n",
    "    record[pred_key] =  response\n",
    "\n",
    "\n",
    "    return response\n"
   ]
  },
  {
   "cell_type": "code",
   "execution_count": 3,
   "id": "9bda33c5",
   "metadata": {},
   "outputs": [],
   "source": [
    "def make_pope_prompt(record):\n",
    "    \"\"\"\n",
    "    Build a prompt string for a single POPE dataset example.\n",
    "    \n",
    "    record: dict with keys\n",
    "      - question (str)\n",
    "      - depth_caption (str)         # if you still want to include depth info\n",
    "    \"\"\"\n",
    "    # core metadata header\n",
    "    prompt = (\n",
    "        f\"Question: {record['question']}\\n\"\n",
    "    )\n",
    "\n",
    "    # instruct the model on desired output\n",
    "    prompt += (\n",
    "        \"Answer the above question with only 'yes' or 'no'.\\n\"\n",
    "        \"Do not add any other text or punctuation.\\n\"\n",
    "    )\n",
    "\n",
    "    # # optional: if you have a depth caption, append it\n",
    "    # if 'depth_caption' in record and record['depth_caption']:\n",
    "    #     prompt += f\"\\nDepth analysis: {record['depth_caption']}\\n\"\n",
    "\n",
    "    return prompt\n"
   ]
  },
  {
   "cell_type": "code",
   "execution_count": 4,
   "id": "82f1942a",
   "metadata": {},
   "outputs": [
    {
     "data": {
      "text/plain": [
       "True"
      ]
     },
     "execution_count": 4,
     "metadata": {},
     "output_type": "execute_result"
    }
   ],
   "source": [
    "import os\n",
    "import io\n",
    "import pandas as pd\n",
    "from PIL import Image as Image_PIL\n",
    "import shutil\n",
    "from datasets import load_dataset, Dataset, Image\n",
    "from tqdm import tqdm\n",
    "from huggingface_hub import login\n",
    "from dotenv import load_dotenv\n",
    "import os\n",
    "\n",
    "load_dotenv()  # Load environment variables from .env file\n"
   ]
  },
  {
   "cell_type": "code",
   "execution_count": 5,
   "metadata": {},
   "outputs": [
    {
     "name": "stderr",
     "output_type": "stream",
     "text": [
      "Note: Environment variable`HF_TOKEN` is set and is the current active token independently from the token you've just configured.\n"
     ]
    },
    {
     "name": "stdout",
     "output_type": "stream",
     "text": [
      "{'id': ['2015'], 'question_id': ['2016'], 'question': ['Is there a chair in the image?'], 'answer': ['no'], 'image_source': ['COCO_val2014_000000501294'], 'image': [<PIL.JpegImagePlugin.JpegImageFile image mode=RGB size=640x480 at 0x1BF4CC44D00>], 'category': ['adversarial'], 'depth_caption': ['Closest: a black screen\\n----\\nMid Range: a TV\\n----\\nFarthest: a TV\\n----\\n']}\n",
      "image\n"
     ]
    }
   ],
   "source": [
    "# --- Configuration ---\n",
    "hf_token = os.getenv(\"HF_TOKEN\")\n",
    "openai_api = os.getenv(\"OPENAI_API_KEY\")\n",
    "login(hf_token)\n",
    "\n",
    "hf_user = \"Rajarshi-Roy-research\"\n",
    "# dataset_name = \"lmms-lab-POPE\"\n",
    "dataset_name = \"lmms-lab-POPE-depth-captions\"\n",
    "commit_message = \"Updating dataset with VLM\"\n",
    "img_cols = [\"image\"]\n",
    "image_to_process = \"image\"\n",
    "# data_split = \"test\"\n",
    "data_split = \"test_with_depth\"\n",
    "\n",
    "# --- Helper Functions ---\n",
    "def save_image_from_bytes(image_data, idx, image_folder):\n",
    "    \"\"\"Saves an image from byte data or PIL Image and returns the saved file path.\"\"\"\n",
    "    if isinstance(image_data, list):\n",
    "        image_data = image_data[0]\n",
    "    print(idx)\n",
    "\n",
    "    try:\n",
    "        if isinstance(image_data, Image_PIL.Image):\n",
    "            image = image_data\n",
    "        elif isinstance(image_data, bytes):\n",
    "            image = Image_PIL.open(io.BytesIO(image_data))\n",
    "        else:\n",
    "            print(f\"Unsupported image data type at row {idx}: {type(image_data)}\")\n",
    "            return None\n",
    "\n",
    "        image_path = os.path.join(image_folder, f\"image_{idx}.jpg\")\n",
    "        image.save(image_path, format=\"JPEG\")\n",
    "        print(f\"✅ Saved: {image_path}\")\n",
    "        return image_path\n",
    "    except Exception as e:\n",
    "        print(f\"❌ Error saving image at row {idx}: {e}\")\n",
    "        return None\n",
    "\n",
    "\n",
    "def push_to_hugging_face(ds, img_cols, hf_user, dataset_name, commit_message, hf_token, private=False):\n",
    "    \"\"\"Pushes the dataset to the Hugging Face Hub.\"\"\"\n",
    "    for img_col in img_cols:\n",
    "        ds = ds.cast_column(img_col, Image())\n",
    "\n",
    "    try:\n",
    "        ds.push_to_hub(\n",
    "            repo_id=f\"{hf_user}/{dataset_name}\",\n",
    "            commit_message=commit_message,\n",
    "            token=hf_token,\n",
    "            private=private,\n",
    "        )\n",
    "        print(f\"✅ Dataset successfully uploaded: {hf_user}/{dataset_name}\")\n",
    "    except Exception as e:\n",
    "        print(f\"❌ Error pushing to Hugging Face Hub: {e}\")\n",
    "\n",
    "\n",
    "# --- Main Script ---\n",
    "# Clean up existing image folder\n",
    "for img_col in img_cols:\n",
    "    if os.path.exists(img_col):\n",
    "        shutil.rmtree(img_col)\n",
    "    os.makedirs(img_col)\n",
    "\n",
    "# Load dataset\n",
    "ds = load_dataset(f\"{hf_user}/{dataset_name}\")\n",
    "print(ds[data_split][:1])\n",
    "\n",
    "# Process images and add the image file path in the dataset\n",
    "for img_col in img_cols:\n",
    "    print(img_col)\n",
    "    ds = ds.map(\n",
    "        lambda example, idx: {\n",
    "            img_col: save_image_from_bytes(example[img_col], idx, img_col),\n",
    "            f\"{img_col}_path\": os.path.join(img_col, f\"image_{idx}.jpg\")  # Ensure correct column name for the path\n",
    "        },\n",
    "        with_indices=True,\n",
    "        num_proc=1  # Adjust as needed for performance\n",
    "    )\n",
    "\n",
    "# Optionally push the dataset to Hugging Face Hub\n",
    "# push_to_hugging_face(ds, img_cols, hf_user, dataset_name, commit_message, hf_token)\n",
    "\n",
    "# Process and add captions (if needed)\n",
    "try:\n",
    "    pass\n",
    "except FileNotFoundError:\n",
    "    pass\n",
    "\n",
    "# print(ds[data_split][:1])\n"
   ]
  },
  {
   "cell_type": "code",
   "execution_count": null,
   "id": "2d19c04f",
   "metadata": {},
   "outputs": [],
   "source": []
  },
  {
   "cell_type": "code",
   "execution_count": null,
   "id": "d16469b8",
   "metadata": {},
   "outputs": [],
   "source": []
  },
  {
   "cell_type": "code",
   "execution_count": 18,
   "id": "a0585872",
   "metadata": {},
   "outputs": [
    {
     "data": {
      "text/plain": [
       "'Is there a chair in the image?'"
      ]
     },
     "execution_count": 18,
     "metadata": {},
     "output_type": "execute_result"
    }
   ],
   "source": [
    "ds[data_split][1][\"question\"]"
   ]
  },
  {
   "cell_type": "code",
   "execution_count": null,
   "id": "f134af32",
   "metadata": {},
   "outputs": [
    {
     "data": {
      "text/plain": [
       "DatasetDict({\n",
       "    test_with_depth: Dataset({\n",
       "        features: ['id', 'question_id', 'question', 'answer', 'image_source', 'image', 'category', 'depth_caption', 'image_path'],\n",
       "        num_rows: 400\n",
       "    })\n",
       "})"
      ]
     },
     "execution_count": 15,
     "metadata": {},
     "output_type": "execute_result"
    }
   ],
   "source": [
    "ds"
   ]
  },
  {
   "cell_type": "code",
   "execution_count": 31,
   "id": "cd7e9b4a",
   "metadata": {},
   "outputs": [],
   "source": [
    "data_split=\"test_with_depth\""
   ]
  },
  {
   "cell_type": "code",
   "execution_count": null,
   "metadata": {},
   "outputs": [],
   "source": []
  },
  {
   "cell_type": "code",
   "execution_count": 32,
   "id": "4f2b9952",
   "metadata": {},
   "outputs": [
    {
     "data": {
      "text/plain": [
       "'Is there a chair in the image?'"
      ]
     },
     "execution_count": 32,
     "metadata": {},
     "output_type": "execute_result"
    }
   ],
   "source": [
    "ds[data_split][1][\"question\"]"
   ]
  },
  {
   "cell_type": "code",
   "execution_count": 47,
   "id": "68de2af2",
   "metadata": {},
   "outputs": [
    {
     "name": "stdout",
     "output_type": "stream",
     "text": [
      "res ```json\n",
      "{\n",
      "\t\"object_availability\": \"yes\"\n",
      "}\n",
      "```\n",
      "{'object_availability': 'yes'}\n"
     ]
    },
    {
     "data": {
      "text/plain": [
       "'yes'"
      ]
     },
     "execution_count": 47,
     "metadata": {},
     "output_type": "execute_result"
    }
   ],
   "source": [
    "idx=1\n",
    "\n",
    "question = ds[data_split][idx][\"question\"]\n",
    "image = ds[data_split][idx][\"image\"]\n",
    "\n",
    "request_gpt4v(question,image)"
   ]
  },
  {
   "cell_type": "code",
   "execution_count": 39,
   "id": "dcdf77ce",
   "metadata": {},
   "outputs": [],
   "source": [
    "# encode_image_from_pil(image)\n",
    "# encode_image_from_pil(\"image/image_1.jpg\")"
   ]
  },
  {
   "cell_type": "code",
   "execution_count": 60,
   "id": "f191e03c",
   "metadata": {},
   "outputs": [
    {
     "data": {
      "text/plain": [
       "'test_with_depth'"
      ]
     },
     "execution_count": 60,
     "metadata": {},
     "output_type": "execute_result"
    }
   ],
   "source": [
    "data_split"
   ]
  },
  {
   "cell_type": "code",
   "execution_count": 64,
   "id": "dfbd001e",
   "metadata": {},
   "outputs": [
    {
     "name": "stdout",
     "output_type": "stream",
     "text": [
      "res ```json\n",
      "{\n",
      "\t\"object_availability\": \"yes\"\n",
      "}\n",
      "```\n",
      "{'object_availability': 'yes'}\n"
     ]
    },
    {
     "data": {
      "text/plain": [
       "'yes'"
      ]
     },
     "execution_count": 64,
     "metadata": {},
     "output_type": "execute_result"
    }
   ],
   "source": [
    "qa_records(ds,1,data_split)\n",
    "# qa_records(ds,1,data_split,use_depth=True)"
   ]
  },
  {
   "cell_type": "code",
   "execution_count": 66,
   "id": "f310c232",
   "metadata": {},
   "outputs": [
    {
     "name": "stderr",
     "output_type": "stream",
     "text": [
      "Running QA Records:   0%|          | 0/400 [00:00<?, ?it/s]"
     ]
    },
    {
     "name": "stderr",
     "output_type": "stream",
     "text": [
      "Running QA Records:   0%|          | 1/400 [00:01<11:32,  1.74s/it]"
     ]
    },
    {
     "name": "stdout",
     "output_type": "stream",
     "text": [
      "res ```json\n",
      "{\n",
      "\t\"object_availability\": \"yes\"\n",
      "}\n",
      "```\n",
      "{'object_availability': 'yes'}\n"
     ]
    },
    {
     "name": "stderr",
     "output_type": "stream",
     "text": [
      "Running QA Records:   0%|          | 2/400 [00:03<12:08,  1.83s/it]"
     ]
    },
    {
     "name": "stdout",
     "output_type": "stream",
     "text": [
      "res ```json\n",
      "{\n",
      "\t\"object_availability\": \"yes\"\n",
      "}\n",
      "```\n",
      "{'object_availability': 'yes'}\n"
     ]
    },
    {
     "name": "stderr",
     "output_type": "stream",
     "text": [
      "Running QA Records:   1%|          | 3/400 [00:05<11:13,  1.70s/it]"
     ]
    },
    {
     "name": "stdout",
     "output_type": "stream",
     "text": [
      "res ```json\n",
      "{\n",
      "\t\"object_availability\": \"no\"\n",
      "}\n",
      "```\n",
      "{'object_availability': 'no'}\n"
     ]
    },
    {
     "name": "stderr",
     "output_type": "stream",
     "text": [
      "Running QA Records:   1%|          | 4/400 [00:06<10:53,  1.65s/it]"
     ]
    },
    {
     "name": "stdout",
     "output_type": "stream",
     "text": [
      "res ```json\n",
      "{\n",
      "\t\"object_availability\": \"no\"\n",
      "}\n",
      "```\n",
      "{'object_availability': 'no'}\n"
     ]
    },
    {
     "name": "stderr",
     "output_type": "stream",
     "text": [
      "Running QA Records:   1%|▏         | 5/400 [00:07<09:31,  1.45s/it]"
     ]
    },
    {
     "name": "stdout",
     "output_type": "stream",
     "text": [
      "res ```json\n",
      "{\n",
      "\t\"object_availability\": \"no\"\n",
      "}\n",
      "```\n",
      "{'object_availability': 'no'}\n"
     ]
    },
    {
     "name": "stderr",
     "output_type": "stream",
     "text": [
      "Running QA Records:   2%|▏         | 6/400 [00:09<10:11,  1.55s/it]"
     ]
    },
    {
     "name": "stdout",
     "output_type": "stream",
     "text": [
      "res ```json\n",
      "{\n",
      "\t\"object_availability\": \"no\"\n",
      "}\n",
      "```\n",
      "{'object_availability': 'no'}\n"
     ]
    },
    {
     "name": "stderr",
     "output_type": "stream",
     "text": [
      "Running QA Records:   2%|▏         | 7/400 [00:10<09:50,  1.50s/it]"
     ]
    },
    {
     "name": "stdout",
     "output_type": "stream",
     "text": [
      "res ```json\n",
      "{\n",
      "\t\"object_availability\": \"yes\"\n",
      "}\n",
      "```\n",
      "{'object_availability': 'yes'}\n"
     ]
    },
    {
     "name": "stderr",
     "output_type": "stream",
     "text": [
      "Running QA Records:   2%|▏         | 8/400 [00:12<09:33,  1.46s/it]"
     ]
    },
    {
     "name": "stdout",
     "output_type": "stream",
     "text": [
      "res ```json\n",
      "{\n",
      "\t\"object_availability\": \"no\"\n",
      "}\n",
      "```\n",
      "{'object_availability': 'no'}\n"
     ]
    },
    {
     "name": "stderr",
     "output_type": "stream",
     "text": [
      "Running QA Records:   2%|▏         | 9/400 [00:13<09:45,  1.50s/it]"
     ]
    },
    {
     "name": "stdout",
     "output_type": "stream",
     "text": [
      "res ```json\n",
      "{\n",
      "\t\"object_availability\": \"yes\"\n",
      "}\n",
      "```\n",
      "{'object_availability': 'yes'}\n"
     ]
    },
    {
     "name": "stderr",
     "output_type": "stream",
     "text": [
      "Running QA Records:   2%|▎         | 10/400 [00:15<08:57,  1.38s/it]"
     ]
    },
    {
     "name": "stdout",
     "output_type": "stream",
     "text": [
      "res ```json\n",
      "{\n",
      "\t\"object_availability\": \"no\"\n",
      "}\n",
      "```\n",
      "{'object_availability': 'no'}\n"
     ]
    },
    {
     "name": "stderr",
     "output_type": "stream",
     "text": [
      "Running QA Records:   3%|▎         | 11/400 [00:16<08:48,  1.36s/it]"
     ]
    },
    {
     "name": "stdout",
     "output_type": "stream",
     "text": [
      "res ```json\n",
      "{\n",
      "\t\"object_availability\": \"no\"\n",
      "}\n",
      "```\n",
      "{'object_availability': 'no'}\n"
     ]
    },
    {
     "name": "stderr",
     "output_type": "stream",
     "text": [
      "Running QA Records:   3%|▎         | 12/400 [00:17<09:16,  1.44s/it]"
     ]
    },
    {
     "name": "stdout",
     "output_type": "stream",
     "text": [
      "res ```json\n",
      "{\n",
      "\t\"object_availability\": \"yes\"\n",
      "}\n",
      "```\n",
      "{'object_availability': 'yes'}\n"
     ]
    },
    {
     "name": "stderr",
     "output_type": "stream",
     "text": [
      "Running QA Records:   3%|▎         | 13/400 [00:19<09:34,  1.49s/it]"
     ]
    },
    {
     "name": "stdout",
     "output_type": "stream",
     "text": [
      "res ```json\n",
      "{\n",
      "\t\"object_availability\": \"no\"\n",
      "}\n",
      "```\n",
      "{'object_availability': 'no'}\n"
     ]
    },
    {
     "name": "stderr",
     "output_type": "stream",
     "text": [
      "Running QA Records:   4%|▎         | 14/400 [00:20<09:16,  1.44s/it]"
     ]
    },
    {
     "name": "stdout",
     "output_type": "stream",
     "text": [
      "res ```json\n",
      "{\n",
      "\t\"object_availability\": \"yes\"\n",
      "}\n",
      "```\n",
      "{'object_availability': 'yes'}\n"
     ]
    },
    {
     "name": "stderr",
     "output_type": "stream",
     "text": [
      "Running QA Records:   4%|▍         | 15/400 [00:21<08:21,  1.30s/it]"
     ]
    },
    {
     "name": "stdout",
     "output_type": "stream",
     "text": [
      "res ```json\n",
      "{\n",
      "\t\"object_availability\": \"yes\"\n",
      "}\n",
      "```\n",
      "{'object_availability': 'yes'}\n"
     ]
    },
    {
     "name": "stderr",
     "output_type": "stream",
     "text": [
      "Running QA Records:   4%|▍         | 16/400 [00:23<08:22,  1.31s/it]"
     ]
    },
    {
     "name": "stdout",
     "output_type": "stream",
     "text": [
      "res ```json\n",
      "{\n",
      "\t\"object_availability\": \"no\"\n",
      "}\n",
      "```\n",
      "{'object_availability': 'no'}\n"
     ]
    },
    {
     "name": "stderr",
     "output_type": "stream",
     "text": [
      "Running QA Records:   4%|▍         | 17/400 [00:24<08:26,  1.32s/it]"
     ]
    },
    {
     "name": "stdout",
     "output_type": "stream",
     "text": [
      "res ```json\n",
      "{\n",
      "\t\"object_availability\": \"no\"\n",
      "}\n",
      "```\n",
      "{'object_availability': 'no'}\n"
     ]
    },
    {
     "name": "stderr",
     "output_type": "stream",
     "text": [
      "Running QA Records:   4%|▍         | 18/400 [00:26<09:11,  1.45s/it]"
     ]
    },
    {
     "name": "stdout",
     "output_type": "stream",
     "text": [
      "res ```json\n",
      "{\n",
      "\t\"object_availability\": \"yes\"\n",
      "}\n",
      "```\n",
      "{'object_availability': 'yes'}\n"
     ]
    },
    {
     "name": "stderr",
     "output_type": "stream",
     "text": [
      "Running QA Records:   5%|▍         | 19/400 [00:28<10:22,  1.63s/it]"
     ]
    },
    {
     "name": "stdout",
     "output_type": "stream",
     "text": [
      "res ```json\n",
      "{\n",
      "\t\"object_availability\": \"yes\"\n",
      "}\n",
      "```\n",
      "{'object_availability': 'yes'}\n"
     ]
    },
    {
     "name": "stderr",
     "output_type": "stream",
     "text": [
      "Running QA Records:   5%|▌         | 20/400 [00:30<10:59,  1.74s/it]"
     ]
    },
    {
     "name": "stdout",
     "output_type": "stream",
     "text": [
      "res ```json\n",
      "{\n",
      "\t\"object_availability\": \"yes\"\n",
      "}\n",
      "```\n",
      "{'object_availability': 'yes'}\n"
     ]
    },
    {
     "name": "stderr",
     "output_type": "stream",
     "text": [
      "Running QA Records:   5%|▌         | 21/400 [00:33<12:44,  2.02s/it]"
     ]
    },
    {
     "name": "stdout",
     "output_type": "stream",
     "text": [
      "res ```json\n",
      "{\n",
      "\t\"object_availability\": \"no\"\n",
      "}\n",
      "```\n",
      "{'object_availability': 'no'}\n"
     ]
    },
    {
     "name": "stderr",
     "output_type": "stream",
     "text": [
      "Running QA Records:   6%|▌         | 22/400 [00:34<11:08,  1.77s/it]"
     ]
    },
    {
     "name": "stdout",
     "output_type": "stream",
     "text": [
      "res ```json\n",
      "{\n",
      "\t\"object_availability\": \"no\"\n",
      "}\n",
      "```\n",
      "{'object_availability': 'no'}\n"
     ]
    },
    {
     "name": "stderr",
     "output_type": "stream",
     "text": [
      "Running QA Records:   6%|▌         | 23/400 [00:37<13:14,  2.11s/it]"
     ]
    },
    {
     "name": "stdout",
     "output_type": "stream",
     "text": [
      "res ```json\n",
      "{\n",
      "\t\"object_availability\": \"yes\"\n",
      "}\n",
      "```\n",
      "{'object_availability': 'yes'}\n"
     ]
    },
    {
     "name": "stderr",
     "output_type": "stream",
     "text": [
      "Running QA Records:   6%|▌         | 24/400 [00:38<12:46,  2.04s/it]"
     ]
    },
    {
     "name": "stdout",
     "output_type": "stream",
     "text": [
      "res ```json\n",
      "{\n",
      "\t\"object_availability\": \"yes\"\n",
      "}\n",
      "```\n",
      "{'object_availability': 'yes'}\n"
     ]
    },
    {
     "name": "stderr",
     "output_type": "stream",
     "text": [
      "Running QA Records:   6%|▋         | 25/400 [00:39<10:39,  1.71s/it]"
     ]
    },
    {
     "name": "stdout",
     "output_type": "stream",
     "text": [
      "res ```json\n",
      "{\n",
      "\t\"object_availability\": \"no\"\n",
      "}\n",
      "```\n",
      "{'object_availability': 'no'}\n"
     ]
    },
    {
     "name": "stderr",
     "output_type": "stream",
     "text": [
      "Running QA Records:   6%|▋         | 26/400 [00:41<10:04,  1.62s/it]"
     ]
    },
    {
     "name": "stdout",
     "output_type": "stream",
     "text": [
      "res ```json\n",
      "{\n",
      "\t\"object_availability\": \"yes\"\n",
      "}\n",
      "```\n",
      "{'object_availability': 'yes'}\n"
     ]
    },
    {
     "name": "stderr",
     "output_type": "stream",
     "text": [
      "Running QA Records:   7%|▋         | 27/400 [00:42<09:40,  1.56s/it]"
     ]
    },
    {
     "name": "stdout",
     "output_type": "stream",
     "text": [
      "res ```json\n",
      "{\n",
      "\t\"object_availability\": \"no\"\n",
      "}\n",
      "```\n",
      "{'object_availability': 'no'}\n"
     ]
    },
    {
     "name": "stderr",
     "output_type": "stream",
     "text": [
      "Running QA Records:   7%|▋         | 28/400 [00:44<09:20,  1.51s/it]"
     ]
    },
    {
     "name": "stdout",
     "output_type": "stream",
     "text": [
      "res ```json\n",
      "{\n",
      "\t\"object_availability\": \"no\"\n",
      "}\n",
      "```\n",
      "{'object_availability': 'no'}\n"
     ]
    },
    {
     "name": "stderr",
     "output_type": "stream",
     "text": [
      "Running QA Records:   7%|▋         | 29/400 [00:46<10:40,  1.73s/it]"
     ]
    },
    {
     "name": "stdout",
     "output_type": "stream",
     "text": [
      "res ```json\n",
      "{\n",
      "\t\"object_availability\": \"yes\"\n",
      "}\n",
      "```\n",
      "{'object_availability': 'yes'}\n"
     ]
    },
    {
     "name": "stderr",
     "output_type": "stream",
     "text": [
      "Running QA Records:   8%|▊         | 30/400 [00:47<10:09,  1.65s/it]"
     ]
    },
    {
     "name": "stdout",
     "output_type": "stream",
     "text": [
      "res ```json\n",
      "{\n",
      "\t\"object_availability\": \"no\"\n",
      "}\n",
      "```\n",
      "{'object_availability': 'no'}\n"
     ]
    },
    {
     "name": "stderr",
     "output_type": "stream",
     "text": [
      "Running QA Records:   8%|▊         | 31/400 [00:49<10:04,  1.64s/it]"
     ]
    },
    {
     "name": "stdout",
     "output_type": "stream",
     "text": [
      "res ```json\n",
      "{\n",
      "\t\"object_availability\": \"yes\"\n",
      "}\n",
      "```\n",
      "{'object_availability': 'yes'}\n"
     ]
    },
    {
     "name": "stderr",
     "output_type": "stream",
     "text": [
      "Running QA Records:   8%|▊         | 32/400 [00:51<10:34,  1.73s/it]"
     ]
    },
    {
     "name": "stdout",
     "output_type": "stream",
     "text": [
      "res ```json\n",
      "{\n",
      "\t\"object_availability\": \"yes\"\n",
      "}\n",
      "```\n",
      "{'object_availability': 'yes'}\n"
     ]
    },
    {
     "name": "stderr",
     "output_type": "stream",
     "text": [
      "Running QA Records:   8%|▊         | 33/400 [00:52<09:37,  1.57s/it]"
     ]
    },
    {
     "name": "stdout",
     "output_type": "stream",
     "text": [
      "res ```json\n",
      "{\n",
      "\t\"object_availability\": \"yes\"\n",
      "}\n",
      "```\n",
      "{'object_availability': 'yes'}\n"
     ]
    },
    {
     "name": "stderr",
     "output_type": "stream",
     "text": [
      "Running QA Records:   8%|▊         | 34/400 [00:53<08:39,  1.42s/it]"
     ]
    },
    {
     "name": "stdout",
     "output_type": "stream",
     "text": [
      "res ```json\n",
      "{\n",
      "\t\"object_availability\": \"yes\"\n",
      "}\n",
      "```\n",
      "{'object_availability': 'yes'}\n"
     ]
    },
    {
     "name": "stderr",
     "output_type": "stream",
     "text": [
      "Running QA Records:   9%|▉         | 35/400 [00:55<08:34,  1.41s/it]"
     ]
    },
    {
     "name": "stdout",
     "output_type": "stream",
     "text": [
      "res ```json\n",
      "{\n",
      "\t\"object_availability\": \"no\"\n",
      "}\n",
      "```\n",
      "{'object_availability': 'no'}\n"
     ]
    },
    {
     "name": "stderr",
     "output_type": "stream",
     "text": [
      "Running QA Records:   9%|▉         | 36/400 [00:56<08:50,  1.46s/it]"
     ]
    },
    {
     "name": "stdout",
     "output_type": "stream",
     "text": [
      "res ```json\n",
      "{\n",
      "\t\"object_availability\": \"yes\"\n",
      "}\n",
      "```\n",
      "{'object_availability': 'yes'}\n"
     ]
    },
    {
     "name": "stderr",
     "output_type": "stream",
     "text": [
      "Running QA Records:   9%|▉         | 37/400 [00:58<08:59,  1.49s/it]"
     ]
    },
    {
     "name": "stdout",
     "output_type": "stream",
     "text": [
      "res ```json\n",
      "{\n",
      "\t\"object_availability\": \"yes\"\n",
      "}\n",
      "```\n",
      "{'object_availability': 'yes'}\n"
     ]
    },
    {
     "name": "stderr",
     "output_type": "stream",
     "text": [
      "Running QA Records:  10%|▉         | 38/400 [01:00<09:42,  1.61s/it]"
     ]
    },
    {
     "name": "stdout",
     "output_type": "stream",
     "text": [
      "res ```json\n",
      "{\n",
      "\t\"object_availability\": \"no\"\n",
      "}\n",
      "```\n",
      "{'object_availability': 'no'}\n"
     ]
    },
    {
     "name": "stderr",
     "output_type": "stream",
     "text": [
      "Running QA Records:  10%|▉         | 39/400 [01:01<09:20,  1.55s/it]"
     ]
    },
    {
     "name": "stdout",
     "output_type": "stream",
     "text": [
      "res ```json\n",
      "{\n",
      "\t\"object_availability\": \"yes\"\n",
      "}\n",
      "```\n",
      "{'object_availability': 'yes'}\n"
     ]
    },
    {
     "name": "stderr",
     "output_type": "stream",
     "text": [
      "Running QA Records:  10%|█         | 40/400 [01:02<09:06,  1.52s/it]"
     ]
    },
    {
     "name": "stdout",
     "output_type": "stream",
     "text": [
      "res ```json\n",
      "{\n",
      "\t\"object_availability\": \"yes\"\n",
      "}\n",
      "```\n",
      "{'object_availability': 'yes'}\n"
     ]
    },
    {
     "name": "stderr",
     "output_type": "stream",
     "text": [
      "Running QA Records:  10%|█         | 41/400 [01:04<08:54,  1.49s/it]"
     ]
    },
    {
     "name": "stdout",
     "output_type": "stream",
     "text": [
      "res ```json\n",
      "{\n",
      "\t\"object_availability\": \"no\"\n",
      "}\n",
      "```\n",
      "{'object_availability': 'no'}\n"
     ]
    },
    {
     "name": "stderr",
     "output_type": "stream",
     "text": [
      "Running QA Records:  10%|█         | 42/400 [01:07<12:10,  2.04s/it]"
     ]
    },
    {
     "name": "stdout",
     "output_type": "stream",
     "text": [
      "res ```json\n",
      "{\n",
      "\t\"object_availability\": \"yes\"\n",
      "}\n",
      "```\n",
      "{'object_availability': 'yes'}\n"
     ]
    },
    {
     "name": "stderr",
     "output_type": "stream",
     "text": [
      "Running QA Records:  11%|█         | 43/400 [01:09<11:01,  1.85s/it]"
     ]
    },
    {
     "name": "stdout",
     "output_type": "stream",
     "text": [
      "res ```json\n",
      "{\n",
      "\t\"object_availability\": \"no\"\n",
      "}\n",
      "```\n",
      "{'object_availability': 'no'}\n"
     ]
    },
    {
     "name": "stderr",
     "output_type": "stream",
     "text": [
      "Running QA Records:  11%|█         | 44/400 [01:10<10:11,  1.72s/it]"
     ]
    },
    {
     "name": "stdout",
     "output_type": "stream",
     "text": [
      "res ```json\n",
      "{\n",
      "\t\"object_availability\": \"yes\"\n",
      "}\n",
      "```\n",
      "{'object_availability': 'yes'}\n"
     ]
    },
    {
     "name": "stderr",
     "output_type": "stream",
     "text": [
      "Running QA Records:  11%|█▏        | 45/400 [01:12<10:14,  1.73s/it]"
     ]
    },
    {
     "name": "stdout",
     "output_type": "stream",
     "text": [
      "res ```json\n",
      "{\n",
      "\t\"object_availability\": \"no\"\n",
      "}\n",
      "```\n",
      "{'object_availability': 'no'}\n"
     ]
    },
    {
     "name": "stderr",
     "output_type": "stream",
     "text": [
      "Running QA Records:  12%|█▏        | 46/400 [01:13<09:31,  1.61s/it]"
     ]
    },
    {
     "name": "stdout",
     "output_type": "stream",
     "text": [
      "res ```json\n",
      "{\n",
      "\t\"object_availability\": \"no\"\n",
      "}\n",
      "```\n",
      "{'object_availability': 'no'}\n"
     ]
    },
    {
     "name": "stderr",
     "output_type": "stream",
     "text": [
      "Running QA Records:  12%|█▏        | 47/400 [01:15<09:44,  1.66s/it]"
     ]
    },
    {
     "name": "stdout",
     "output_type": "stream",
     "text": [
      "res ```json\n",
      "{\n",
      "\t\"object_availability\": \"yes\"\n",
      "}\n",
      "```\n",
      "{'object_availability': 'yes'}\n"
     ]
    },
    {
     "name": "stderr",
     "output_type": "stream",
     "text": [
      "Running QA Records:  12%|█▏        | 48/400 [01:16<09:07,  1.55s/it]"
     ]
    },
    {
     "name": "stdout",
     "output_type": "stream",
     "text": [
      "res ```json\n",
      "{\n",
      "\t\"object_availability\": \"yes\"\n",
      "}\n",
      "```\n",
      "{'object_availability': 'yes'}\n"
     ]
    },
    {
     "name": "stderr",
     "output_type": "stream",
     "text": [
      "Running QA Records:  12%|█▏        | 49/400 [01:18<09:52,  1.69s/it]"
     ]
    },
    {
     "name": "stdout",
     "output_type": "stream",
     "text": [
      "res ```json\n",
      "{\n",
      "\t\"object_availability\": \"yes\"\n",
      "}\n",
      "```\n",
      "{'object_availability': 'yes'}\n"
     ]
    },
    {
     "name": "stderr",
     "output_type": "stream",
     "text": [
      "Running QA Records:  12%|█▎        | 50/400 [01:21<11:20,  1.94s/it]"
     ]
    },
    {
     "name": "stdout",
     "output_type": "stream",
     "text": [
      "res ```json\n",
      "{\n",
      "\t\"object_availability\": \"no\"\n",
      "}\n",
      "```\n",
      "{'object_availability': 'no'}\n"
     ]
    },
    {
     "name": "stderr",
     "output_type": "stream",
     "text": [
      "Running QA Records:  13%|█▎        | 51/400 [01:22<10:06,  1.74s/it]"
     ]
    },
    {
     "name": "stdout",
     "output_type": "stream",
     "text": [
      "res ```json\n",
      "{\n",
      "\t\"object_availability\": \"no\"\n",
      "}\n",
      "```\n",
      "{'object_availability': 'no'}\n"
     ]
    },
    {
     "name": "stderr",
     "output_type": "stream",
     "text": [
      "Running QA Records:  13%|█▎        | 52/400 [01:24<09:44,  1.68s/it]"
     ]
    },
    {
     "name": "stdout",
     "output_type": "stream",
     "text": [
      "res ```json\n",
      "{\n",
      "\t\"object_availability\": \"no\"\n",
      "}\n",
      "```\n",
      "{'object_availability': 'no'}\n"
     ]
    },
    {
     "name": "stderr",
     "output_type": "stream",
     "text": [
      "Running QA Records:  13%|█▎        | 53/400 [01:26<10:43,  1.85s/it]"
     ]
    },
    {
     "name": "stdout",
     "output_type": "stream",
     "text": [
      "res ```json\n",
      "{\n",
      "\t\"object_availability\": \"no\"\n",
      "}\n",
      "```\n",
      "{'object_availability': 'no'}\n"
     ]
    },
    {
     "name": "stderr",
     "output_type": "stream",
     "text": [
      "Running QA Records:  14%|█▎        | 54/400 [01:27<09:37,  1.67s/it]"
     ]
    },
    {
     "name": "stdout",
     "output_type": "stream",
     "text": [
      "res ```json\n",
      "{\n",
      "\t\"object_availability\": \"no\"\n",
      "}\n",
      "```\n",
      "{'object_availability': 'no'}\n"
     ]
    },
    {
     "name": "stderr",
     "output_type": "stream",
     "text": [
      "Running QA Records:  14%|█▍        | 55/400 [01:29<09:28,  1.65s/it]"
     ]
    },
    {
     "name": "stdout",
     "output_type": "stream",
     "text": [
      "res ```json\n",
      "{\n",
      "\t\"object_availability\": \"no\"\n",
      "}\n",
      "```\n",
      "{'object_availability': 'no'}\n"
     ]
    },
    {
     "name": "stderr",
     "output_type": "stream",
     "text": [
      "Running QA Records:  14%|█▍        | 56/400 [01:34<15:19,  2.67s/it]"
     ]
    },
    {
     "name": "stdout",
     "output_type": "stream",
     "text": [
      "res ```json\n",
      "{\n",
      "\t\"object_availability\": \"no\"\n",
      "}\n",
      "```\n",
      "{'object_availability': 'no'}\n"
     ]
    },
    {
     "name": "stderr",
     "output_type": "stream",
     "text": [
      "Running QA Records:  14%|█▍        | 57/400 [01:35<12:34,  2.20s/it]"
     ]
    },
    {
     "name": "stdout",
     "output_type": "stream",
     "text": [
      "res ```json\n",
      "{\n",
      "\t\"object_availability\": \"yes\"\n",
      "}\n",
      "```\n",
      "{'object_availability': 'yes'}\n"
     ]
    },
    {
     "name": "stderr",
     "output_type": "stream",
     "text": [
      "Running QA Records:  14%|█▍        | 58/400 [01:36<11:32,  2.03s/it]"
     ]
    },
    {
     "name": "stdout",
     "output_type": "stream",
     "text": [
      "res ```json\n",
      "{\n",
      "\t\"object_availability\": \"no\"\n",
      "}\n",
      "```\n",
      "{'object_availability': 'no'}\n"
     ]
    },
    {
     "name": "stderr",
     "output_type": "stream",
     "text": [
      "Running QA Records:  15%|█▍        | 59/400 [01:38<11:08,  1.96s/it]"
     ]
    },
    {
     "name": "stdout",
     "output_type": "stream",
     "text": [
      "res ```json\n",
      "{\n",
      "\t\"object_availability\": \"yes\"\n",
      "}\n",
      "```\n",
      "{'object_availability': 'yes'}\n"
     ]
    },
    {
     "name": "stderr",
     "output_type": "stream",
     "text": [
      "Running QA Records:  15%|█▌        | 60/400 [01:40<10:31,  1.86s/it]"
     ]
    },
    {
     "name": "stdout",
     "output_type": "stream",
     "text": [
      "res ```json\n",
      "{\n",
      "\t\"object_availability\": \"no\"\n",
      "}\n",
      "```\n",
      "{'object_availability': 'no'}\n"
     ]
    },
    {
     "name": "stderr",
     "output_type": "stream",
     "text": [
      "Running QA Records:  15%|█▌        | 61/400 [01:41<09:19,  1.65s/it]"
     ]
    },
    {
     "name": "stdout",
     "output_type": "stream",
     "text": [
      "res ```json\n",
      "{\n",
      "\t\"object_availability\": \"no\"\n",
      "}\n",
      "```\n",
      "{'object_availability': 'no'}\n"
     ]
    },
    {
     "name": "stderr",
     "output_type": "stream",
     "text": [
      "Running QA Records:  16%|█▌        | 62/400 [01:43<09:17,  1.65s/it]"
     ]
    },
    {
     "name": "stdout",
     "output_type": "stream",
     "text": [
      "res ```json\n",
      "{\n",
      "\t\"object_availability\": \"yes\"\n",
      "}\n",
      "```\n",
      "{'object_availability': 'yes'}\n"
     ]
    },
    {
     "name": "stderr",
     "output_type": "stream",
     "text": [
      "Running QA Records:  16%|█▌        | 63/400 [01:44<08:42,  1.55s/it]"
     ]
    },
    {
     "name": "stdout",
     "output_type": "stream",
     "text": [
      "res ```json\n",
      "{\n",
      "\t\"object_availability\": \"no\"\n",
      "}\n",
      "```\n",
      "{'object_availability': 'no'}\n"
     ]
    },
    {
     "name": "stderr",
     "output_type": "stream",
     "text": [
      "Running QA Records:  16%|█▌        | 64/400 [01:46<08:42,  1.55s/it]"
     ]
    },
    {
     "name": "stdout",
     "output_type": "stream",
     "text": [
      "res ```json\n",
      "{\n",
      "\t\"object_availability\": \"yes\"\n",
      "}\n",
      "```\n",
      "{'object_availability': 'yes'}\n"
     ]
    },
    {
     "name": "stderr",
     "output_type": "stream",
     "text": [
      "Running QA Records:  16%|█▋        | 65/400 [01:47<08:01,  1.44s/it]"
     ]
    },
    {
     "name": "stdout",
     "output_type": "stream",
     "text": [
      "res ```json\n",
      "{\n",
      "\t\"object_availability\": \"yes\"\n",
      "}\n",
      "```\n",
      "{'object_availability': 'yes'}\n"
     ]
    },
    {
     "name": "stderr",
     "output_type": "stream",
     "text": [
      "Running QA Records:  16%|█▋        | 66/400 [01:49<08:44,  1.57s/it]"
     ]
    },
    {
     "name": "stdout",
     "output_type": "stream",
     "text": [
      "res ```json\n",
      "{\n",
      "\t\"object_availability\": \"no\"\n",
      "}\n",
      "```\n",
      "{'object_availability': 'no'}\n"
     ]
    },
    {
     "name": "stderr",
     "output_type": "stream",
     "text": [
      "Running QA Records:  17%|█▋        | 67/400 [01:50<08:40,  1.56s/it]"
     ]
    },
    {
     "name": "stdout",
     "output_type": "stream",
     "text": [
      "res ```json\n",
      "{\n",
      "\t\"object_availability\": \"no\"\n",
      "}\n",
      "```\n",
      "{'object_availability': 'no'}\n"
     ]
    },
    {
     "name": "stderr",
     "output_type": "stream",
     "text": [
      "Running QA Records:  17%|█▋        | 68/400 [01:52<10:00,  1.81s/it]"
     ]
    },
    {
     "name": "stdout",
     "output_type": "stream",
     "text": [
      "res ```json\n",
      "{\n",
      "\t\"object_availability\": \"yes\"\n",
      "}\n",
      "```\n",
      "{'object_availability': 'yes'}\n"
     ]
    },
    {
     "name": "stderr",
     "output_type": "stream",
     "text": [
      "Running QA Records:  17%|█▋        | 69/400 [01:56<12:06,  2.19s/it]"
     ]
    },
    {
     "name": "stdout",
     "output_type": "stream",
     "text": [
      "res ```json\n",
      "{\n",
      "\t\"object_availability\": \"no\"\n",
      "}\n",
      "```\n",
      "{'object_availability': 'no'}\n"
     ]
    },
    {
     "name": "stderr",
     "output_type": "stream",
     "text": [
      "Running QA Records:  18%|█▊        | 70/400 [01:59<13:35,  2.47s/it]"
     ]
    },
    {
     "name": "stdout",
     "output_type": "stream",
     "text": [
      "res ```json\n",
      "{\n",
      "\t\"object_availability\": \"no\"\n",
      "}\n",
      "```\n",
      "{'object_availability': 'no'}\n"
     ]
    },
    {
     "name": "stderr",
     "output_type": "stream",
     "text": [
      "Running QA Records:  18%|█▊        | 71/400 [02:01<13:06,  2.39s/it]"
     ]
    },
    {
     "name": "stdout",
     "output_type": "stream",
     "text": [
      "res ```json\n",
      "{\n",
      "\t\"object_availability\": \"yes\"\n",
      "}\n",
      "```\n",
      "{'object_availability': 'yes'}\n"
     ]
    },
    {
     "name": "stderr",
     "output_type": "stream",
     "text": [
      "Running QA Records:  18%|█▊        | 72/400 [02:03<12:11,  2.23s/it]"
     ]
    },
    {
     "name": "stdout",
     "output_type": "stream",
     "text": [
      "res ```json\n",
      "{\n",
      "\t\"object_availability\": \"yes\"\n",
      "}\n",
      "```\n",
      "{'object_availability': 'yes'}\n"
     ]
    },
    {
     "name": "stderr",
     "output_type": "stream",
     "text": [
      "Running QA Records:  18%|█▊        | 73/400 [02:04<11:00,  2.02s/it]"
     ]
    },
    {
     "name": "stdout",
     "output_type": "stream",
     "text": [
      "res ```json\n",
      "{\n",
      "\t\"object_availability\": \"no\"\n",
      "}\n",
      "```\n",
      "{'object_availability': 'no'}\n"
     ]
    },
    {
     "name": "stderr",
     "output_type": "stream",
     "text": [
      "Running QA Records:  18%|█▊        | 74/400 [02:09<16:09,  2.97s/it]"
     ]
    },
    {
     "name": "stdout",
     "output_type": "stream",
     "text": [
      "res ```json\n",
      "{\n",
      "\t\"object_availability\": \"no\"\n",
      "}\n",
      "```\n",
      "{'object_availability': 'no'}\n"
     ]
    },
    {
     "name": "stderr",
     "output_type": "stream",
     "text": [
      "Running QA Records:  19%|█▉        | 75/400 [02:11<13:27,  2.49s/it]"
     ]
    },
    {
     "name": "stdout",
     "output_type": "stream",
     "text": [
      "res ```json\n",
      "{\n",
      "\t\"object_availability\": \"no\"\n",
      "}\n",
      "```\n",
      "{'object_availability': 'no'}\n"
     ]
    },
    {
     "name": "stderr",
     "output_type": "stream",
     "text": [
      "Running QA Records:  19%|█▉        | 76/400 [02:13<13:33,  2.51s/it]"
     ]
    },
    {
     "name": "stdout",
     "output_type": "stream",
     "text": [
      "res ```json\n",
      "{\n",
      "\t\"object_availability\": \"no\"\n",
      "}\n",
      "```\n",
      "{'object_availability': 'no'}\n"
     ]
    },
    {
     "name": "stderr",
     "output_type": "stream",
     "text": [
      "Running QA Records:  19%|█▉        | 77/400 [02:15<11:37,  2.16s/it]"
     ]
    },
    {
     "name": "stdout",
     "output_type": "stream",
     "text": [
      "res ```json\n",
      "{\n",
      "\t\"object_availability\": \"yes\"\n",
      "}\n",
      "```\n",
      "{'object_availability': 'yes'}\n"
     ]
    },
    {
     "name": "stderr",
     "output_type": "stream",
     "text": [
      "Running QA Records:  20%|█▉        | 78/400 [02:17<11:45,  2.19s/it]"
     ]
    },
    {
     "name": "stdout",
     "output_type": "stream",
     "text": [
      "res ```json\n",
      "{\n",
      "\t\"object_availability\": \"yes\"\n",
      "}\n",
      "```\n",
      "{'object_availability': 'yes'}\n"
     ]
    },
    {
     "name": "stderr",
     "output_type": "stream",
     "text": [
      "Running QA Records:  20%|█▉        | 79/400 [02:18<10:17,  1.92s/it]"
     ]
    },
    {
     "name": "stdout",
     "output_type": "stream",
     "text": [
      "res ```json\n",
      "{\n",
      "\t\"object_availability\": \"yes\"\n",
      "}\n",
      "```\n",
      "{'object_availability': 'yes'}\n"
     ]
    },
    {
     "name": "stderr",
     "output_type": "stream",
     "text": [
      "Running QA Records:  20%|██        | 80/400 [02:20<09:47,  1.84s/it]"
     ]
    },
    {
     "name": "stdout",
     "output_type": "stream",
     "text": [
      "res ```json\n",
      "{\n",
      "\t\"object_availability\": \"yes\"\n",
      "}\n",
      "```\n",
      "{'object_availability': 'yes'}\n"
     ]
    },
    {
     "name": "stderr",
     "output_type": "stream",
     "text": [
      "Running QA Records:  20%|██        | 81/400 [02:23<12:18,  2.31s/it]"
     ]
    },
    {
     "name": "stdout",
     "output_type": "stream",
     "text": [
      "res ```json\n",
      "{\n",
      "\t\"object_availability\": \"yes\"\n",
      "}\n",
      "```\n",
      "{'object_availability': 'yes'}\n"
     ]
    },
    {
     "name": "stderr",
     "output_type": "stream",
     "text": [
      "Running QA Records:  20%|██        | 82/400 [02:25<11:30,  2.17s/it]"
     ]
    },
    {
     "name": "stdout",
     "output_type": "stream",
     "text": [
      "res ```json\n",
      "{\n",
      "\t\"object_availability\": \"yes\"\n",
      "}\n",
      "```\n",
      "{'object_availability': 'yes'}\n"
     ]
    },
    {
     "name": "stderr",
     "output_type": "stream",
     "text": [
      "Running QA Records:  21%|██        | 83/400 [02:27<11:03,  2.09s/it]"
     ]
    },
    {
     "name": "stdout",
     "output_type": "stream",
     "text": [
      "res ```json\n",
      "{\n",
      "\t\"object_availability\": \"yes\"\n",
      "}\n",
      "```\n",
      "{'object_availability': 'yes'}\n"
     ]
    },
    {
     "name": "stderr",
     "output_type": "stream",
     "text": [
      "Running QA Records:  21%|██        | 84/400 [02:28<09:24,  1.79s/it]"
     ]
    },
    {
     "name": "stdout",
     "output_type": "stream",
     "text": [
      "res ```json\n",
      "{\n",
      "\t\"object_availability\": \"no\"\n",
      "}\n",
      "```\n",
      "{'object_availability': 'no'}\n"
     ]
    },
    {
     "name": "stderr",
     "output_type": "stream",
     "text": [
      "Running QA Records:  21%|██▏       | 85/400 [02:30<09:17,  1.77s/it]"
     ]
    },
    {
     "name": "stdout",
     "output_type": "stream",
     "text": [
      "res ```json\n",
      "{\n",
      "\t\"object_availability\": \"yes\"\n",
      "}\n",
      "```\n",
      "{'object_availability': 'yes'}\n"
     ]
    },
    {
     "name": "stderr",
     "output_type": "stream",
     "text": [
      "Running QA Records:  22%|██▏       | 86/400 [02:31<08:33,  1.64s/it]"
     ]
    },
    {
     "name": "stdout",
     "output_type": "stream",
     "text": [
      "res ```json\n",
      "{\n",
      "\t\"object_availability\": \"yes\"\n",
      "}\n",
      "```\n",
      "{'object_availability': 'yes'}\n"
     ]
    },
    {
     "name": "stderr",
     "output_type": "stream",
     "text": [
      "Running QA Records:  22%|██▏       | 87/400 [02:32<07:45,  1.49s/it]"
     ]
    },
    {
     "name": "stdout",
     "output_type": "stream",
     "text": [
      "res ```json\n",
      "{\n",
      "\t\"object_availability\": \"no\"\n",
      "}\n",
      "```\n",
      "{'object_availability': 'no'}\n"
     ]
    },
    {
     "name": "stderr",
     "output_type": "stream",
     "text": [
      "Running QA Records:  22%|██▏       | 88/400 [02:34<08:30,  1.64s/it]"
     ]
    },
    {
     "name": "stdout",
     "output_type": "stream",
     "text": [
      "res ```json\n",
      "{\n",
      "\t\"object_availability\": \"no\"\n",
      "}\n",
      "```\n",
      "{'object_availability': 'no'}\n"
     ]
    },
    {
     "name": "stderr",
     "output_type": "stream",
     "text": [
      "Running QA Records:  22%|██▏       | 89/400 [02:36<08:47,  1.70s/it]"
     ]
    },
    {
     "name": "stdout",
     "output_type": "stream",
     "text": [
      "res ```json\n",
      "{\n",
      "\t\"object_availability\": \"no\"\n",
      "}\n",
      "```\n",
      "{'object_availability': 'no'}\n"
     ]
    },
    {
     "name": "stderr",
     "output_type": "stream",
     "text": [
      "Running QA Records:  22%|██▎       | 90/400 [02:38<08:18,  1.61s/it]"
     ]
    },
    {
     "name": "stdout",
     "output_type": "stream",
     "text": [
      "res ```json\n",
      "{\n",
      "\t\"object_availability\": \"yes\"\n",
      "}\n",
      "```\n",
      "{'object_availability': 'yes'}\n"
     ]
    },
    {
     "name": "stderr",
     "output_type": "stream",
     "text": [
      "Running QA Records:  23%|██▎       | 91/400 [02:40<08:49,  1.71s/it]"
     ]
    },
    {
     "name": "stdout",
     "output_type": "stream",
     "text": [
      "res ```json\n",
      "{\n",
      "\t\"object_availability\": \"no\"\n",
      "}\n",
      "```\n",
      "{'object_availability': 'no'}\n"
     ]
    },
    {
     "name": "stderr",
     "output_type": "stream",
     "text": [
      "Running QA Records:  23%|██▎       | 92/400 [02:41<08:11,  1.60s/it]"
     ]
    },
    {
     "name": "stdout",
     "output_type": "stream",
     "text": [
      "res ```json\n",
      "{\n",
      "\t\"object_availability\": \"no\"\n",
      "}\n",
      "```\n",
      "{'object_availability': 'no'}\n"
     ]
    },
    {
     "name": "stderr",
     "output_type": "stream",
     "text": [
      "Running QA Records:  23%|██▎       | 93/400 [02:42<07:32,  1.47s/it]"
     ]
    },
    {
     "name": "stdout",
     "output_type": "stream",
     "text": [
      "res ```json\n",
      "{\n",
      "\t\"object_availability\": \"no\"\n",
      "}\n",
      "```\n",
      "{'object_availability': 'no'}\n"
     ]
    },
    {
     "name": "stderr",
     "output_type": "stream",
     "text": [
      "Running QA Records:  24%|██▎       | 94/400 [02:44<07:34,  1.49s/it]"
     ]
    },
    {
     "name": "stdout",
     "output_type": "stream",
     "text": [
      "res ```json\n",
      "{\n",
      "\t\"object_availability\": \"no\"\n",
      "}\n",
      "```\n",
      "{'object_availability': 'no'}\n"
     ]
    },
    {
     "name": "stderr",
     "output_type": "stream",
     "text": [
      "Running QA Records:  24%|██▍       | 95/400 [02:45<07:12,  1.42s/it]"
     ]
    },
    {
     "name": "stdout",
     "output_type": "stream",
     "text": [
      "res ```json\n",
      "{\n",
      "\t\"object_availability\": \"no\"\n",
      "}\n",
      "```\n",
      "{'object_availability': 'no'}\n"
     ]
    },
    {
     "name": "stderr",
     "output_type": "stream",
     "text": [
      "Running QA Records:  24%|██▍       | 96/400 [02:47<08:14,  1.63s/it]"
     ]
    },
    {
     "name": "stdout",
     "output_type": "stream",
     "text": [
      "res ```json\n",
      "{\n",
      "\t\"object_availability\": \"no\"\n",
      "}\n",
      "```\n",
      "{'object_availability': 'no'}\n"
     ]
    },
    {
     "name": "stderr",
     "output_type": "stream",
     "text": [
      "Running QA Records:  24%|██▍       | 97/400 [02:49<08:44,  1.73s/it]"
     ]
    },
    {
     "name": "stdout",
     "output_type": "stream",
     "text": [
      "res ```json\n",
      "{\n",
      "\t\"object_availability\": \"no\"\n",
      "}\n",
      "```\n",
      "{'object_availability': 'no'}\n"
     ]
    },
    {
     "name": "stderr",
     "output_type": "stream",
     "text": [
      "Running QA Records:  24%|██▍       | 98/400 [02:51<08:30,  1.69s/it]"
     ]
    },
    {
     "name": "stdout",
     "output_type": "stream",
     "text": [
      "res ```json\n",
      "{\n",
      "    \"object_availability\": \"no\"\n",
      "}\n",
      "```\n",
      "{'object_availability': 'no'}\n"
     ]
    },
    {
     "name": "stderr",
     "output_type": "stream",
     "text": [
      "Running QA Records:  25%|██▍       | 99/400 [02:52<08:35,  1.71s/it]"
     ]
    },
    {
     "name": "stdout",
     "output_type": "stream",
     "text": [
      "res ```json\n",
      "{\n",
      "\t\"object_availability\": \"no\"\n",
      "}\n",
      "```\n",
      "{'object_availability': 'no'}\n"
     ]
    },
    {
     "name": "stderr",
     "output_type": "stream",
     "text": [
      "Running QA Records:  25%|██▌       | 100/400 [02:54<08:55,  1.79s/it]"
     ]
    },
    {
     "name": "stdout",
     "output_type": "stream",
     "text": [
      "res ```json\n",
      "{\n",
      "\t\"object_availability\": \"no\"\n",
      "}\n",
      "```\n",
      "{'object_availability': 'no'}\n"
     ]
    },
    {
     "name": "stderr",
     "output_type": "stream",
     "text": [
      "Running QA Records:  25%|██▌       | 101/400 [02:56<09:05,  1.82s/it]"
     ]
    },
    {
     "name": "stdout",
     "output_type": "stream",
     "text": [
      "res ```json\n",
      "{\n",
      "\t\"object_availability\": \"no\"\n",
      "}\n",
      "```\n",
      "{'object_availability': 'no'}\n"
     ]
    },
    {
     "name": "stderr",
     "output_type": "stream",
     "text": [
      "Running QA Records:  26%|██▌       | 102/400 [02:58<08:48,  1.77s/it]"
     ]
    },
    {
     "name": "stdout",
     "output_type": "stream",
     "text": [
      "res ```json\n",
      "{\n",
      "\t\"object_availability\": \"yes\"\n",
      "}\n",
      "```\n",
      "{'object_availability': 'yes'}\n"
     ]
    },
    {
     "name": "stderr",
     "output_type": "stream",
     "text": [
      "Running QA Records:  26%|██▌       | 103/400 [02:59<08:32,  1.72s/it]"
     ]
    },
    {
     "name": "stdout",
     "output_type": "stream",
     "text": [
      "res ```json\n",
      "{\n",
      "\t\"object_availability\": \"yes\"\n",
      "}\n",
      "```\n",
      "{'object_availability': 'yes'}\n"
     ]
    },
    {
     "name": "stderr",
     "output_type": "stream",
     "text": [
      "Running QA Records:  26%|██▌       | 104/400 [03:01<08:27,  1.71s/it]"
     ]
    },
    {
     "name": "stdout",
     "output_type": "stream",
     "text": [
      "res ```json\n",
      "{\n",
      "\t\"object_availability\": \"yes\"\n",
      "}\n",
      "```\n",
      "{'object_availability': 'yes'}\n"
     ]
    },
    {
     "name": "stderr",
     "output_type": "stream",
     "text": [
      "Running QA Records:  26%|██▋       | 105/400 [03:02<07:32,  1.53s/it]"
     ]
    },
    {
     "name": "stdout",
     "output_type": "stream",
     "text": [
      "res ```json\n",
      "{\n",
      "\t\"object_availability\": \"no\"\n",
      "}\n",
      "```\n",
      "{'object_availability': 'no'}\n"
     ]
    },
    {
     "name": "stderr",
     "output_type": "stream",
     "text": [
      "Running QA Records:  26%|██▋       | 106/400 [03:05<08:35,  1.75s/it]"
     ]
    },
    {
     "name": "stdout",
     "output_type": "stream",
     "text": [
      "res ```json\n",
      "{\n",
      "\t\"object_availability\": \"yes\"\n",
      "}\n",
      "```\n",
      "{'object_availability': 'yes'}\n"
     ]
    },
    {
     "name": "stderr",
     "output_type": "stream",
     "text": [
      "Running QA Records:  27%|██▋       | 107/400 [03:06<08:24,  1.72s/it]"
     ]
    },
    {
     "name": "stdout",
     "output_type": "stream",
     "text": [
      "res ```json\n",
      "{\n",
      "\t\"object_availability\": \"no\"\n",
      "}\n",
      "```\n",
      "{'object_availability': 'no'}\n"
     ]
    },
    {
     "name": "stderr",
     "output_type": "stream",
     "text": [
      "Running QA Records:  27%|██▋       | 108/400 [03:08<07:58,  1.64s/it]"
     ]
    },
    {
     "name": "stdout",
     "output_type": "stream",
     "text": [
      "res ```json\n",
      "{\n",
      "\t\"object_availability\": \"yes\"\n",
      "}\n",
      "```\n",
      "{'object_availability': 'yes'}\n"
     ]
    },
    {
     "name": "stderr",
     "output_type": "stream",
     "text": [
      "Running QA Records:  27%|██▋       | 109/400 [03:09<08:13,  1.70s/it]"
     ]
    },
    {
     "name": "stdout",
     "output_type": "stream",
     "text": [
      "res ```json\n",
      "{\n",
      "\t\"object_availability\": \"no\"\n",
      "}\n",
      "```\n",
      "{'object_availability': 'no'}\n"
     ]
    },
    {
     "name": "stderr",
     "output_type": "stream",
     "text": [
      "Running QA Records:  28%|██▊       | 110/400 [03:13<11:07,  2.30s/it]"
     ]
    },
    {
     "name": "stdout",
     "output_type": "stream",
     "text": [
      "res ```json\n",
      "{\n",
      "\t\"object_availability\": \"yes\"\n",
      "}\n",
      "```\n",
      "{'object_availability': 'yes'}\n"
     ]
    },
    {
     "name": "stderr",
     "output_type": "stream",
     "text": [
      "Running QA Records:  28%|██▊       | 111/400 [03:15<10:24,  2.16s/it]"
     ]
    },
    {
     "name": "stdout",
     "output_type": "stream",
     "text": [
      "res ```json\n",
      "{\n",
      "\t\"object_availability\": \"no\"\n",
      "}\n",
      "```\n",
      "{'object_availability': 'no'}\n"
     ]
    },
    {
     "name": "stderr",
     "output_type": "stream",
     "text": [
      "Running QA Records:  28%|██▊       | 112/400 [03:17<10:28,  2.18s/it]"
     ]
    },
    {
     "name": "stdout",
     "output_type": "stream",
     "text": [
      "res ```json\n",
      "{\n",
      "\t\"object_availability\": \"no\"\n",
      "}\n",
      "```\n",
      "{'object_availability': 'no'}\n"
     ]
    },
    {
     "name": "stderr",
     "output_type": "stream",
     "text": [
      "Running QA Records:  28%|██▊       | 113/400 [03:19<09:44,  2.04s/it]"
     ]
    },
    {
     "name": "stdout",
     "output_type": "stream",
     "text": [
      "res ```json\n",
      "{\n",
      "\t\"object_availability\": \"yes\"\n",
      "}\n",
      "```\n",
      "{'object_availability': 'yes'}\n"
     ]
    },
    {
     "name": "stderr",
     "output_type": "stream",
     "text": [
      "Running QA Records:  28%|██▊       | 114/400 [03:20<08:30,  1.78s/it]"
     ]
    },
    {
     "name": "stdout",
     "output_type": "stream",
     "text": [
      "res ```json\n",
      "{\n",
      "\t\"object_availability\": \"no\"\n",
      "}\n",
      "```\n",
      "{'object_availability': 'no'}\n"
     ]
    },
    {
     "name": "stderr",
     "output_type": "stream",
     "text": [
      "Running QA Records:  29%|██▉       | 115/400 [03:22<08:38,  1.82s/it]"
     ]
    },
    {
     "name": "stdout",
     "output_type": "stream",
     "text": [
      "res ```json\n",
      "{\n",
      "\t\"object_availability\": \"yes\"\n",
      "}\n",
      "```\n",
      "{'object_availability': 'yes'}\n"
     ]
    },
    {
     "name": "stderr",
     "output_type": "stream",
     "text": [
      "Running QA Records:  29%|██▉       | 116/400 [03:24<08:29,  1.80s/it]"
     ]
    },
    {
     "name": "stdout",
     "output_type": "stream",
     "text": [
      "res ```json\n",
      "{\n",
      "\t\"object_availability\": \"no\"\n",
      "}\n",
      "```\n",
      "{'object_availability': 'no'}\n"
     ]
    },
    {
     "name": "stderr",
     "output_type": "stream",
     "text": [
      "Running QA Records:  29%|██▉       | 117/400 [03:25<07:21,  1.56s/it]"
     ]
    },
    {
     "name": "stdout",
     "output_type": "stream",
     "text": [
      "res ```json\n",
      "{\n",
      "\t\"object_availability\": \"no\"\n",
      "}\n",
      "```\n",
      "{'object_availability': 'no'}\n"
     ]
    },
    {
     "name": "stderr",
     "output_type": "stream",
     "text": [
      "Running QA Records:  30%|██▉       | 118/400 [03:26<06:38,  1.41s/it]"
     ]
    },
    {
     "name": "stdout",
     "output_type": "stream",
     "text": [
      "res ```json\n",
      "{\n",
      "\t\"object_availability\": \"yes\"\n",
      "}\n",
      "```\n",
      "{'object_availability': 'yes'}\n"
     ]
    },
    {
     "name": "stderr",
     "output_type": "stream",
     "text": [
      "Running QA Records:  30%|██▉       | 119/400 [03:27<06:38,  1.42s/it]"
     ]
    },
    {
     "name": "stdout",
     "output_type": "stream",
     "text": [
      "res ```json\n",
      "{\n",
      "\t\"object_availability\": \"no\"\n",
      "}\n",
      "```\n",
      "{'object_availability': 'no'}\n"
     ]
    },
    {
     "name": "stderr",
     "output_type": "stream",
     "text": [
      "Running QA Records:  30%|███       | 120/400 [03:29<06:37,  1.42s/it]"
     ]
    },
    {
     "name": "stdout",
     "output_type": "stream",
     "text": [
      "res ```json\n",
      "{\n",
      "\t\"object_availability\": \"no\"\n",
      "}\n",
      "```\n",
      "{'object_availability': 'no'}\n"
     ]
    },
    {
     "name": "stderr",
     "output_type": "stream",
     "text": [
      "Running QA Records:  30%|███       | 121/400 [03:30<06:20,  1.37s/it]"
     ]
    },
    {
     "name": "stdout",
     "output_type": "stream",
     "text": [
      "res ```json\n",
      "{\n",
      "\t\"object_availability\": \"yes\"\n",
      "}\n",
      "```\n",
      "{'object_availability': 'yes'}\n"
     ]
    },
    {
     "name": "stderr",
     "output_type": "stream",
     "text": [
      "Running QA Records:  30%|███       | 122/400 [03:33<08:55,  1.93s/it]"
     ]
    },
    {
     "name": "stdout",
     "output_type": "stream",
     "text": [
      "res ```json\n",
      "{\n",
      "\t\"object_availability\": \"yes\"\n",
      "}\n",
      "```\n",
      "{'object_availability': 'yes'}\n"
     ]
    },
    {
     "name": "stderr",
     "output_type": "stream",
     "text": [
      "Running QA Records:  31%|███       | 123/400 [03:35<08:39,  1.88s/it]"
     ]
    },
    {
     "name": "stdout",
     "output_type": "stream",
     "text": [
      "res ```json\n",
      "{\n",
      "\t\"object_availability\": \"yes\"\n",
      "}\n",
      "```\n",
      "{'object_availability': 'yes'}\n"
     ]
    },
    {
     "name": "stderr",
     "output_type": "stream",
     "text": [
      "Running QA Records:  31%|███       | 124/400 [03:36<07:47,  1.69s/it]"
     ]
    },
    {
     "name": "stdout",
     "output_type": "stream",
     "text": [
      "res ```json\n",
      "{\n",
      "\t\"object_availability\": \"no\"\n",
      "}\n",
      "```\n",
      "{'object_availability': 'no'}\n"
     ]
    },
    {
     "name": "stderr",
     "output_type": "stream",
     "text": [
      "Running QA Records:  31%|███▏      | 125/400 [03:38<08:03,  1.76s/it]"
     ]
    },
    {
     "name": "stdout",
     "output_type": "stream",
     "text": [
      "res ```json\n",
      "{\n",
      "\t\"object_availability\": \"no\"\n",
      "}\n",
      "```\n",
      "{'object_availability': 'no'}\n"
     ]
    },
    {
     "name": "stderr",
     "output_type": "stream",
     "text": [
      "Running QA Records:  32%|███▏      | 126/400 [03:39<07:18,  1.60s/it]"
     ]
    },
    {
     "name": "stdout",
     "output_type": "stream",
     "text": [
      "res ```json\n",
      "{\n",
      "\t\"object_availability\": \"yes\"\n",
      "}\n",
      "```\n",
      "{'object_availability': 'yes'}\n"
     ]
    },
    {
     "name": "stderr",
     "output_type": "stream",
     "text": [
      "Running QA Records:  32%|███▏      | 127/400 [03:41<07:30,  1.65s/it]"
     ]
    },
    {
     "name": "stdout",
     "output_type": "stream",
     "text": [
      "res ```json\n",
      "{\n",
      "\t\"object_availability\": \"no\"\n",
      "}\n",
      "```\n",
      "{'object_availability': 'no'}\n"
     ]
    },
    {
     "name": "stderr",
     "output_type": "stream",
     "text": [
      "Running QA Records:  32%|███▏      | 128/400 [03:42<07:06,  1.57s/it]"
     ]
    },
    {
     "name": "stdout",
     "output_type": "stream",
     "text": [
      "res ```json\n",
      "{\n",
      "\t\"object_availability\": \"no\"\n",
      "}\n",
      "```\n",
      "{'object_availability': 'no'}\n"
     ]
    },
    {
     "name": "stderr",
     "output_type": "stream",
     "text": [
      "Running QA Records:  32%|███▏      | 129/400 [03:45<08:13,  1.82s/it]"
     ]
    },
    {
     "name": "stdout",
     "output_type": "stream",
     "text": [
      "res ```json\n",
      "{\n",
      "\t\"object_availability\": \"yes\"\n",
      "}\n",
      "```\n",
      "{'object_availability': 'yes'}\n"
     ]
    },
    {
     "name": "stderr",
     "output_type": "stream",
     "text": [
      "Running QA Records:  32%|███▎      | 130/400 [03:46<07:20,  1.63s/it]"
     ]
    },
    {
     "name": "stdout",
     "output_type": "stream",
     "text": [
      "res ```json\n",
      "{\n",
      "\t\"object_availability\": \"yes\"\n",
      "}\n",
      "```\n",
      "{'object_availability': 'yes'}\n"
     ]
    },
    {
     "name": "stderr",
     "output_type": "stream",
     "text": [
      "Running QA Records:  33%|███▎      | 131/400 [03:47<07:02,  1.57s/it]"
     ]
    },
    {
     "name": "stdout",
     "output_type": "stream",
     "text": [
      "res ```json\n",
      "{\n",
      "\t\"object_availability\": \"yes\"\n",
      "}\n",
      "```\n",
      "{'object_availability': 'yes'}\n"
     ]
    },
    {
     "name": "stderr",
     "output_type": "stream",
     "text": [
      "Running QA Records:  33%|███▎      | 132/400 [03:50<07:36,  1.70s/it]"
     ]
    },
    {
     "name": "stdout",
     "output_type": "stream",
     "text": [
      "res ```json\n",
      "{\n",
      "\t\"object_availability\": \"no\"\n",
      "}\n",
      "```\n",
      "{'object_availability': 'no'}\n"
     ]
    },
    {
     "name": "stderr",
     "output_type": "stream",
     "text": [
      "Running QA Records:  33%|███▎      | 133/400 [03:51<06:58,  1.57s/it]"
     ]
    },
    {
     "name": "stdout",
     "output_type": "stream",
     "text": [
      "res ```json\n",
      "{\n",
      "\t\"object_availability\": \"yes\"\n",
      "}\n",
      "```\n",
      "{'object_availability': 'yes'}\n"
     ]
    },
    {
     "name": "stderr",
     "output_type": "stream",
     "text": [
      "Running QA Records:  34%|███▎      | 134/400 [03:52<06:35,  1.49s/it]"
     ]
    },
    {
     "name": "stdout",
     "output_type": "stream",
     "text": [
      "res ```json\n",
      "{\n",
      "  \"object_availability\": \"no\"\n",
      "}\n",
      "```\n",
      "{'object_availability': 'no'}\n"
     ]
    },
    {
     "name": "stderr",
     "output_type": "stream",
     "text": [
      "Running QA Records:  34%|███▍      | 135/400 [03:54<07:27,  1.69s/it]"
     ]
    },
    {
     "name": "stdout",
     "output_type": "stream",
     "text": [
      "res ```json\n",
      "{\n",
      "\t\"object_availability\": \"no\"\n",
      "}\n",
      "```\n",
      "{'object_availability': 'no'}\n"
     ]
    },
    {
     "name": "stderr",
     "output_type": "stream",
     "text": [
      "Running QA Records:  34%|███▍      | 136/400 [03:55<06:46,  1.54s/it]"
     ]
    },
    {
     "name": "stdout",
     "output_type": "stream",
     "text": [
      "res ```json\n",
      "{\n",
      "\t\"object_availability\": \"no\"\n",
      "}\n",
      "```\n",
      "{'object_availability': 'no'}\n"
     ]
    },
    {
     "name": "stderr",
     "output_type": "stream",
     "text": [
      "Running QA Records:  34%|███▍      | 137/400 [03:59<09:02,  2.06s/it]"
     ]
    },
    {
     "name": "stdout",
     "output_type": "stream",
     "text": [
      "res ```json\n",
      "{\n",
      "\t\"object_availability\": \"yes\"\n",
      "}\n",
      "```\n",
      "{'object_availability': 'yes'}\n"
     ]
    },
    {
     "name": "stderr",
     "output_type": "stream",
     "text": [
      "Running QA Records:  34%|███▍      | 138/400 [04:00<07:48,  1.79s/it]"
     ]
    },
    {
     "name": "stdout",
     "output_type": "stream",
     "text": [
      "res ```json\n",
      "{\n",
      "\t\"object_availability\": \"yes\"\n",
      "}\n",
      "```\n",
      "{'object_availability': 'yes'}\n"
     ]
    },
    {
     "name": "stderr",
     "output_type": "stream",
     "text": [
      "Running QA Records:  35%|███▍      | 139/400 [04:02<07:37,  1.75s/it]"
     ]
    },
    {
     "name": "stdout",
     "output_type": "stream",
     "text": [
      "res ```json\n",
      "{\n",
      "\t\"object_availability\": \"yes\"\n",
      "}\n",
      "```\n",
      "{'object_availability': 'yes'}\n"
     ]
    },
    {
     "name": "stderr",
     "output_type": "stream",
     "text": [
      "Running QA Records:  35%|███▌      | 140/400 [04:03<06:58,  1.61s/it]"
     ]
    },
    {
     "name": "stdout",
     "output_type": "stream",
     "text": [
      "res ```json\n",
      "{\n",
      "\t\"object_availability\": \"yes\"\n",
      "}\n",
      "```\n",
      "{'object_availability': 'yes'}\n"
     ]
    },
    {
     "name": "stderr",
     "output_type": "stream",
     "text": [
      "Running QA Records:  35%|███▌      | 141/400 [04:04<06:52,  1.59s/it]"
     ]
    },
    {
     "name": "stdout",
     "output_type": "stream",
     "text": [
      "res ```json\n",
      "{\n",
      "\t\"object_availability\": \"yes\"\n",
      "}\n",
      "```\n",
      "{'object_availability': 'yes'}\n"
     ]
    },
    {
     "name": "stderr",
     "output_type": "stream",
     "text": [
      "Running QA Records:  36%|███▌      | 142/400 [04:06<06:44,  1.57s/it]"
     ]
    },
    {
     "name": "stdout",
     "output_type": "stream",
     "text": [
      "res ```json\n",
      "{\n",
      "\t\"object_availability\": \"yes\"\n",
      "}\n",
      "```\n",
      "{'object_availability': 'yes'}\n"
     ]
    },
    {
     "name": "stderr",
     "output_type": "stream",
     "text": [
      "Running QA Records:  36%|███▌      | 143/400 [04:08<06:52,  1.61s/it]"
     ]
    },
    {
     "name": "stdout",
     "output_type": "stream",
     "text": [
      "res ```json\n",
      "{\n",
      "\t\"object_availability\": \"no\"\n",
      "}\n",
      "```\n",
      "{'object_availability': 'no'}\n"
     ]
    },
    {
     "name": "stderr",
     "output_type": "stream",
     "text": [
      "Running QA Records:  36%|███▌      | 144/400 [04:10<07:41,  1.80s/it]"
     ]
    },
    {
     "name": "stdout",
     "output_type": "stream",
     "text": [
      "res ```json\n",
      "{\n",
      "\t\"object_availability\": \"yes\"\n",
      "}\n",
      "```\n",
      "{'object_availability': 'yes'}\n"
     ]
    },
    {
     "name": "stderr",
     "output_type": "stream",
     "text": [
      "Running QA Records:  36%|███▋      | 145/400 [04:12<07:37,  1.80s/it]"
     ]
    },
    {
     "name": "stdout",
     "output_type": "stream",
     "text": [
      "res ```json\n",
      "{\n",
      "\t\"object_availability\": \"yes\"\n",
      "}\n",
      "```\n",
      "{'object_availability': 'yes'}\n"
     ]
    },
    {
     "name": "stderr",
     "output_type": "stream",
     "text": [
      "Running QA Records:  36%|███▋      | 146/400 [04:13<07:05,  1.68s/it]"
     ]
    },
    {
     "name": "stdout",
     "output_type": "stream",
     "text": [
      "res ```json\n",
      "{\n",
      "\t\"object_availability\": \"yes\"\n",
      "}\n",
      "```\n",
      "{'object_availability': 'yes'}\n"
     ]
    },
    {
     "name": "stderr",
     "output_type": "stream",
     "text": [
      "Running QA Records:  37%|███▋      | 147/400 [04:14<06:19,  1.50s/it]"
     ]
    },
    {
     "name": "stdout",
     "output_type": "stream",
     "text": [
      "res ```json\n",
      "{\n",
      "\t\"object_availability\": \"yes\"\n",
      "}\n",
      "```\n",
      "{'object_availability': 'yes'}\n"
     ]
    },
    {
     "name": "stderr",
     "output_type": "stream",
     "text": [
      "Running QA Records:  37%|███▋      | 148/400 [04:15<05:58,  1.42s/it]"
     ]
    },
    {
     "name": "stdout",
     "output_type": "stream",
     "text": [
      "res ```json\n",
      "{\n",
      "\t\"object_availability\": \"no\"\n",
      "}\n",
      "```\n",
      "{'object_availability': 'no'}\n"
     ]
    },
    {
     "name": "stderr",
     "output_type": "stream",
     "text": [
      "Running QA Records:  37%|███▋      | 149/400 [04:17<06:38,  1.59s/it]"
     ]
    },
    {
     "name": "stdout",
     "output_type": "stream",
     "text": [
      "res ```json\n",
      "{\n",
      "\t\"object_availability\": \"yes\"\n",
      "}\n",
      "```\n",
      "{'object_availability': 'yes'}\n"
     ]
    },
    {
     "name": "stderr",
     "output_type": "stream",
     "text": [
      "Running QA Records:  38%|███▊      | 150/400 [04:19<06:23,  1.54s/it]"
     ]
    },
    {
     "name": "stdout",
     "output_type": "stream",
     "text": [
      "res ```json\n",
      "{\n",
      "\t\"object_availability\": \"yes\"\n",
      "}\n",
      "```\n",
      "{'object_availability': 'yes'}\n"
     ]
    },
    {
     "name": "stderr",
     "output_type": "stream",
     "text": [
      "Running QA Records:  38%|███▊      | 151/400 [04:21<06:51,  1.65s/it]"
     ]
    },
    {
     "name": "stdout",
     "output_type": "stream",
     "text": [
      "res ```json\n",
      "{\n",
      "\t\"object_availability\": \"no\"\n",
      "}\n",
      "```\n",
      "{'object_availability': 'no'}\n"
     ]
    },
    {
     "name": "stderr",
     "output_type": "stream",
     "text": [
      "Running QA Records:  38%|███▊      | 152/400 [04:22<06:53,  1.67s/it]"
     ]
    },
    {
     "name": "stdout",
     "output_type": "stream",
     "text": [
      "res ```json\n",
      "{\n",
      "\t\"object_availability\": \"yes\"\n",
      "}\n",
      "```\n",
      "{'object_availability': 'yes'}\n"
     ]
    },
    {
     "name": "stderr",
     "output_type": "stream",
     "text": [
      "Running QA Records:  38%|███▊      | 153/400 [04:23<06:08,  1.49s/it]"
     ]
    },
    {
     "name": "stdout",
     "output_type": "stream",
     "text": [
      "res ```json\n",
      "{\n",
      "\t\"object_availability\": \"yes\"\n",
      "}\n",
      "```\n",
      "{'object_availability': 'yes'}\n"
     ]
    },
    {
     "name": "stderr",
     "output_type": "stream",
     "text": [
      "Running QA Records:  38%|███▊      | 154/400 [04:25<05:54,  1.44s/it]"
     ]
    },
    {
     "name": "stdout",
     "output_type": "stream",
     "text": [
      "res ```json\n",
      "{\n",
      "\t\"object_availability\": \"yes\"\n",
      "}\n",
      "```\n",
      "{'object_availability': 'yes'}\n"
     ]
    },
    {
     "name": "stderr",
     "output_type": "stream",
     "text": [
      "Running QA Records:  39%|███▉      | 155/400 [04:26<05:58,  1.47s/it]"
     ]
    },
    {
     "name": "stdout",
     "output_type": "stream",
     "text": [
      "res ```json\n",
      "{\n",
      "\t\"object_availability\": \"yes\"\n",
      "}\n",
      "```\n",
      "{'object_availability': 'yes'}\n"
     ]
    },
    {
     "name": "stderr",
     "output_type": "stream",
     "text": [
      "Running QA Records:  39%|███▉      | 156/400 [04:28<05:51,  1.44s/it]"
     ]
    },
    {
     "name": "stdout",
     "output_type": "stream",
     "text": [
      "res ```json\n",
      "{\n",
      "\t\"object_availability\": \"no\"\n",
      "}\n",
      "```\n",
      "{'object_availability': 'no'}\n"
     ]
    },
    {
     "name": "stderr",
     "output_type": "stream",
     "text": [
      "Running QA Records:  39%|███▉      | 157/400 [04:29<05:46,  1.43s/it]"
     ]
    },
    {
     "name": "stdout",
     "output_type": "stream",
     "text": [
      "res ```json\n",
      "{\n",
      "\t\"object_availability\": \"no\"\n",
      "}\n",
      "```\n",
      "{'object_availability': 'no'}\n"
     ]
    },
    {
     "name": "stderr",
     "output_type": "stream",
     "text": [
      "Running QA Records:  40%|███▉      | 158/400 [04:31<06:34,  1.63s/it]"
     ]
    },
    {
     "name": "stdout",
     "output_type": "stream",
     "text": [
      "res ```json\n",
      "{\n",
      "\t\"object_availability\": \"no\"\n",
      "}\n",
      "```\n",
      "{'object_availability': 'no'}\n"
     ]
    },
    {
     "name": "stderr",
     "output_type": "stream",
     "text": [
      "Running QA Records:  40%|███▉      | 159/400 [04:33<06:33,  1.63s/it]"
     ]
    },
    {
     "name": "stdout",
     "output_type": "stream",
     "text": [
      "res ```json\n",
      "{\n",
      "\t\"object_availability\": \"yes\"\n",
      "}\n",
      "```\n",
      "{'object_availability': 'yes'}\n"
     ]
    },
    {
     "name": "stderr",
     "output_type": "stream",
     "text": [
      "Running QA Records:  40%|████      | 160/400 [04:34<06:28,  1.62s/it]"
     ]
    },
    {
     "name": "stdout",
     "output_type": "stream",
     "text": [
      "res ```json\n",
      "{\n",
      "\t\"object_availability\": \"no\"\n",
      "}\n",
      "```\n",
      "{'object_availability': 'no'}\n"
     ]
    },
    {
     "name": "stderr",
     "output_type": "stream",
     "text": [
      "Running QA Records:  40%|████      | 161/400 [04:36<07:01,  1.76s/it]"
     ]
    },
    {
     "name": "stdout",
     "output_type": "stream",
     "text": [
      "res ```json\n",
      "{\n",
      "\t\"object_availability\": \"no\"\n",
      "}\n",
      "```\n",
      "{'object_availability': 'no'}\n"
     ]
    },
    {
     "name": "stderr",
     "output_type": "stream",
     "text": [
      "Running QA Records:  40%|████      | 162/400 [04:38<06:39,  1.68s/it]"
     ]
    },
    {
     "name": "stdout",
     "output_type": "stream",
     "text": [
      "res ```json\n",
      "{\n",
      "\t\"object_availability\": \"no\"\n",
      "}\n",
      "```\n",
      "{'object_availability': 'no'}\n"
     ]
    },
    {
     "name": "stderr",
     "output_type": "stream",
     "text": [
      "Running QA Records:  41%|████      | 163/400 [04:39<06:15,  1.58s/it]"
     ]
    },
    {
     "name": "stdout",
     "output_type": "stream",
     "text": [
      "res ```json\n",
      "{\n",
      "\t\"object_availability\": \"no\"\n",
      "}\n",
      "```\n",
      "{'object_availability': 'no'}\n"
     ]
    },
    {
     "name": "stderr",
     "output_type": "stream",
     "text": [
      "Running QA Records:  41%|████      | 164/400 [04:41<05:49,  1.48s/it]"
     ]
    },
    {
     "name": "stdout",
     "output_type": "stream",
     "text": [
      "res ```json\n",
      "{\n",
      "\t\"object_availability\": \"yes\"\n",
      "}\n",
      "```\n",
      "{'object_availability': 'yes'}\n"
     ]
    },
    {
     "name": "stderr",
     "output_type": "stream",
     "text": [
      "Running QA Records:  41%|████▏     | 165/400 [04:43<06:36,  1.69s/it]"
     ]
    },
    {
     "name": "stdout",
     "output_type": "stream",
     "text": [
      "res ```json\n",
      "{\n",
      "\t\"object_availability\": \"no\"\n",
      "}\n",
      "```\n",
      "{'object_availability': 'no'}\n"
     ]
    },
    {
     "name": "stderr",
     "output_type": "stream",
     "text": [
      "Running QA Records:  42%|████▏     | 166/400 [04:44<06:36,  1.69s/it]"
     ]
    },
    {
     "name": "stdout",
     "output_type": "stream",
     "text": [
      "res ```json\n",
      "{\n",
      "\t\"object_availability\": \"no\"\n",
      "}\n",
      "```\n",
      "{'object_availability': 'no'}\n"
     ]
    },
    {
     "name": "stderr",
     "output_type": "stream",
     "text": [
      "Running QA Records:  42%|████▏     | 167/400 [04:46<06:42,  1.73s/it]"
     ]
    },
    {
     "name": "stdout",
     "output_type": "stream",
     "text": [
      "res ```json\n",
      "{\n",
      "\t\"object_availability\": \"no\"\n",
      "}\n",
      "```\n",
      "{'object_availability': 'no'}\n"
     ]
    },
    {
     "name": "stderr",
     "output_type": "stream",
     "text": [
      "Running QA Records:  42%|████▏     | 168/400 [04:48<06:31,  1.69s/it]"
     ]
    },
    {
     "name": "stdout",
     "output_type": "stream",
     "text": [
      "res ```json\n",
      "{\n",
      "\t\"object_availability\": \"no\"\n",
      "}\n",
      "```\n",
      "{'object_availability': 'no'}\n"
     ]
    },
    {
     "name": "stderr",
     "output_type": "stream",
     "text": [
      "Running QA Records:  42%|████▏     | 169/400 [04:49<06:06,  1.59s/it]"
     ]
    },
    {
     "name": "stdout",
     "output_type": "stream",
     "text": [
      "res ```json\n",
      "{\n",
      "\t\"object_availability\": \"yes\"\n",
      "}\n",
      "```\n",
      "{'object_availability': 'yes'}\n"
     ]
    },
    {
     "name": "stderr",
     "output_type": "stream",
     "text": [
      "Running QA Records:  42%|████▎     | 170/400 [04:51<06:54,  1.80s/it]"
     ]
    },
    {
     "name": "stdout",
     "output_type": "stream",
     "text": [
      "res ```json\n",
      "{\n",
      "\t\"object_availability\": \"no\"\n",
      "}\n",
      "```\n",
      "{'object_availability': 'no'}\n"
     ]
    },
    {
     "name": "stderr",
     "output_type": "stream",
     "text": [
      "Running QA Records:  43%|████▎     | 171/400 [04:53<06:20,  1.66s/it]"
     ]
    },
    {
     "name": "stdout",
     "output_type": "stream",
     "text": [
      "res ```json\n",
      "{\n",
      "\t\"object_availability\": \"no\"\n",
      "}\n",
      "```\n",
      "{'object_availability': 'no'}\n"
     ]
    },
    {
     "name": "stderr",
     "output_type": "stream",
     "text": [
      "Running QA Records:  43%|████▎     | 172/400 [04:54<06:09,  1.62s/it]"
     ]
    },
    {
     "name": "stdout",
     "output_type": "stream",
     "text": [
      "res ```json\n",
      "{\n",
      "\t\"object_availability\": \"yes\"\n",
      "}\n",
      "```\n",
      "{'object_availability': 'yes'}\n"
     ]
    },
    {
     "name": "stderr",
     "output_type": "stream",
     "text": [
      "Running QA Records:  43%|████▎     | 173/400 [04:56<06:19,  1.67s/it]"
     ]
    },
    {
     "name": "stdout",
     "output_type": "stream",
     "text": [
      "res ```json\n",
      "{\n",
      "\t\"object_availability\": \"no\"\n",
      "}\n",
      "```\n",
      "{'object_availability': 'no'}\n"
     ]
    },
    {
     "name": "stderr",
     "output_type": "stream",
     "text": [
      "Running QA Records:  44%|████▎     | 174/400 [04:58<06:43,  1.79s/it]"
     ]
    },
    {
     "name": "stdout",
     "output_type": "stream",
     "text": [
      "res ```json\n",
      "{\n",
      "\t\"object_availability\": \"no\"\n",
      "}\n",
      "```\n",
      "{'object_availability': 'no'}\n"
     ]
    },
    {
     "name": "stderr",
     "output_type": "stream",
     "text": [
      "Running QA Records:  44%|████▍     | 175/400 [05:00<07:03,  1.88s/it]"
     ]
    },
    {
     "name": "stdout",
     "output_type": "stream",
     "text": [
      "res ```json\n",
      "{\n",
      "\t\"object_availability\": \"no\"\n",
      "}\n",
      "```\n",
      "{'object_availability': 'no'}\n"
     ]
    },
    {
     "name": "stderr",
     "output_type": "stream",
     "text": [
      "Running QA Records:  44%|████▍     | 176/400 [05:02<06:40,  1.79s/it]"
     ]
    },
    {
     "name": "stdout",
     "output_type": "stream",
     "text": [
      "res ```json\n",
      "{\n",
      "\t\"object_availability\": \"yes\"\n",
      "}\n",
      "```\n",
      "{'object_availability': 'yes'}\n"
     ]
    },
    {
     "name": "stderr",
     "output_type": "stream",
     "text": [
      "Running QA Records:  44%|████▍     | 177/400 [05:04<07:07,  1.92s/it]"
     ]
    },
    {
     "name": "stdout",
     "output_type": "stream",
     "text": [
      "res ```json\n",
      "{\n",
      "\t\"object_availability\": \"no\"\n",
      "}\n",
      "```\n",
      "{'object_availability': 'no'}\n"
     ]
    },
    {
     "name": "stderr",
     "output_type": "stream",
     "text": [
      "Running QA Records:  44%|████▍     | 178/400 [05:06<07:15,  1.96s/it]"
     ]
    },
    {
     "name": "stdout",
     "output_type": "stream",
     "text": [
      "res ```json\n",
      "{\n",
      "\t\"object_availability\": \"no\"\n",
      "}\n",
      "```\n",
      "{'object_availability': 'no'}\n"
     ]
    },
    {
     "name": "stderr",
     "output_type": "stream",
     "text": [
      "Running QA Records:  45%|████▍     | 179/400 [05:09<08:19,  2.26s/it]"
     ]
    },
    {
     "name": "stdout",
     "output_type": "stream",
     "text": [
      "res ```json\n",
      "{\n",
      "\t\"object_availability\": \"no\"\n",
      "}\n",
      "```\n",
      "{'object_availability': 'no'}\n"
     ]
    },
    {
     "name": "stderr",
     "output_type": "stream",
     "text": [
      "Running QA Records:  45%|████▌     | 180/400 [05:10<07:06,  1.94s/it]"
     ]
    },
    {
     "name": "stdout",
     "output_type": "stream",
     "text": [
      "res ```json\n",
      "{\n",
      "\t\"object_availability\": \"yes\"\n",
      "}\n",
      "```\n",
      "{'object_availability': 'yes'}\n"
     ]
    },
    {
     "name": "stderr",
     "output_type": "stream",
     "text": [
      "Running QA Records:  45%|████▌     | 181/400 [05:12<06:31,  1.79s/it]"
     ]
    },
    {
     "name": "stdout",
     "output_type": "stream",
     "text": [
      "res ```json\n",
      "{\n",
      "\t\"object_availability\": \"no\"\n",
      "}\n",
      "```\n",
      "{'object_availability': 'no'}\n"
     ]
    },
    {
     "name": "stderr",
     "output_type": "stream",
     "text": [
      "Running QA Records:  46%|████▌     | 182/400 [05:13<05:49,  1.60s/it]"
     ]
    },
    {
     "name": "stdout",
     "output_type": "stream",
     "text": [
      "res ```json\n",
      "{\n",
      "\t\"object_availability\": \"yes\"\n",
      "}\n",
      "```\n",
      "{'object_availability': 'yes'}\n"
     ]
    },
    {
     "name": "stderr",
     "output_type": "stream",
     "text": [
      "Running QA Records:  46%|████▌     | 183/400 [05:14<05:41,  1.57s/it]"
     ]
    },
    {
     "name": "stdout",
     "output_type": "stream",
     "text": [
      "res ```json\n",
      "{\n",
      "\t\"object_availability\": \"no\"\n",
      "}\n",
      "```\n",
      "{'object_availability': 'no'}\n"
     ]
    },
    {
     "name": "stderr",
     "output_type": "stream",
     "text": [
      "Running QA Records:  46%|████▌     | 184/400 [05:20<09:42,  2.70s/it]"
     ]
    },
    {
     "name": "stdout",
     "output_type": "stream",
     "text": [
      "res ```json\n",
      "{\n",
      "\t\"object_availability\": \"yes\"\n",
      "}\n",
      "```\n",
      "{'object_availability': 'yes'}\n"
     ]
    },
    {
     "name": "stderr",
     "output_type": "stream",
     "text": [
      "Running QA Records:  46%|████▋     | 185/400 [05:21<08:18,  2.32s/it]"
     ]
    },
    {
     "name": "stdout",
     "output_type": "stream",
     "text": [
      "res ```json\n",
      "{\n",
      "\t\"object_availability\": \"no\"\n",
      "}\n",
      "```\n",
      "{'object_availability': 'no'}\n"
     ]
    },
    {
     "name": "stderr",
     "output_type": "stream",
     "text": [
      "Running QA Records:  46%|████▋     | 186/400 [05:23<07:45,  2.17s/it]"
     ]
    },
    {
     "name": "stdout",
     "output_type": "stream",
     "text": [
      "res ```json\n",
      "{\n",
      "\t\"object_availability\": \"no\"\n",
      "}\n",
      "```\n",
      "{'object_availability': 'no'}\n"
     ]
    },
    {
     "name": "stderr",
     "output_type": "stream",
     "text": [
      "Running QA Records:  47%|████▋     | 187/400 [05:24<06:43,  1.89s/it]"
     ]
    },
    {
     "name": "stdout",
     "output_type": "stream",
     "text": [
      "res ```json\n",
      "{\n",
      "\t\"object_availability\": \"yes\"\n",
      "}\n",
      "```\n",
      "{'object_availability': 'yes'}\n"
     ]
    },
    {
     "name": "stderr",
     "output_type": "stream",
     "text": [
      "Running QA Records:  47%|████▋     | 188/400 [05:26<06:26,  1.82s/it]"
     ]
    },
    {
     "name": "stdout",
     "output_type": "stream",
     "text": [
      "res ```json\n",
      "{\n",
      "\t\"object_availability\": \"yes\"\n",
      "}\n",
      "```\n",
      "{'object_availability': 'yes'}\n"
     ]
    },
    {
     "name": "stderr",
     "output_type": "stream",
     "text": [
      "Running QA Records:  47%|████▋     | 189/400 [05:28<06:13,  1.77s/it]"
     ]
    },
    {
     "name": "stdout",
     "output_type": "stream",
     "text": [
      "res ```json\n",
      "{\n",
      "\t\"object_availability\": \"no\"\n",
      "}\n",
      "```\n",
      "{'object_availability': 'no'}\n"
     ]
    },
    {
     "name": "stderr",
     "output_type": "stream",
     "text": [
      "Running QA Records:  48%|████▊     | 190/400 [05:30<06:50,  1.95s/it]"
     ]
    },
    {
     "name": "stdout",
     "output_type": "stream",
     "text": [
      "res ```json\n",
      "{\n",
      "\t\"object_availability\": \"no\"\n",
      "}\n",
      "```\n",
      "{'object_availability': 'no'}\n"
     ]
    },
    {
     "name": "stderr",
     "output_type": "stream",
     "text": [
      "Running QA Records:  48%|████▊     | 191/400 [05:31<06:05,  1.75s/it]"
     ]
    },
    {
     "name": "stdout",
     "output_type": "stream",
     "text": [
      "res ```json\n",
      "{\n",
      "\t\"object_availability\": \"yes\"\n",
      "}\n",
      "```\n",
      "{'object_availability': 'yes'}\n"
     ]
    },
    {
     "name": "stderr",
     "output_type": "stream",
     "text": [
      "Running QA Records:  48%|████▊     | 192/400 [05:33<05:59,  1.73s/it]"
     ]
    },
    {
     "name": "stdout",
     "output_type": "stream",
     "text": [
      "res ```json\n",
      "{\n",
      "\t\"object_availability\": \"yes\"\n",
      "}\n",
      "```\n",
      "{'object_availability': 'yes'}\n"
     ]
    },
    {
     "name": "stderr",
     "output_type": "stream",
     "text": [
      "Running QA Records:  48%|████▊     | 193/400 [05:35<05:54,  1.71s/it]"
     ]
    },
    {
     "name": "stdout",
     "output_type": "stream",
     "text": [
      "res ```json\n",
      "{\n",
      "\t\"object_availability\": \"yes\"\n",
      "}\n",
      "```\n",
      "{'object_availability': 'yes'}\n"
     ]
    },
    {
     "name": "stderr",
     "output_type": "stream",
     "text": [
      "Running QA Records:  48%|████▊     | 194/400 [05:37<06:36,  1.93s/it]"
     ]
    },
    {
     "name": "stdout",
     "output_type": "stream",
     "text": [
      "res ```json\n",
      "{\n",
      "\t\"object_availability\": \"no\"\n",
      "}\n",
      "```\n",
      "{'object_availability': 'no'}\n"
     ]
    },
    {
     "name": "stderr",
     "output_type": "stream",
     "text": [
      "Running QA Records:  49%|████▉     | 195/400 [05:38<05:42,  1.67s/it]"
     ]
    },
    {
     "name": "stdout",
     "output_type": "stream",
     "text": [
      "res ```json\n",
      "{\n",
      "\t\"object_availability\": \"yes\"\n",
      "}\n",
      "```\n",
      "{'object_availability': 'yes'}\n"
     ]
    },
    {
     "name": "stderr",
     "output_type": "stream",
     "text": [
      "Running QA Records:  49%|████▉     | 196/400 [05:39<05:02,  1.48s/it]"
     ]
    },
    {
     "name": "stdout",
     "output_type": "stream",
     "text": [
      "res ```json\n",
      "{\n",
      "\t\"object_availability\": \"yes\"\n",
      "}\n",
      "```\n",
      "{'object_availability': 'yes'}\n"
     ]
    },
    {
     "name": "stderr",
     "output_type": "stream",
     "text": [
      "Running QA Records:  49%|████▉     | 197/400 [05:41<05:26,  1.61s/it]"
     ]
    },
    {
     "name": "stdout",
     "output_type": "stream",
     "text": [
      "res ```json\n",
      "{\n",
      "\t\"object_availability\": \"no\"\n",
      "}\n",
      "```\n",
      "{'object_availability': 'no'}\n"
     ]
    },
    {
     "name": "stderr",
     "output_type": "stream",
     "text": [
      "Running QA Records:  50%|████▉     | 198/400 [05:42<05:15,  1.56s/it]"
     ]
    },
    {
     "name": "stdout",
     "output_type": "stream",
     "text": [
      "res ```json\n",
      "{\n",
      "\t\"object_availability\": \"no\"\n",
      "}\n",
      "```\n",
      "{'object_availability': 'no'}\n"
     ]
    },
    {
     "name": "stderr",
     "output_type": "stream",
     "text": [
      "Running QA Records:  50%|████▉     | 199/400 [05:44<05:28,  1.63s/it]"
     ]
    },
    {
     "name": "stdout",
     "output_type": "stream",
     "text": [
      "res ```json\n",
      "{\n",
      "\t\"object_availability\": \"yes\"\n",
      "}\n",
      "```\n",
      "{'object_availability': 'yes'}\n"
     ]
    },
    {
     "name": "stderr",
     "output_type": "stream",
     "text": [
      "Running QA Records:  50%|█████     | 200/400 [05:46<05:15,  1.58s/it]"
     ]
    },
    {
     "name": "stdout",
     "output_type": "stream",
     "text": [
      "res ```json\n",
      "{\n",
      "\t\"object_availability\": \"no\"\n",
      "}\n",
      "```\n",
      "{'object_availability': 'no'}\n"
     ]
    },
    {
     "name": "stderr",
     "output_type": "stream",
     "text": [
      "Running QA Records:  50%|█████     | 201/400 [05:48<05:31,  1.66s/it]"
     ]
    },
    {
     "name": "stdout",
     "output_type": "stream",
     "text": [
      "res ```json\n",
      "{\n",
      "\t\"object_availability\": \"yes\"\n",
      "}\n",
      "```\n",
      "{'object_availability': 'yes'}\n"
     ]
    },
    {
     "name": "stderr",
     "output_type": "stream",
     "text": [
      "Running QA Records:  50%|█████     | 202/400 [05:49<05:17,  1.60s/it]"
     ]
    },
    {
     "name": "stdout",
     "output_type": "stream",
     "text": [
      "res ```json\n",
      "{\n",
      "\t\"object_availability\": \"yes\"\n",
      "}\n",
      "```\n",
      "{'object_availability': 'yes'}\n"
     ]
    },
    {
     "name": "stderr",
     "output_type": "stream",
     "text": [
      "Running QA Records:  51%|█████     | 203/400 [05:52<06:35,  2.01s/it]"
     ]
    },
    {
     "name": "stdout",
     "output_type": "stream",
     "text": [
      "res ```json\n",
      "{\n",
      "\t\"object_availability\": \"no\"\n",
      "}\n",
      "```\n",
      "{'object_availability': 'no'}\n"
     ]
    },
    {
     "name": "stderr",
     "output_type": "stream",
     "text": [
      "Running QA Records:  51%|█████     | 204/400 [05:54<06:22,  1.95s/it]"
     ]
    },
    {
     "name": "stdout",
     "output_type": "stream",
     "text": [
      "res ```json\n",
      "{\n",
      "\t\"object_availability\": \"no\"\n",
      "}\n",
      "```\n",
      "{'object_availability': 'no'}\n"
     ]
    },
    {
     "name": "stderr",
     "output_type": "stream",
     "text": [
      "Running QA Records:  51%|█████▏    | 205/400 [05:56<06:11,  1.91s/it]"
     ]
    },
    {
     "name": "stdout",
     "output_type": "stream",
     "text": [
      "res ```json\n",
      "{\n",
      "\t\"object_availability\": \"no\"\n",
      "}\n",
      "```\n",
      "{'object_availability': 'no'}\n"
     ]
    },
    {
     "name": "stderr",
     "output_type": "stream",
     "text": [
      "Running QA Records:  52%|█████▏    | 206/400 [05:57<05:37,  1.74s/it]"
     ]
    },
    {
     "name": "stdout",
     "output_type": "stream",
     "text": [
      "res ```json\n",
      "{\n",
      "\t\"object_availability\": \"yes\"\n",
      "}\n",
      "```\n",
      "{'object_availability': 'yes'}\n"
     ]
    },
    {
     "name": "stderr",
     "output_type": "stream",
     "text": [
      "Running QA Records:  52%|█████▏    | 207/400 [05:58<05:14,  1.63s/it]"
     ]
    },
    {
     "name": "stdout",
     "output_type": "stream",
     "text": [
      "res ```json\n",
      "{\n",
      "\t\"object_availability\": \"no\"\n",
      "}\n",
      "```\n",
      "{'object_availability': 'no'}\n"
     ]
    },
    {
     "name": "stderr",
     "output_type": "stream",
     "text": [
      "Running QA Records:  52%|█████▏    | 208/400 [06:00<05:07,  1.60s/it]"
     ]
    },
    {
     "name": "stdout",
     "output_type": "stream",
     "text": [
      "res ```json\n",
      "{\n",
      "\t\"object_availability\": \"no\"\n",
      "}\n",
      "```\n",
      "{'object_availability': 'no'}\n"
     ]
    },
    {
     "name": "stderr",
     "output_type": "stream",
     "text": [
      "Running QA Records:  52%|█████▏    | 209/400 [06:02<05:23,  1.69s/it]"
     ]
    },
    {
     "name": "stdout",
     "output_type": "stream",
     "text": [
      "res ```json\n",
      "{\n",
      "\t\"object_availability\": \"no\"\n",
      "}\n",
      "```\n",
      "{'object_availability': 'no'}\n"
     ]
    },
    {
     "name": "stderr",
     "output_type": "stream",
     "text": [
      "Running QA Records:  52%|█████▎    | 210/400 [06:03<05:20,  1.69s/it]"
     ]
    },
    {
     "name": "stdout",
     "output_type": "stream",
     "text": [
      "res ```json\n",
      "{\n",
      "\t\"object_availability\": \"no\"\n",
      "}\n",
      "```\n",
      "{'object_availability': 'no'}\n"
     ]
    },
    {
     "name": "stderr",
     "output_type": "stream",
     "text": [
      "Running QA Records:  53%|█████▎    | 211/400 [06:05<05:34,  1.77s/it]"
     ]
    },
    {
     "name": "stdout",
     "output_type": "stream",
     "text": [
      "res ```json\n",
      "{\n",
      "\t\"object_availability\": \"yes\"\n",
      "}\n",
      "```\n",
      "{'object_availability': 'yes'}\n"
     ]
    },
    {
     "name": "stderr",
     "output_type": "stream",
     "text": [
      "Running QA Records:  53%|█████▎    | 212/400 [06:07<05:14,  1.67s/it]"
     ]
    },
    {
     "name": "stdout",
     "output_type": "stream",
     "text": [
      "res ```json\n",
      "{\n",
      "\t\"object_availability\": \"yes\"\n",
      "}\n",
      "```\n",
      "{'object_availability': 'yes'}\n"
     ]
    },
    {
     "name": "stderr",
     "output_type": "stream",
     "text": [
      "Running QA Records:  53%|█████▎    | 213/400 [06:10<06:19,  2.03s/it]"
     ]
    },
    {
     "name": "stdout",
     "output_type": "stream",
     "text": [
      "res ```json\n",
      "{\n",
      "\t\"object_availability\": \"yes\"\n",
      "}\n",
      "```\n",
      "{'object_availability': 'yes'}\n"
     ]
    },
    {
     "name": "stderr",
     "output_type": "stream",
     "text": [
      "Running QA Records:  54%|█████▎    | 214/400 [06:13<07:36,  2.46s/it]"
     ]
    },
    {
     "name": "stdout",
     "output_type": "stream",
     "text": [
      "res ```json\n",
      "{\n",
      "\t\"object_availability\": \"no\"\n",
      "}\n",
      "```\n",
      "{'object_availability': 'no'}\n"
     ]
    },
    {
     "name": "stderr",
     "output_type": "stream",
     "text": [
      "Running QA Records:  54%|█████▍    | 215/400 [06:15<06:35,  2.14s/it]"
     ]
    },
    {
     "name": "stdout",
     "output_type": "stream",
     "text": [
      "res ```json\n",
      "{\n",
      "\t\"object_availability\": \"no\"\n",
      "}\n",
      "```\n",
      "{'object_availability': 'no'}\n"
     ]
    },
    {
     "name": "stderr",
     "output_type": "stream",
     "text": [
      "Running QA Records:  54%|█████▍    | 216/400 [06:16<05:53,  1.92s/it]"
     ]
    },
    {
     "name": "stdout",
     "output_type": "stream",
     "text": [
      "res ```json\n",
      "{\n",
      "\t\"object_availability\": \"no\"\n",
      "}\n",
      "```\n",
      "{'object_availability': 'no'}\n"
     ]
    },
    {
     "name": "stderr",
     "output_type": "stream",
     "text": [
      "Running QA Records:  54%|█████▍    | 217/400 [06:17<04:59,  1.64s/it]"
     ]
    },
    {
     "name": "stdout",
     "output_type": "stream",
     "text": [
      "res ```json\n",
      "{\n",
      "\t\"object_availability\": \"no\"\n",
      "}\n",
      "```\n",
      "{'object_availability': 'no'}\n"
     ]
    },
    {
     "name": "stderr",
     "output_type": "stream",
     "text": [
      "Running QA Records:  55%|█████▍    | 218/400 [06:19<05:06,  1.68s/it]"
     ]
    },
    {
     "name": "stdout",
     "output_type": "stream",
     "text": [
      "res ```json\n",
      "{\n",
      "\t\"object_availability\": \"no\"\n",
      "}\n",
      "```\n",
      "{'object_availability': 'no'}\n"
     ]
    },
    {
     "name": "stderr",
     "output_type": "stream",
     "text": [
      "Running QA Records:  55%|█████▍    | 219/400 [06:20<04:30,  1.50s/it]"
     ]
    },
    {
     "name": "stdout",
     "output_type": "stream",
     "text": [
      "res ```json\n",
      "{\n",
      "\t\"object_availability\": \"no\"\n",
      "}\n",
      "```\n",
      "{'object_availability': 'no'}\n"
     ]
    },
    {
     "name": "stderr",
     "output_type": "stream",
     "text": [
      "Running QA Records:  55%|█████▌    | 220/400 [06:21<04:17,  1.43s/it]"
     ]
    },
    {
     "name": "stdout",
     "output_type": "stream",
     "text": [
      "res ```json\n",
      "{\n",
      "\t\"object_availability\": \"no\"\n",
      "}\n",
      "```\n",
      "{'object_availability': 'no'}\n"
     ]
    },
    {
     "name": "stderr",
     "output_type": "stream",
     "text": [
      "Running QA Records:  55%|█████▌    | 221/400 [06:23<04:30,  1.51s/it]"
     ]
    },
    {
     "name": "stdout",
     "output_type": "stream",
     "text": [
      "res ```json\n",
      "{\n",
      "\t\"object_availability\": \"no\"\n",
      "}\n",
      "```\n",
      "{'object_availability': 'no'}\n"
     ]
    },
    {
     "name": "stderr",
     "output_type": "stream",
     "text": [
      "Running QA Records:  56%|█████▌    | 222/400 [06:24<04:17,  1.45s/it]"
     ]
    },
    {
     "name": "stdout",
     "output_type": "stream",
     "text": [
      "res ```json\n",
      "{\n",
      "\t\"object_availability\": \"yes\"\n",
      "}\n",
      "```\n",
      "{'object_availability': 'yes'}\n"
     ]
    },
    {
     "name": "stderr",
     "output_type": "stream",
     "text": [
      "Running QA Records:  56%|█████▌    | 223/400 [06:26<04:36,  1.56s/it]"
     ]
    },
    {
     "name": "stdout",
     "output_type": "stream",
     "text": [
      "res ```json\n",
      "{\n",
      "\t\"object_availability\": \"no\"\n",
      "}\n",
      "```\n",
      "{'object_availability': 'no'}\n"
     ]
    },
    {
     "name": "stderr",
     "output_type": "stream",
     "text": [
      "Running QA Records:  56%|█████▌    | 224/400 [06:29<05:30,  1.88s/it]"
     ]
    },
    {
     "name": "stdout",
     "output_type": "stream",
     "text": [
      "res ```json\n",
      "{\n",
      "\t\"object_availability\": \"no\"\n",
      "}\n",
      "```\n",
      "{'object_availability': 'no'}\n"
     ]
    },
    {
     "name": "stderr",
     "output_type": "stream",
     "text": [
      "Running QA Records:  56%|█████▋    | 225/400 [06:30<05:16,  1.81s/it]"
     ]
    },
    {
     "name": "stdout",
     "output_type": "stream",
     "text": [
      "res ```json\n",
      "{\n",
      "\t\"object_availability\": \"yes\"\n",
      "}\n",
      "```\n",
      "{'object_availability': 'yes'}\n"
     ]
    },
    {
     "name": "stderr",
     "output_type": "stream",
     "text": [
      "Running QA Records:  56%|█████▋    | 226/400 [06:31<04:41,  1.62s/it]"
     ]
    },
    {
     "name": "stdout",
     "output_type": "stream",
     "text": [
      "res ```json\n",
      "{\n",
      "\t\"object_availability\": \"no\"\n",
      "}\n",
      "```\n",
      "{'object_availability': 'no'}\n"
     ]
    },
    {
     "name": "stderr",
     "output_type": "stream",
     "text": [
      "Running QA Records:  57%|█████▋    | 227/400 [06:33<04:25,  1.54s/it]"
     ]
    },
    {
     "name": "stdout",
     "output_type": "stream",
     "text": [
      "res ```json\n",
      "{\n",
      "\t\"object_availability\": \"yes\"\n",
      "}\n",
      "```\n",
      "{'object_availability': 'yes'}\n"
     ]
    },
    {
     "name": "stderr",
     "output_type": "stream",
     "text": [
      "Running QA Records:  57%|█████▋    | 228/400 [06:34<04:28,  1.56s/it]"
     ]
    },
    {
     "name": "stdout",
     "output_type": "stream",
     "text": [
      "res ```json\n",
      "{\n",
      "\t\"object_availability\": \"yes\"\n",
      "}\n",
      "```\n",
      "{'object_availability': 'yes'}\n"
     ]
    },
    {
     "name": "stderr",
     "output_type": "stream",
     "text": [
      "Running QA Records:  57%|█████▋    | 229/400 [06:36<04:10,  1.47s/it]"
     ]
    },
    {
     "name": "stdout",
     "output_type": "stream",
     "text": [
      "res ```json\n",
      "{\n",
      "\t\"object_availability\": \"yes\"\n",
      "}\n",
      "```\n",
      "{'object_availability': 'yes'}\n"
     ]
    },
    {
     "name": "stderr",
     "output_type": "stream",
     "text": [
      "Running QA Records:  57%|█████▊    | 230/400 [06:37<03:55,  1.38s/it]"
     ]
    },
    {
     "name": "stdout",
     "output_type": "stream",
     "text": [
      "res ```json\n",
      "{\n",
      "\t\"object_availability\": \"yes\"\n",
      "}\n",
      "```\n",
      "{'object_availability': 'yes'}\n"
     ]
    },
    {
     "name": "stderr",
     "output_type": "stream",
     "text": [
      "Running QA Records:  58%|█████▊    | 231/400 [06:39<04:46,  1.70s/it]"
     ]
    },
    {
     "name": "stdout",
     "output_type": "stream",
     "text": [
      "res ```json\n",
      "{\n",
      "\t\"object_availability\": \"no\"\n",
      "}\n",
      "```\n",
      "{'object_availability': 'no'}\n"
     ]
    },
    {
     "name": "stderr",
     "output_type": "stream",
     "text": [
      "Running QA Records:  58%|█████▊    | 232/400 [06:41<05:00,  1.79s/it]"
     ]
    },
    {
     "name": "stdout",
     "output_type": "stream",
     "text": [
      "res ```json\n",
      "{\n",
      "\t\"object_availability\": \"no\"\n",
      "}\n",
      "```\n",
      "{'object_availability': 'no'}\n"
     ]
    },
    {
     "name": "stderr",
     "output_type": "stream",
     "text": [
      "Running QA Records:  58%|█████▊    | 233/400 [06:43<04:40,  1.68s/it]"
     ]
    },
    {
     "name": "stdout",
     "output_type": "stream",
     "text": [
      "res ```json\n",
      "{\n",
      "\t\"object_availability\": \"no\"\n",
      "}\n",
      "```\n",
      "{'object_availability': 'no'}\n"
     ]
    },
    {
     "name": "stderr",
     "output_type": "stream",
     "text": [
      "Running QA Records:  58%|█████▊    | 234/400 [06:44<04:45,  1.72s/it]"
     ]
    },
    {
     "name": "stdout",
     "output_type": "stream",
     "text": [
      "res ```json\n",
      "{\n",
      "\t\"object_availability\": \"yes\"\n",
      "}\n",
      "```\n",
      "{'object_availability': 'yes'}\n"
     ]
    },
    {
     "name": "stderr",
     "output_type": "stream",
     "text": [
      "Running QA Records:  59%|█████▉    | 235/400 [06:46<04:32,  1.65s/it]"
     ]
    },
    {
     "name": "stdout",
     "output_type": "stream",
     "text": [
      "res ```json\n",
      "{\n",
      "\t\"object_availability\": \"yes\"\n",
      "}\n",
      "```\n",
      "{'object_availability': 'yes'}\n"
     ]
    },
    {
     "name": "stderr",
     "output_type": "stream",
     "text": [
      "Running QA Records:  59%|█████▉    | 236/400 [06:48<04:33,  1.67s/it]"
     ]
    },
    {
     "name": "stdout",
     "output_type": "stream",
     "text": [
      "res ```json\n",
      "{\n",
      "\t\"object_availability\": \"yes\"\n",
      "}\n",
      "```\n",
      "{'object_availability': 'yes'}\n"
     ]
    },
    {
     "name": "stderr",
     "output_type": "stream",
     "text": [
      "Running QA Records:  59%|█████▉    | 237/400 [06:49<04:28,  1.65s/it]"
     ]
    },
    {
     "name": "stdout",
     "output_type": "stream",
     "text": [
      "res ```json\n",
      "{\n",
      "\t\"object_availability\": \"no\"\n",
      "}\n",
      "```\n",
      "{'object_availability': 'no'}\n"
     ]
    },
    {
     "name": "stderr",
     "output_type": "stream",
     "text": [
      "Running QA Records:  60%|█████▉    | 238/400 [06:51<04:23,  1.63s/it]"
     ]
    },
    {
     "name": "stdout",
     "output_type": "stream",
     "text": [
      "res ```json\n",
      "{\n",
      "\t\"object_availability\": \"yes\"\n",
      "}\n",
      "```\n",
      "{'object_availability': 'yes'}\n"
     ]
    },
    {
     "name": "stderr",
     "output_type": "stream",
     "text": [
      "Running QA Records:  60%|█████▉    | 239/400 [06:52<04:20,  1.62s/it]"
     ]
    },
    {
     "name": "stdout",
     "output_type": "stream",
     "text": [
      "res ```json\n",
      "{\n",
      "\t\"object_availability\": \"no\"\n",
      "}\n",
      "```\n",
      "{'object_availability': 'no'}\n"
     ]
    },
    {
     "name": "stderr",
     "output_type": "stream",
     "text": [
      "Running QA Records:  60%|██████    | 240/400 [06:54<04:16,  1.61s/it]"
     ]
    },
    {
     "name": "stdout",
     "output_type": "stream",
     "text": [
      "res ```json\n",
      "{\n",
      "\t\"object_availability\": \"no\"\n",
      "}\n",
      "```\n",
      "{'object_availability': 'no'}\n"
     ]
    },
    {
     "name": "stderr",
     "output_type": "stream",
     "text": [
      "Running QA Records:  60%|██████    | 241/400 [06:55<04:08,  1.56s/it]"
     ]
    },
    {
     "name": "stdout",
     "output_type": "stream",
     "text": [
      "res ```json\n",
      "{\n",
      "\t\"object_availability\": \"no\"\n",
      "}\n",
      "```\n",
      "{'object_availability': 'no'}\n"
     ]
    },
    {
     "name": "stderr",
     "output_type": "stream",
     "text": [
      "Running QA Records:  60%|██████    | 242/400 [06:57<04:02,  1.53s/it]"
     ]
    },
    {
     "name": "stdout",
     "output_type": "stream",
     "text": [
      "res ```json\n",
      "{\n",
      "\t\"object_availability\": \"no\"\n",
      "}\n",
      "```\n",
      "{'object_availability': 'no'}\n"
     ]
    },
    {
     "name": "stderr",
     "output_type": "stream",
     "text": [
      "Running QA Records:  61%|██████    | 243/400 [06:58<03:52,  1.48s/it]"
     ]
    },
    {
     "name": "stdout",
     "output_type": "stream",
     "text": [
      "res ```json\n",
      "{\n",
      "\t\"object_availability\": \"no\"\n",
      "}\n",
      "```\n",
      "{'object_availability': 'no'}\n"
     ]
    },
    {
     "name": "stderr",
     "output_type": "stream",
     "text": [
      "Running QA Records:  61%|██████    | 244/400 [07:00<03:51,  1.48s/it]"
     ]
    },
    {
     "name": "stdout",
     "output_type": "stream",
     "text": [
      "res ```json\n",
      "{\n",
      "\t\"object_availability\": \"yes\"\n",
      "}\n",
      "```\n",
      "{'object_availability': 'yes'}\n"
     ]
    },
    {
     "name": "stderr",
     "output_type": "stream",
     "text": [
      "Running QA Records:  61%|██████▏   | 245/400 [07:01<03:52,  1.50s/it]"
     ]
    },
    {
     "name": "stdout",
     "output_type": "stream",
     "text": [
      "res ```json\n",
      "{\n",
      "\t\"object_availability\": \"yes\"\n",
      "}\n",
      "```\n",
      "{'object_availability': 'yes'}\n"
     ]
    },
    {
     "name": "stderr",
     "output_type": "stream",
     "text": [
      "Running QA Records:  62%|██████▏   | 246/400 [07:02<03:33,  1.39s/it]"
     ]
    },
    {
     "name": "stdout",
     "output_type": "stream",
     "text": [
      "res ```json\n",
      "{\n",
      "\t\"object_availability\": \"yes\"\n",
      "}\n",
      "```\n",
      "{'object_availability': 'yes'}\n"
     ]
    },
    {
     "name": "stderr",
     "output_type": "stream",
     "text": [
      "Running QA Records:  62%|██████▏   | 247/400 [07:04<03:58,  1.56s/it]"
     ]
    },
    {
     "name": "stdout",
     "output_type": "stream",
     "text": [
      "res ```json\n",
      "{\n",
      "\t\"object_availability\": \"yes\"\n",
      "}\n",
      "```\n",
      "{'object_availability': 'yes'}\n"
     ]
    },
    {
     "name": "stderr",
     "output_type": "stream",
     "text": [
      "Running QA Records:  62%|██████▏   | 248/400 [07:06<04:06,  1.62s/it]"
     ]
    },
    {
     "name": "stdout",
     "output_type": "stream",
     "text": [
      "res ```json\n",
      "{\n",
      "\t\"object_availability\": \"no\"\n",
      "}\n",
      "```\n",
      "{'object_availability': 'no'}\n"
     ]
    },
    {
     "name": "stderr",
     "output_type": "stream",
     "text": [
      "Running QA Records:  62%|██████▏   | 249/400 [07:08<03:59,  1.58s/it]"
     ]
    },
    {
     "name": "stdout",
     "output_type": "stream",
     "text": [
      "res ```json\n",
      "{\n",
      "\t\"object_availability\": \"no\"\n",
      "}\n",
      "```\n",
      "{'object_availability': 'no'}\n"
     ]
    },
    {
     "name": "stderr",
     "output_type": "stream",
     "text": [
      "Running QA Records:  62%|██████▎   | 250/400 [07:09<03:46,  1.51s/it]"
     ]
    },
    {
     "name": "stdout",
     "output_type": "stream",
     "text": [
      "res ```json\n",
      "{\n",
      "\t\"object_availability\": \"yes\"\n",
      "}\n",
      "```\n",
      "{'object_availability': 'yes'}\n"
     ]
    },
    {
     "name": "stderr",
     "output_type": "stream",
     "text": [
      "Running QA Records:  63%|██████▎   | 251/400 [07:11<03:52,  1.56s/it]"
     ]
    },
    {
     "name": "stdout",
     "output_type": "stream",
     "text": [
      "res ```json\n",
      "{\n",
      "\t\"object_availability\": \"yes\"\n",
      "}\n",
      "```\n",
      "{'object_availability': 'yes'}\n"
     ]
    },
    {
     "name": "stderr",
     "output_type": "stream",
     "text": [
      "Running QA Records:  63%|██████▎   | 252/400 [07:12<03:45,  1.53s/it]"
     ]
    },
    {
     "name": "stdout",
     "output_type": "stream",
     "text": [
      "res ```json\n",
      "{\n",
      "\t\"object_availability\": \"no\"\n",
      "}\n",
      "```\n",
      "{'object_availability': 'no'}\n"
     ]
    },
    {
     "name": "stderr",
     "output_type": "stream",
     "text": [
      "Running QA Records:  63%|██████▎   | 253/400 [07:13<03:37,  1.48s/it]"
     ]
    },
    {
     "name": "stdout",
     "output_type": "stream",
     "text": [
      "res ```json\n",
      "{\n",
      "\t\"object_availability\": \"no\"\n",
      "}\n",
      "```\n",
      "{'object_availability': 'no'}\n"
     ]
    },
    {
     "name": "stderr",
     "output_type": "stream",
     "text": [
      "Running QA Records:  64%|██████▎   | 254/400 [07:16<04:31,  1.86s/it]"
     ]
    },
    {
     "name": "stdout",
     "output_type": "stream",
     "text": [
      "res ```json\n",
      "{\n",
      "\t\"object_availability\": \"yes\"\n",
      "}\n",
      "```\n",
      "{'object_availability': 'yes'}\n"
     ]
    },
    {
     "name": "stderr",
     "output_type": "stream",
     "text": [
      "Running QA Records:  64%|██████▍   | 255/400 [07:18<04:06,  1.70s/it]"
     ]
    },
    {
     "name": "stdout",
     "output_type": "stream",
     "text": [
      "res ```json\n",
      "{\n",
      "\t\"object_availability\": \"no\"\n",
      "}\n",
      "```\n",
      "{'object_availability': 'no'}\n"
     ]
    },
    {
     "name": "stderr",
     "output_type": "stream",
     "text": [
      "Running QA Records:  64%|██████▍   | 256/400 [07:19<04:04,  1.70s/it]"
     ]
    },
    {
     "name": "stdout",
     "output_type": "stream",
     "text": [
      "res ```json\n",
      "{\n",
      "\t\"object_availability\": \"no\"\n",
      "}\n",
      "```\n",
      "{'object_availability': 'no'}\n"
     ]
    },
    {
     "name": "stderr",
     "output_type": "stream",
     "text": [
      "Running QA Records:  64%|██████▍   | 257/400 [07:21<04:02,  1.70s/it]"
     ]
    },
    {
     "name": "stdout",
     "output_type": "stream",
     "text": [
      "res ```json\n",
      "{\n",
      "\t\"object_availability\": \"yes\"\n",
      "}\n",
      "```\n",
      "{'object_availability': 'yes'}\n"
     ]
    },
    {
     "name": "stderr",
     "output_type": "stream",
     "text": [
      "Running QA Records:  64%|██████▍   | 258/400 [07:22<03:47,  1.60s/it]"
     ]
    },
    {
     "name": "stdout",
     "output_type": "stream",
     "text": [
      "res ```json\n",
      "{\n",
      "\t\"object_availability\": \"no\"\n",
      "}\n",
      "```\n",
      "{'object_availability': 'no'}\n"
     ]
    },
    {
     "name": "stderr",
     "output_type": "stream",
     "text": [
      "Running QA Records:  65%|██████▍   | 259/400 [07:24<03:56,  1.68s/it]"
     ]
    },
    {
     "name": "stdout",
     "output_type": "stream",
     "text": [
      "res ```json\n",
      "{\n",
      "\t\"object_availability\": \"no\"\n",
      "}\n",
      "```\n",
      "{'object_availability': 'no'}\n"
     ]
    },
    {
     "name": "stderr",
     "output_type": "stream",
     "text": [
      "Running QA Records:  65%|██████▌   | 260/400 [07:26<03:49,  1.64s/it]"
     ]
    },
    {
     "name": "stdout",
     "output_type": "stream",
     "text": [
      "res ```json\n",
      "{\n",
      "\t\"object_availability\": \"yes\"\n",
      "}\n",
      "```\n",
      "{'object_availability': 'yes'}\n"
     ]
    },
    {
     "name": "stderr",
     "output_type": "stream",
     "text": [
      "Running QA Records:  65%|██████▌   | 261/400 [07:27<03:30,  1.51s/it]"
     ]
    },
    {
     "name": "stdout",
     "output_type": "stream",
     "text": [
      "res ```json\n",
      "{\n",
      "\t\"object_availability\": \"yes\"\n",
      "}\n",
      "```\n",
      "{'object_availability': 'yes'}\n"
     ]
    },
    {
     "name": "stderr",
     "output_type": "stream",
     "text": [
      "Running QA Records:  66%|██████▌   | 262/400 [07:29<03:33,  1.55s/it]"
     ]
    },
    {
     "name": "stdout",
     "output_type": "stream",
     "text": [
      "res ```json\n",
      "{\n",
      "\t\"object_availability\": \"no\"\n",
      "}\n",
      "```\n",
      "{'object_availability': 'no'}\n"
     ]
    },
    {
     "name": "stderr",
     "output_type": "stream",
     "text": [
      "Running QA Records:  66%|██████▌   | 263/400 [07:31<03:58,  1.74s/it]"
     ]
    },
    {
     "name": "stdout",
     "output_type": "stream",
     "text": [
      "res ```json\n",
      "{\n",
      "\t\"object_availability\": \"no\"\n",
      "}\n",
      "```\n",
      "{'object_availability': 'no'}\n"
     ]
    },
    {
     "name": "stderr",
     "output_type": "stream",
     "text": [
      "Running QA Records:  66%|██████▌   | 264/400 [07:32<03:36,  1.59s/it]"
     ]
    },
    {
     "name": "stdout",
     "output_type": "stream",
     "text": [
      "res ```json\n",
      "{\n",
      "\t\"object_availability\": \"no\"\n",
      "}\n",
      "```\n",
      "{'object_availability': 'no'}\n"
     ]
    },
    {
     "name": "stderr",
     "output_type": "stream",
     "text": [
      "Running QA Records:  66%|██████▋   | 265/400 [07:34<03:48,  1.70s/it]"
     ]
    },
    {
     "name": "stdout",
     "output_type": "stream",
     "text": [
      "res ```json\n",
      "{\n",
      "\t\"object_availability\": \"no\"\n",
      "}\n",
      "```\n",
      "{'object_availability': 'no'}\n"
     ]
    },
    {
     "name": "stderr",
     "output_type": "stream",
     "text": [
      "Running QA Records:  66%|██████▋   | 266/400 [07:35<03:37,  1.63s/it]"
     ]
    },
    {
     "name": "stdout",
     "output_type": "stream",
     "text": [
      "res ```json\n",
      "{\n",
      "\t\"object_availability\": \"no\"\n",
      "}\n",
      "```\n",
      "{'object_availability': 'no'}\n"
     ]
    },
    {
     "name": "stderr",
     "output_type": "stream",
     "text": [
      "Running QA Records:  67%|██████▋   | 267/400 [07:37<03:33,  1.60s/it]"
     ]
    },
    {
     "name": "stdout",
     "output_type": "stream",
     "text": [
      "res ```json\n",
      "{\n",
      "\t\"object_availability\": \"yes\"\n",
      "}\n",
      "```\n",
      "{'object_availability': 'yes'}\n"
     ]
    },
    {
     "name": "stderr",
     "output_type": "stream",
     "text": [
      "Running QA Records:  67%|██████▋   | 268/400 [07:39<04:03,  1.84s/it]"
     ]
    },
    {
     "name": "stdout",
     "output_type": "stream",
     "text": [
      "res ```json\n",
      "{\n",
      "\t\"object_availability\": \"no\"\n",
      "}\n",
      "```\n",
      "{'object_availability': 'no'}\n"
     ]
    },
    {
     "name": "stderr",
     "output_type": "stream",
     "text": [
      "Running QA Records:  67%|██████▋   | 269/400 [07:42<04:25,  2.02s/it]"
     ]
    },
    {
     "name": "stdout",
     "output_type": "stream",
     "text": [
      "res ```json\n",
      "{\n",
      "\t\"object_availability\": \"no\"\n",
      "}\n",
      "```\n",
      "{'object_availability': 'no'}\n"
     ]
    },
    {
     "name": "stderr",
     "output_type": "stream",
     "text": [
      "Running QA Records:  68%|██████▊   | 270/400 [07:43<03:49,  1.77s/it]"
     ]
    },
    {
     "name": "stdout",
     "output_type": "stream",
     "text": [
      "res ```json\n",
      "{\n",
      "\t\"object_availability\": \"yes\"\n",
      "}\n",
      "```\n",
      "{'object_availability': 'yes'}\n"
     ]
    },
    {
     "name": "stderr",
     "output_type": "stream",
     "text": [
      "Running QA Records:  68%|██████▊   | 271/400 [07:45<03:59,  1.86s/it]"
     ]
    },
    {
     "name": "stdout",
     "output_type": "stream",
     "text": [
      "res ```json\n",
      "{\n",
      "\t\"object_availability\": \"no\"\n",
      "}\n",
      "```\n",
      "{'object_availability': 'no'}\n"
     ]
    },
    {
     "name": "stderr",
     "output_type": "stream",
     "text": [
      "Running QA Records:  68%|██████▊   | 272/400 [07:46<03:34,  1.68s/it]"
     ]
    },
    {
     "name": "stdout",
     "output_type": "stream",
     "text": [
      "res ```json\n",
      "{\n",
      "\t\"object_availability\": \"no\"\n",
      "}\n",
      "```\n",
      "{'object_availability': 'no'}\n"
     ]
    },
    {
     "name": "stderr",
     "output_type": "stream",
     "text": [
      "Running QA Records:  68%|██████▊   | 273/400 [07:48<03:23,  1.60s/it]"
     ]
    },
    {
     "name": "stdout",
     "output_type": "stream",
     "text": [
      "res ```json\n",
      "{\n",
      "\t\"object_availability\": \"yes\"\n",
      "}\n",
      "```\n",
      "{'object_availability': 'yes'}\n"
     ]
    },
    {
     "name": "stderr",
     "output_type": "stream",
     "text": [
      "Running QA Records:  68%|██████▊   | 274/400 [07:49<03:16,  1.56s/it]"
     ]
    },
    {
     "name": "stdout",
     "output_type": "stream",
     "text": [
      "res ```json\n",
      "{\n",
      "\t\"object_availability\": \"no\"\n",
      "}\n",
      "```\n",
      "{'object_availability': 'no'}\n"
     ]
    },
    {
     "name": "stderr",
     "output_type": "stream",
     "text": [
      "Running QA Records:  69%|██████▉   | 275/400 [07:51<03:17,  1.58s/it]"
     ]
    },
    {
     "name": "stdout",
     "output_type": "stream",
     "text": [
      "res ```json\n",
      "{\n",
      "\t\"object_availability\": \"no\"\n",
      "}\n",
      "```\n",
      "{'object_availability': 'no'}\n"
     ]
    },
    {
     "name": "stderr",
     "output_type": "stream",
     "text": [
      "Running QA Records:  69%|██████▉   | 276/400 [07:52<03:07,  1.52s/it]"
     ]
    },
    {
     "name": "stdout",
     "output_type": "stream",
     "text": [
      "res ```json\n",
      "{\n",
      "\t\"object_availability\": \"no\"\n",
      "}\n",
      "```\n",
      "{'object_availability': 'no'}\n"
     ]
    },
    {
     "name": "stderr",
     "output_type": "stream",
     "text": [
      "Running QA Records:  69%|██████▉   | 277/400 [07:54<03:07,  1.53s/it]"
     ]
    },
    {
     "name": "stdout",
     "output_type": "stream",
     "text": [
      "res ```json\n",
      "{\n",
      "\t\"object_availability\": \"no\"\n",
      "}\n",
      "```\n",
      "{'object_availability': 'no'}\n"
     ]
    },
    {
     "name": "stderr",
     "output_type": "stream",
     "text": [
      "Running QA Records:  70%|██████▉   | 278/400 [07:56<03:33,  1.75s/it]"
     ]
    },
    {
     "name": "stdout",
     "output_type": "stream",
     "text": [
      "res ```json\n",
      "{\n",
      "\t\"object_availability\": \"no\"\n",
      "}\n",
      "```\n",
      "{'object_availability': 'no'}\n"
     ]
    },
    {
     "name": "stderr",
     "output_type": "stream",
     "text": [
      "Running QA Records:  70%|██████▉   | 279/400 [07:57<03:21,  1.67s/it]"
     ]
    },
    {
     "name": "stdout",
     "output_type": "stream",
     "text": [
      "res ```json\n",
      "{\n",
      "\t\"object_availability\": \"no\"\n",
      "}\n",
      "```\n",
      "{'object_availability': 'no'}\n"
     ]
    },
    {
     "name": "stderr",
     "output_type": "stream",
     "text": [
      "Running QA Records:  70%|███████   | 280/400 [08:00<03:35,  1.79s/it]"
     ]
    },
    {
     "name": "stdout",
     "output_type": "stream",
     "text": [
      "res ```json\n",
      "{\n",
      "\t\"object_availability\": \"yes\"\n",
      "}\n",
      "```\n",
      "{'object_availability': 'yes'}\n"
     ]
    },
    {
     "name": "stderr",
     "output_type": "stream",
     "text": [
      "Running QA Records:  70%|███████   | 281/400 [08:02<04:09,  2.09s/it]"
     ]
    },
    {
     "name": "stdout",
     "output_type": "stream",
     "text": [
      "res ```json\n",
      "{\n",
      "\t\"object_availability\": \"no\"\n",
      "}\n",
      "```\n",
      "{'object_availability': 'no'}\n"
     ]
    },
    {
     "name": "stderr",
     "output_type": "stream",
     "text": [
      "Running QA Records:  70%|███████   | 282/400 [08:04<03:44,  1.91s/it]"
     ]
    },
    {
     "name": "stdout",
     "output_type": "stream",
     "text": [
      "res ```json\n",
      "{\n",
      "\t\"object_availability\": \"yes\"\n",
      "}\n",
      "```\n",
      "{'object_availability': 'yes'}\n"
     ]
    },
    {
     "name": "stderr",
     "output_type": "stream",
     "text": [
      "Running QA Records:  71%|███████   | 283/400 [08:05<03:23,  1.74s/it]"
     ]
    },
    {
     "name": "stdout",
     "output_type": "stream",
     "text": [
      "res ```json\n",
      "{\n",
      "\t\"object_availability\": \"yes\"\n",
      "}\n",
      "```\n",
      "{'object_availability': 'yes'}\n"
     ]
    },
    {
     "name": "stderr",
     "output_type": "stream",
     "text": [
      "Running QA Records:  71%|███████   | 284/400 [08:06<03:05,  1.60s/it]"
     ]
    },
    {
     "name": "stdout",
     "output_type": "stream",
     "text": [
      "res ```json\n",
      "{\n",
      "\t\"object_availability\": \"yes\"\n",
      "}\n",
      "```\n",
      "{'object_availability': 'yes'}\n"
     ]
    },
    {
     "name": "stderr",
     "output_type": "stream",
     "text": [
      "Running QA Records:  71%|███████▏  | 285/400 [08:08<02:49,  1.47s/it]"
     ]
    },
    {
     "name": "stdout",
     "output_type": "stream",
     "text": [
      "res ```json\n",
      "{\n",
      "\t\"object_availability\": \"yes\"\n",
      "}\n",
      "```\n",
      "{'object_availability': 'yes'}\n"
     ]
    },
    {
     "name": "stderr",
     "output_type": "stream",
     "text": [
      "Running QA Records:  72%|███████▏  | 286/400 [08:10<03:14,  1.71s/it]"
     ]
    },
    {
     "name": "stdout",
     "output_type": "stream",
     "text": [
      "res ```json\n",
      "{\n",
      "\t\"object_availability\": \"yes\"\n",
      "}\n",
      "```\n",
      "{'object_availability': 'yes'}\n"
     ]
    },
    {
     "name": "stderr",
     "output_type": "stream",
     "text": [
      "Running QA Records:  72%|███████▏  | 287/400 [08:15<04:55,  2.62s/it]"
     ]
    },
    {
     "name": "stdout",
     "output_type": "stream",
     "text": [
      "res ```json\n",
      "{\n",
      "\t\"object_availability\": \"no\"\n",
      "}\n",
      "```\n",
      "{'object_availability': 'no'}\n"
     ]
    },
    {
     "name": "stderr",
     "output_type": "stream",
     "text": [
      "Running QA Records:  72%|███████▏  | 288/400 [08:16<04:08,  2.22s/it]"
     ]
    },
    {
     "name": "stdout",
     "output_type": "stream",
     "text": [
      "res ```json\n",
      "{\n",
      "\t\"object_availability\": \"no\"\n",
      "}\n",
      "```\n",
      "{'object_availability': 'no'}\n"
     ]
    },
    {
     "name": "stderr",
     "output_type": "stream",
     "text": [
      "Running QA Records:  72%|███████▏  | 289/400 [08:18<04:07,  2.23s/it]"
     ]
    },
    {
     "name": "stdout",
     "output_type": "stream",
     "text": [
      "res ```json\n",
      "{\n",
      "\t\"object_availability\": \"yes\"\n",
      "}\n",
      "```\n",
      "{'object_availability': 'yes'}\n"
     ]
    },
    {
     "name": "stderr",
     "output_type": "stream",
     "text": [
      "Running QA Records:  72%|███████▎  | 290/400 [08:19<03:29,  1.90s/it]"
     ]
    },
    {
     "name": "stdout",
     "output_type": "stream",
     "text": [
      "res ```json\n",
      "{\n",
      "\t\"object_availability\": \"no\"\n",
      "}\n",
      "```\n",
      "{'object_availability': 'no'}\n"
     ]
    },
    {
     "name": "stderr",
     "output_type": "stream",
     "text": [
      "Running QA Records:  73%|███████▎  | 291/400 [08:21<03:21,  1.85s/it]"
     ]
    },
    {
     "name": "stdout",
     "output_type": "stream",
     "text": [
      "res ```json\n",
      "{\n",
      "\t\"object_availability\": \"no\"\n",
      "}\n",
      "```\n",
      "{'object_availability': 'no'}\n"
     ]
    },
    {
     "name": "stderr",
     "output_type": "stream",
     "text": [
      "Running QA Records:  73%|███████▎  | 292/400 [08:23<03:18,  1.84s/it]"
     ]
    },
    {
     "name": "stdout",
     "output_type": "stream",
     "text": [
      "res ```json\n",
      "{\n",
      "\t\"object_availability\": \"no\"\n",
      "}\n",
      "```\n",
      "{'object_availability': 'no'}\n"
     ]
    },
    {
     "name": "stderr",
     "output_type": "stream",
     "text": [
      "Running QA Records:  73%|███████▎  | 293/400 [08:25<03:26,  1.93s/it]"
     ]
    },
    {
     "name": "stdout",
     "output_type": "stream",
     "text": [
      "res ```json\n",
      "{\n",
      "\t\"object_availability\": \"yes\"\n",
      "}\n",
      "```\n",
      "{'object_availability': 'yes'}\n"
     ]
    },
    {
     "name": "stderr",
     "output_type": "stream",
     "text": [
      "Running QA Records:  74%|███████▎  | 294/400 [08:27<03:16,  1.85s/it]"
     ]
    },
    {
     "name": "stdout",
     "output_type": "stream",
     "text": [
      "res ```json\n",
      "{\n",
      "\t\"object_availability\": \"no\"\n",
      "}\n",
      "```\n",
      "{'object_availability': 'no'}\n"
     ]
    },
    {
     "name": "stderr",
     "output_type": "stream",
     "text": [
      "Running QA Records:  74%|███████▍  | 295/400 [08:28<02:53,  1.65s/it]"
     ]
    },
    {
     "name": "stdout",
     "output_type": "stream",
     "text": [
      "res ```json\n",
      "{\n",
      "\t\"object_availability\": \"yes\"\n",
      "}\n",
      "```\n",
      "{'object_availability': 'yes'}\n"
     ]
    },
    {
     "name": "stderr",
     "output_type": "stream",
     "text": [
      "Running QA Records:  74%|███████▍  | 296/400 [08:29<02:52,  1.66s/it]"
     ]
    },
    {
     "name": "stdout",
     "output_type": "stream",
     "text": [
      "res ```json\n",
      "{\n",
      "\t\"object_availability\": \"no\"\n",
      "}\n",
      "```\n",
      "{'object_availability': 'no'}\n"
     ]
    },
    {
     "name": "stderr",
     "output_type": "stream",
     "text": [
      "Running QA Records:  74%|███████▍  | 297/400 [08:33<03:42,  2.16s/it]"
     ]
    },
    {
     "name": "stdout",
     "output_type": "stream",
     "text": [
      "res ```json\n",
      "{\n",
      "\t\"object_availability\": \"no\"\n",
      "}\n",
      "```\n",
      "{'object_availability': 'no'}\n"
     ]
    },
    {
     "name": "stderr",
     "output_type": "stream",
     "text": [
      "Running QA Records:  74%|███████▍  | 298/400 [08:35<03:29,  2.05s/it]"
     ]
    },
    {
     "name": "stdout",
     "output_type": "stream",
     "text": [
      "res ```json\n",
      "{\n",
      "\t\"object_availability\": \"yes\"\n",
      "}\n",
      "```\n",
      "{'object_availability': 'yes'}\n"
     ]
    },
    {
     "name": "stderr",
     "output_type": "stream",
     "text": [
      "Running QA Records:  75%|███████▍  | 299/400 [08:37<03:47,  2.25s/it]"
     ]
    },
    {
     "name": "stdout",
     "output_type": "stream",
     "text": [
      "res ```json\n",
      "{\n",
      "\t\"object_availability\": \"yes\"\n",
      "}\n",
      "```\n",
      "{'object_availability': 'yes'}\n"
     ]
    },
    {
     "name": "stderr",
     "output_type": "stream",
     "text": [
      "Running QA Records:  75%|███████▌  | 300/400 [08:39<03:24,  2.05s/it]"
     ]
    },
    {
     "name": "stdout",
     "output_type": "stream",
     "text": [
      "res ```json\n",
      "{\n",
      "\t\"object_availability\": \"no\"\n",
      "}\n",
      "```\n",
      "{'object_availability': 'no'}\n"
     ]
    },
    {
     "name": "stderr",
     "output_type": "stream",
     "text": [
      "Running QA Records:  75%|███████▌  | 301/400 [08:40<03:09,  1.91s/it]"
     ]
    },
    {
     "name": "stdout",
     "output_type": "stream",
     "text": [
      "res ```json\n",
      "{\n",
      "\t\"object_availability\": \"no\"\n",
      "}\n",
      "```\n",
      "{'object_availability': 'no'}\n"
     ]
    },
    {
     "name": "stderr",
     "output_type": "stream",
     "text": [
      "Running QA Records:  76%|███████▌  | 302/400 [08:42<03:09,  1.93s/it]"
     ]
    },
    {
     "name": "stdout",
     "output_type": "stream",
     "text": [
      "res ```json\n",
      "{\n",
      "\t\"object_availability\": \"yes\"\n",
      "}\n",
      "```\n",
      "{'object_availability': 'yes'}\n"
     ]
    },
    {
     "name": "stderr",
     "output_type": "stream",
     "text": [
      "Running QA Records:  76%|███████▌  | 303/400 [08:44<02:50,  1.76s/it]"
     ]
    },
    {
     "name": "stdout",
     "output_type": "stream",
     "text": [
      "res ```json\n",
      "{\n",
      "\t\"object_availability\": \"yes\"\n",
      "}\n",
      "```\n",
      "{'object_availability': 'yes'}\n"
     ]
    },
    {
     "name": "stderr",
     "output_type": "stream",
     "text": [
      "Running QA Records:  76%|███████▌  | 304/400 [08:46<03:09,  1.98s/it]"
     ]
    },
    {
     "name": "stdout",
     "output_type": "stream",
     "text": [
      "res ```json\n",
      "{\n",
      "\t\"object_availability\": \"no\"\n",
      "}\n",
      "```\n",
      "{'object_availability': 'no'}\n"
     ]
    },
    {
     "name": "stderr",
     "output_type": "stream",
     "text": [
      "Running QA Records:  76%|███████▋  | 305/400 [08:48<02:53,  1.82s/it]"
     ]
    },
    {
     "name": "stdout",
     "output_type": "stream",
     "text": [
      "res ```json\n",
      "{\n",
      "\t\"object_availability\": \"no\"\n",
      "}\n",
      "```\n",
      "{'object_availability': 'no'}\n"
     ]
    },
    {
     "name": "stderr",
     "output_type": "stream",
     "text": [
      "Running QA Records:  76%|███████▋  | 306/400 [08:49<02:35,  1.65s/it]"
     ]
    },
    {
     "name": "stdout",
     "output_type": "stream",
     "text": [
      "res ```json\n",
      "{\n",
      "\t\"object_availability\": \"no\"\n",
      "}\n",
      "```\n",
      "{'object_availability': 'no'}\n"
     ]
    },
    {
     "name": "stderr",
     "output_type": "stream",
     "text": [
      "Running QA Records:  77%|███████▋  | 307/400 [08:51<02:39,  1.72s/it]"
     ]
    },
    {
     "name": "stdout",
     "output_type": "stream",
     "text": [
      "res ```json\n",
      "{\n",
      "\t\"object_availability\": \"no\"\n",
      "}\n",
      "```\n",
      "{'object_availability': 'no'}\n"
     ]
    },
    {
     "name": "stderr",
     "output_type": "stream",
     "text": [
      "Running QA Records:  77%|███████▋  | 308/400 [08:52<02:20,  1.52s/it]"
     ]
    },
    {
     "name": "stdout",
     "output_type": "stream",
     "text": [
      "res ```json\n",
      "{\n",
      "  \"object_availability\": \"no\"\n",
      "}\n",
      "```\n",
      "{'object_availability': 'no'}\n"
     ]
    },
    {
     "name": "stderr",
     "output_type": "stream",
     "text": [
      "Running QA Records:  77%|███████▋  | 309/400 [08:53<02:11,  1.45s/it]"
     ]
    },
    {
     "name": "stdout",
     "output_type": "stream",
     "text": [
      "res ```json\n",
      "{\n",
      "\t\"object_availability\": \"yes\"\n",
      "}\n",
      "```\n",
      "{'object_availability': 'yes'}\n"
     ]
    },
    {
     "name": "stderr",
     "output_type": "stream",
     "text": [
      "Running QA Records:  78%|███████▊  | 310/400 [08:56<02:33,  1.71s/it]"
     ]
    },
    {
     "name": "stdout",
     "output_type": "stream",
     "text": [
      "res ```json\n",
      "{\n",
      "\t\"object_availability\": \"no\"\n",
      "}\n",
      "```\n",
      "{'object_availability': 'no'}\n"
     ]
    },
    {
     "name": "stderr",
     "output_type": "stream",
     "text": [
      "Running QA Records:  78%|███████▊  | 311/400 [08:57<02:36,  1.76s/it]"
     ]
    },
    {
     "name": "stdout",
     "output_type": "stream",
     "text": [
      "res ```json\n",
      "{\n",
      "\t\"object_availability\": \"yes\"\n",
      "}\n",
      "```\n",
      "{'object_availability': 'yes'}\n"
     ]
    },
    {
     "name": "stderr",
     "output_type": "stream",
     "text": [
      "Running QA Records:  78%|███████▊  | 312/400 [08:59<02:19,  1.58s/it]"
     ]
    },
    {
     "name": "stdout",
     "output_type": "stream",
     "text": [
      "res ```json\n",
      "{\n",
      "\t\"object_availability\": \"no\"\n",
      "}\n",
      "```\n",
      "{'object_availability': 'no'}\n"
     ]
    },
    {
     "name": "stderr",
     "output_type": "stream",
     "text": [
      "Running QA Records:  78%|███████▊  | 313/400 [09:00<02:21,  1.63s/it]"
     ]
    },
    {
     "name": "stdout",
     "output_type": "stream",
     "text": [
      "res ```json\n",
      "{\n",
      "\t\"object_availability\": \"no\"\n",
      "}\n",
      "```\n",
      "{'object_availability': 'no'}\n"
     ]
    },
    {
     "name": "stderr",
     "output_type": "stream",
     "text": [
      "Running QA Records:  78%|███████▊  | 314/400 [09:02<02:26,  1.70s/it]"
     ]
    },
    {
     "name": "stdout",
     "output_type": "stream",
     "text": [
      "res ```json\n",
      "{\n",
      "\t\"object_availability\": \"no\"\n",
      "}\n",
      "```\n",
      "{'object_availability': 'no'}\n"
     ]
    },
    {
     "name": "stderr",
     "output_type": "stream",
     "text": [
      "Running QA Records:  79%|███████▉  | 315/400 [09:04<02:35,  1.83s/it]"
     ]
    },
    {
     "name": "stdout",
     "output_type": "stream",
     "text": [
      "res ```json\n",
      "{\n",
      "\t\"object_availability\": \"no\"\n",
      "}\n",
      "```\n",
      "{'object_availability': 'no'}\n"
     ]
    },
    {
     "name": "stderr",
     "output_type": "stream",
     "text": [
      "Running QA Records:  79%|███████▉  | 316/400 [09:06<02:33,  1.83s/it]"
     ]
    },
    {
     "name": "stdout",
     "output_type": "stream",
     "text": [
      "res ```json\n",
      "{\n",
      "\t\"object_availability\": \"no\"\n",
      "}\n",
      "```\n",
      "{'object_availability': 'no'}\n"
     ]
    },
    {
     "name": "stderr",
     "output_type": "stream",
     "text": [
      "Running QA Records:  79%|███████▉  | 317/400 [09:08<02:27,  1.78s/it]"
     ]
    },
    {
     "name": "stdout",
     "output_type": "stream",
     "text": [
      "res ```json\n",
      "{\n",
      "\t\"object_availability\": \"no\"\n",
      "}\n",
      "```\n",
      "{'object_availability': 'no'}\n"
     ]
    },
    {
     "name": "stderr",
     "output_type": "stream",
     "text": [
      "Running QA Records:  80%|███████▉  | 318/400 [09:10<02:24,  1.77s/it]"
     ]
    },
    {
     "name": "stdout",
     "output_type": "stream",
     "text": [
      "res ```json\n",
      "{\n",
      "\t\"object_availability\": \"yes\"\n",
      "}\n",
      "```\n",
      "{'object_availability': 'yes'}\n"
     ]
    },
    {
     "name": "stderr",
     "output_type": "stream",
     "text": [
      "Running QA Records:  80%|███████▉  | 319/400 [09:12<02:29,  1.84s/it]"
     ]
    },
    {
     "name": "stdout",
     "output_type": "stream",
     "text": [
      "res ```json\n",
      "{\n",
      "\t\"object_availability\": \"no\"\n",
      "}\n",
      "```\n",
      "{'object_availability': 'no'}\n"
     ]
    },
    {
     "name": "stderr",
     "output_type": "stream",
     "text": [
      "Running QA Records:  80%|████████  | 320/400 [09:13<02:22,  1.78s/it]"
     ]
    },
    {
     "name": "stdout",
     "output_type": "stream",
     "text": [
      "res ```json\n",
      "{\n",
      "\t\"object_availability\": \"no\"\n",
      "}\n",
      "```\n",
      "{'object_availability': 'no'}\n"
     ]
    },
    {
     "name": "stderr",
     "output_type": "stream",
     "text": [
      "Running QA Records:  80%|████████  | 321/400 [09:15<02:13,  1.70s/it]"
     ]
    },
    {
     "name": "stdout",
     "output_type": "stream",
     "text": [
      "res ```json\n",
      "{\n",
      "\t\"object_availability\": \"no\"\n",
      "}\n",
      "```\n",
      "{'object_availability': 'no'}\n"
     ]
    },
    {
     "name": "stderr",
     "output_type": "stream",
     "text": [
      "Running QA Records:  80%|████████  | 322/400 [09:16<02:14,  1.72s/it]"
     ]
    },
    {
     "name": "stdout",
     "output_type": "stream",
     "text": [
      "res ```json\n",
      "{\n",
      "\t\"object_availability\": \"yes\"\n",
      "}\n",
      "```\n",
      "{'object_availability': 'yes'}\n"
     ]
    },
    {
     "name": "stderr",
     "output_type": "stream",
     "text": [
      "Running QA Records:  81%|████████  | 323/400 [09:18<02:02,  1.59s/it]"
     ]
    },
    {
     "name": "stdout",
     "output_type": "stream",
     "text": [
      "res ```json\n",
      "{\n",
      "\t\"object_availability\": \"no\"\n",
      "}\n",
      "```\n",
      "{'object_availability': 'no'}\n"
     ]
    },
    {
     "name": "stderr",
     "output_type": "stream",
     "text": [
      "Running QA Records:  81%|████████  | 324/400 [09:20<02:05,  1.65s/it]"
     ]
    },
    {
     "name": "stdout",
     "output_type": "stream",
     "text": [
      "res ```json\n",
      "{\n",
      "\t\"object_availability\": \"no\"\n",
      "}\n",
      "```\n",
      "{'object_availability': 'no'}\n"
     ]
    },
    {
     "name": "stderr",
     "output_type": "stream",
     "text": [
      "Running QA Records:  81%|████████▏ | 325/400 [09:21<01:56,  1.56s/it]"
     ]
    },
    {
     "name": "stdout",
     "output_type": "stream",
     "text": [
      "res ```json\n",
      "{\n",
      "\t\"object_availability\": \"yes\"\n",
      "}\n",
      "```\n",
      "{'object_availability': 'yes'}\n"
     ]
    },
    {
     "name": "stderr",
     "output_type": "stream",
     "text": [
      "Running QA Records:  82%|████████▏ | 326/400 [09:23<01:56,  1.57s/it]"
     ]
    },
    {
     "name": "stdout",
     "output_type": "stream",
     "text": [
      "res ```json\n",
      "{\n",
      "\t\"object_availability\": \"yes\"\n",
      "}\n",
      "```\n",
      "{'object_availability': 'yes'}\n"
     ]
    },
    {
     "name": "stderr",
     "output_type": "stream",
     "text": [
      "Running QA Records:  82%|████████▏ | 327/400 [09:24<01:56,  1.59s/it]"
     ]
    },
    {
     "name": "stdout",
     "output_type": "stream",
     "text": [
      "res ```json\n",
      "{\n",
      "\t\"object_availability\": \"no\"\n",
      "}\n",
      "```\n",
      "{'object_availability': 'no'}\n"
     ]
    },
    {
     "name": "stderr",
     "output_type": "stream",
     "text": [
      "Running QA Records:  82%|████████▏ | 328/400 [09:26<01:54,  1.58s/it]"
     ]
    },
    {
     "name": "stdout",
     "output_type": "stream",
     "text": [
      "res ```json\n",
      "{\n",
      "\t\"object_availability\": \"yes\"\n",
      "}\n",
      "```\n",
      "{'object_availability': 'yes'}\n"
     ]
    },
    {
     "name": "stderr",
     "output_type": "stream",
     "text": [
      "Running QA Records:  82%|████████▏ | 329/400 [09:27<01:54,  1.61s/it]"
     ]
    },
    {
     "name": "stdout",
     "output_type": "stream",
     "text": [
      "res ```json\n",
      "{\n",
      "\t\"object_availability\": \"no\"\n",
      "}\n",
      "```\n",
      "{'object_availability': 'no'}\n"
     ]
    },
    {
     "name": "stderr",
     "output_type": "stream",
     "text": [
      "Running QA Records:  82%|████████▎ | 330/400 [09:29<02:00,  1.72s/it]"
     ]
    },
    {
     "name": "stdout",
     "output_type": "stream",
     "text": [
      "res ```json\n",
      "{\n",
      "\t\"object_availability\": \"no\"\n",
      "}\n",
      "```\n",
      "{'object_availability': 'no'}\n"
     ]
    },
    {
     "name": "stderr",
     "output_type": "stream",
     "text": [
      "Running QA Records:  83%|████████▎ | 331/400 [09:31<01:57,  1.70s/it]"
     ]
    },
    {
     "name": "stdout",
     "output_type": "stream",
     "text": [
      "res ```json\n",
      "{\n",
      "\t\"object_availability\": \"no\"\n",
      "}\n",
      "```\n",
      "{'object_availability': 'no'}\n"
     ]
    },
    {
     "name": "stderr",
     "output_type": "stream",
     "text": [
      "Running QA Records:  83%|████████▎ | 332/400 [09:33<01:55,  1.70s/it]"
     ]
    },
    {
     "name": "stdout",
     "output_type": "stream",
     "text": [
      "res ```json\n",
      "{\n",
      "\t\"object_availability\": \"yes\"\n",
      "}\n",
      "```\n",
      "{'object_availability': 'yes'}\n"
     ]
    },
    {
     "name": "stderr",
     "output_type": "stream",
     "text": [
      "Running QA Records:  83%|████████▎ | 333/400 [09:34<01:43,  1.54s/it]"
     ]
    },
    {
     "name": "stdout",
     "output_type": "stream",
     "text": [
      "res ```json\n",
      "{\n",
      "\t\"object_availability\": \"no\"\n",
      "}\n",
      "```\n",
      "{'object_availability': 'no'}\n"
     ]
    },
    {
     "name": "stderr",
     "output_type": "stream",
     "text": [
      "Running QA Records:  84%|████████▎ | 334/400 [09:35<01:39,  1.51s/it]"
     ]
    },
    {
     "name": "stdout",
     "output_type": "stream",
     "text": [
      "res ```json\n",
      "{\n",
      "\t\"object_availability\": \"no\"\n",
      "}\n",
      "```\n",
      "{'object_availability': 'no'}\n"
     ]
    },
    {
     "name": "stderr",
     "output_type": "stream",
     "text": [
      "Running QA Records:  84%|████████▍ | 335/400 [09:37<01:39,  1.53s/it]"
     ]
    },
    {
     "name": "stdout",
     "output_type": "stream",
     "text": [
      "res ```json\n",
      "{\n",
      "\t\"object_availability\": \"no\"\n",
      "}\n",
      "```\n",
      "{'object_availability': 'no'}\n"
     ]
    },
    {
     "name": "stderr",
     "output_type": "stream",
     "text": [
      "Running QA Records:  84%|████████▍ | 336/400 [09:38<01:39,  1.55s/it]"
     ]
    },
    {
     "name": "stdout",
     "output_type": "stream",
     "text": [
      "res ```json\n",
      "{\n",
      "\t\"object_availability\": \"yes\"\n",
      "}\n",
      "```\n",
      "{'object_availability': 'yes'}\n"
     ]
    },
    {
     "name": "stderr",
     "output_type": "stream",
     "text": [
      "Running QA Records:  84%|████████▍ | 337/400 [09:41<01:51,  1.77s/it]"
     ]
    },
    {
     "name": "stdout",
     "output_type": "stream",
     "text": [
      "res ```json\n",
      "{\n",
      "\t\"object_availability\": \"no\"\n",
      "}\n",
      "```\n",
      "{'object_availability': 'no'}\n"
     ]
    },
    {
     "name": "stderr",
     "output_type": "stream",
     "text": [
      "Running QA Records:  84%|████████▍ | 338/400 [09:42<01:44,  1.69s/it]"
     ]
    },
    {
     "name": "stdout",
     "output_type": "stream",
     "text": [
      "res ```json\n",
      "{\n",
      "\t\"object_availability\": \"yes\"\n",
      "}\n",
      "```\n",
      "{'object_availability': 'yes'}\n"
     ]
    },
    {
     "name": "stderr",
     "output_type": "stream",
     "text": [
      "Running QA Records:  85%|████████▍ | 339/400 [09:45<01:56,  1.92s/it]"
     ]
    },
    {
     "name": "stdout",
     "output_type": "stream",
     "text": [
      "res ```json\n",
      "{\n",
      "\t\"object_availability\": \"no\"\n",
      "}\n",
      "```\n",
      "{'object_availability': 'no'}\n"
     ]
    },
    {
     "name": "stderr",
     "output_type": "stream",
     "text": [
      "Running QA Records:  85%|████████▌ | 340/400 [09:46<01:48,  1.80s/it]"
     ]
    },
    {
     "name": "stdout",
     "output_type": "stream",
     "text": [
      "res ```json\n",
      "{\n",
      "\t\"object_availability\": \"no\"\n",
      "}\n",
      "```\n",
      "{'object_availability': 'no'}\n"
     ]
    },
    {
     "name": "stderr",
     "output_type": "stream",
     "text": [
      "Running QA Records:  85%|████████▌ | 341/400 [09:47<01:36,  1.63s/it]"
     ]
    },
    {
     "name": "stdout",
     "output_type": "stream",
     "text": [
      "res ```json\n",
      "{\n",
      "\t\"object_availability\": \"yes\"\n",
      "}\n",
      "```\n",
      "{'object_availability': 'yes'}\n"
     ]
    },
    {
     "name": "stderr",
     "output_type": "stream",
     "text": [
      "Running QA Records:  86%|████████▌ | 342/400 [09:50<01:47,  1.85s/it]"
     ]
    },
    {
     "name": "stdout",
     "output_type": "stream",
     "text": [
      "res ```json\n",
      "{\n",
      "\t\"object_availability\": \"yes\"\n",
      "}\n",
      "```\n",
      "{'object_availability': 'yes'}\n"
     ]
    },
    {
     "name": "stderr",
     "output_type": "stream",
     "text": [
      "Running QA Records:  86%|████████▌ | 343/400 [09:52<01:45,  1.85s/it]"
     ]
    },
    {
     "name": "stdout",
     "output_type": "stream",
     "text": [
      "res ```json\n",
      "{\n",
      "\t\"object_availability\": \"yes\"\n",
      "}\n",
      "```\n",
      "{'object_availability': 'yes'}\n"
     ]
    },
    {
     "name": "stderr",
     "output_type": "stream",
     "text": [
      "Running QA Records:  86%|████████▌ | 344/400 [09:54<01:58,  2.12s/it]"
     ]
    },
    {
     "name": "stdout",
     "output_type": "stream",
     "text": [
      "res ```json\n",
      "{\n",
      "\t\"object_availability\": \"yes\"\n",
      "}\n",
      "```\n",
      "{'object_availability': 'yes'}\n"
     ]
    },
    {
     "name": "stderr",
     "output_type": "stream",
     "text": [
      "Running QA Records:  86%|████████▋ | 345/400 [09:56<01:52,  2.04s/it]"
     ]
    },
    {
     "name": "stdout",
     "output_type": "stream",
     "text": [
      "res ```json\n",
      "{\n",
      "\t\"object_availability\": \"no\"\n",
      "}\n",
      "```\n",
      "{'object_availability': 'no'}\n"
     ]
    },
    {
     "name": "stderr",
     "output_type": "stream",
     "text": [
      "Running QA Records:  86%|████████▋ | 346/400 [09:58<01:38,  1.83s/it]"
     ]
    },
    {
     "name": "stdout",
     "output_type": "stream",
     "text": [
      "res ```json\n",
      "{\n",
      "\t\"object_availability\": \"yes\"\n",
      "}\n",
      "```\n",
      "{'object_availability': 'yes'}\n"
     ]
    },
    {
     "name": "stderr",
     "output_type": "stream",
     "text": [
      "Running QA Records:  87%|████████▋ | 347/400 [09:59<01:26,  1.63s/it]"
     ]
    },
    {
     "name": "stdout",
     "output_type": "stream",
     "text": [
      "res ```json\n",
      "{\n",
      "\t\"object_availability\": \"no\"\n",
      "}\n",
      "```\n",
      "{'object_availability': 'no'}\n"
     ]
    },
    {
     "name": "stderr",
     "output_type": "stream",
     "text": [
      "Running QA Records:  87%|████████▋ | 348/400 [10:01<01:27,  1.68s/it]"
     ]
    },
    {
     "name": "stdout",
     "output_type": "stream",
     "text": [
      "res ```json\n",
      "{\n",
      "\t\"object_availability\": \"no\"\n",
      "}\n",
      "```\n",
      "{'object_availability': 'no'}\n"
     ]
    },
    {
     "name": "stderr",
     "output_type": "stream",
     "text": [
      "Running QA Records:  87%|████████▋ | 349/400 [10:02<01:27,  1.71s/it]"
     ]
    },
    {
     "name": "stdout",
     "output_type": "stream",
     "text": [
      "res ```json\n",
      "{\n",
      "\t\"object_availability\": \"yes\"\n",
      "}\n",
      "```\n",
      "{'object_availability': 'yes'}\n"
     ]
    },
    {
     "name": "stderr",
     "output_type": "stream",
     "text": [
      "Running QA Records:  88%|████████▊ | 350/400 [10:04<01:30,  1.80s/it]"
     ]
    },
    {
     "name": "stdout",
     "output_type": "stream",
     "text": [
      "res ```json\n",
      "{\n",
      "\t\"object_availability\": \"yes\"\n",
      "}\n",
      "```\n",
      "{'object_availability': 'yes'}\n"
     ]
    },
    {
     "name": "stderr",
     "output_type": "stream",
     "text": [
      "Running QA Records:  88%|████████▊ | 351/400 [10:06<01:27,  1.78s/it]"
     ]
    },
    {
     "name": "stdout",
     "output_type": "stream",
     "text": [
      "res ```json\n",
      "{\n",
      "\t\"object_availability\": \"no\"\n",
      "}\n",
      "```\n",
      "{'object_availability': 'no'}\n"
     ]
    },
    {
     "name": "stderr",
     "output_type": "stream",
     "text": [
      "Running QA Records:  88%|████████▊ | 352/400 [10:08<01:26,  1.80s/it]"
     ]
    },
    {
     "name": "stdout",
     "output_type": "stream",
     "text": [
      "res ```json\n",
      "{\n",
      "\t\"object_availability\": \"no\"\n",
      "}\n",
      "```\n",
      "{'object_availability': 'no'}\n"
     ]
    },
    {
     "name": "stderr",
     "output_type": "stream",
     "text": [
      "Running QA Records:  88%|████████▊ | 353/400 [10:10<01:21,  1.74s/it]"
     ]
    },
    {
     "name": "stdout",
     "output_type": "stream",
     "text": [
      "res ```json\n",
      "{\n",
      "\t\"object_availability\": \"no\"\n",
      "}\n",
      "```\n",
      "{'object_availability': 'no'}\n"
     ]
    },
    {
     "name": "stderr",
     "output_type": "stream",
     "text": [
      "Running QA Records:  88%|████████▊ | 354/400 [10:11<01:12,  1.57s/it]"
     ]
    },
    {
     "name": "stdout",
     "output_type": "stream",
     "text": [
      "res ```json\n",
      "{\n",
      "\t\"object_availability\": \"no\"\n",
      "}\n",
      "```\n",
      "{'object_availability': 'no'}\n"
     ]
    },
    {
     "name": "stderr",
     "output_type": "stream",
     "text": [
      "Running QA Records:  89%|████████▉ | 355/400 [10:13<01:15,  1.67s/it]"
     ]
    },
    {
     "name": "stdout",
     "output_type": "stream",
     "text": [
      "res ```json\n",
      "{\n",
      "\t\"object_availability\": \"yes\"\n",
      "}\n",
      "```\n",
      "{'object_availability': 'yes'}\n"
     ]
    },
    {
     "name": "stderr",
     "output_type": "stream",
     "text": [
      "Running QA Records:  89%|████████▉ | 356/400 [10:14<01:12,  1.64s/it]"
     ]
    },
    {
     "name": "stdout",
     "output_type": "stream",
     "text": [
      "res ```json\n",
      "{\n",
      "\t\"object_availability\": \"no\"\n",
      "}\n",
      "```\n",
      "{'object_availability': 'no'}\n"
     ]
    },
    {
     "name": "stderr",
     "output_type": "stream",
     "text": [
      "Running QA Records:  89%|████████▉ | 357/400 [10:15<01:05,  1.52s/it]"
     ]
    },
    {
     "name": "stdout",
     "output_type": "stream",
     "text": [
      "res ```json\n",
      "{\n",
      "\t\"object_availability\": \"no\"\n",
      "}\n",
      "```\n",
      "{'object_availability': 'no'}\n"
     ]
    },
    {
     "name": "stderr",
     "output_type": "stream",
     "text": [
      "Running QA Records:  90%|████████▉ | 358/400 [10:18<01:19,  1.89s/it]"
     ]
    },
    {
     "name": "stdout",
     "output_type": "stream",
     "text": [
      "res ```json\n",
      "{\n",
      "\t\"object_availability\": \"no\"\n",
      "}\n",
      "```\n",
      "{'object_availability': 'no'}\n"
     ]
    },
    {
     "name": "stderr",
     "output_type": "stream",
     "text": [
      "Running QA Records:  90%|████████▉ | 359/400 [10:20<01:11,  1.75s/it]"
     ]
    },
    {
     "name": "stdout",
     "output_type": "stream",
     "text": [
      "res ```json\n",
      "{\n",
      "\t\"object_availability\": \"yes\"\n",
      "}\n",
      "```\n",
      "{'object_availability': 'yes'}\n"
     ]
    },
    {
     "name": "stderr",
     "output_type": "stream",
     "text": [
      "Running QA Records:  90%|█████████ | 360/400 [10:21<01:10,  1.76s/it]"
     ]
    },
    {
     "name": "stdout",
     "output_type": "stream",
     "text": [
      "res ```json\n",
      "{\n",
      "\t\"object_availability\": \"yes\"\n",
      "}\n",
      "```\n",
      "{'object_availability': 'yes'}\n"
     ]
    },
    {
     "name": "stderr",
     "output_type": "stream",
     "text": [
      "Running QA Records:  90%|█████████ | 361/400 [10:24<01:14,  1.91s/it]"
     ]
    },
    {
     "name": "stdout",
     "output_type": "stream",
     "text": [
      "res ```json\n",
      "{\n",
      "\t\"object_availability\": \"yes\"\n",
      "}\n",
      "```\n",
      "{'object_availability': 'yes'}\n"
     ]
    },
    {
     "name": "stderr",
     "output_type": "stream",
     "text": [
      "Running QA Records:  90%|█████████ | 362/400 [10:25<01:08,  1.82s/it]"
     ]
    },
    {
     "name": "stdout",
     "output_type": "stream",
     "text": [
      "res ```json\n",
      "{\n",
      "\t\"object_availability\": \"yes\"\n",
      "}\n",
      "```\n",
      "{'object_availability': 'yes'}\n"
     ]
    },
    {
     "name": "stderr",
     "output_type": "stream",
     "text": [
      "Running QA Records:  91%|█████████ | 363/400 [10:27<01:09,  1.89s/it]"
     ]
    },
    {
     "name": "stdout",
     "output_type": "stream",
     "text": [
      "res ```json\n",
      "{\n",
      "\t\"object_availability\": \"no\"\n",
      "}\n",
      "```\n",
      "{'object_availability': 'no'}\n"
     ]
    },
    {
     "name": "stderr",
     "output_type": "stream",
     "text": [
      "Running QA Records:  91%|█████████ | 364/400 [10:29<01:05,  1.81s/it]"
     ]
    },
    {
     "name": "stdout",
     "output_type": "stream",
     "text": [
      "res ```json\n",
      "{\n",
      "\t\"object_availability\": \"no\"\n",
      "}\n",
      "```\n",
      "{'object_availability': 'no'}\n"
     ]
    },
    {
     "name": "stderr",
     "output_type": "stream",
     "text": [
      "Running QA Records:  91%|█████████▏| 365/400 [10:31<01:00,  1.74s/it]"
     ]
    },
    {
     "name": "stdout",
     "output_type": "stream",
     "text": [
      "res ```json\n",
      "{\n",
      "\t\"object_availability\": \"yes\"\n",
      "}\n",
      "```\n",
      "{'object_availability': 'yes'}\n"
     ]
    },
    {
     "name": "stderr",
     "output_type": "stream",
     "text": [
      "Running QA Records:  92%|█████████▏| 366/400 [10:32<00:51,  1.51s/it]"
     ]
    },
    {
     "name": "stdout",
     "output_type": "stream",
     "text": [
      "res ```json\n",
      "{\n",
      "\t\"object_availability\": \"no\"\n",
      "}\n",
      "```\n",
      "{'object_availability': 'no'}\n"
     ]
    },
    {
     "name": "stderr",
     "output_type": "stream",
     "text": [
      "Running QA Records:  92%|█████████▏| 367/400 [10:33<00:50,  1.53s/it]"
     ]
    },
    {
     "name": "stdout",
     "output_type": "stream",
     "text": [
      "res ```json\n",
      "{\n",
      "\t\"object_availability\": \"yes\"\n",
      "}\n",
      "```\n",
      "{'object_availability': 'yes'}\n"
     ]
    },
    {
     "name": "stderr",
     "output_type": "stream",
     "text": [
      "Running QA Records:  92%|█████████▏| 368/400 [10:35<00:54,  1.72s/it]"
     ]
    },
    {
     "name": "stdout",
     "output_type": "stream",
     "text": [
      "res ```json\n",
      "{\n",
      "\t\"object_availability\": \"no\"\n",
      "}\n",
      "```\n",
      "{'object_availability': 'no'}\n"
     ]
    },
    {
     "name": "stderr",
     "output_type": "stream",
     "text": [
      "Running QA Records:  92%|█████████▏| 369/400 [10:37<00:52,  1.68s/it]"
     ]
    },
    {
     "name": "stdout",
     "output_type": "stream",
     "text": [
      "res ```json\n",
      "{\n",
      "\t\"object_availability\": \"yes\"\n",
      "}\n",
      "```\n",
      "{'object_availability': 'yes'}\n"
     ]
    },
    {
     "name": "stderr",
     "output_type": "stream",
     "text": [
      "Running QA Records:  92%|█████████▎| 370/400 [10:39<00:57,  1.91s/it]"
     ]
    },
    {
     "name": "stdout",
     "output_type": "stream",
     "text": [
      "res ```json\n",
      "{\n",
      "\t\"object_availability\": \"no\"\n",
      "}\n",
      "```\n",
      "{'object_availability': 'no'}\n"
     ]
    },
    {
     "name": "stderr",
     "output_type": "stream",
     "text": [
      "Running QA Records:  93%|█████████▎| 371/400 [10:41<00:52,  1.81s/it]"
     ]
    },
    {
     "name": "stdout",
     "output_type": "stream",
     "text": [
      "res ```json\n",
      "{\n",
      "\t\"object_availability\": \"no\"\n",
      "}\n",
      "```\n",
      "{'object_availability': 'no'}\n"
     ]
    },
    {
     "name": "stderr",
     "output_type": "stream",
     "text": [
      "Running QA Records:  93%|█████████▎| 372/400 [10:42<00:44,  1.60s/it]"
     ]
    },
    {
     "name": "stdout",
     "output_type": "stream",
     "text": [
      "res ```json\n",
      "{\n",
      "\t\"object_availability\": \"no\"\n",
      "}\n",
      "```\n",
      "{'object_availability': 'no'}\n"
     ]
    },
    {
     "name": "stderr",
     "output_type": "stream",
     "text": [
      "Running QA Records:  93%|█████████▎| 373/400 [10:43<00:38,  1.44s/it]"
     ]
    },
    {
     "name": "stdout",
     "output_type": "stream",
     "text": [
      "res ```json\n",
      "{\n",
      "\t\"object_availability\": \"yes\"\n",
      "}\n",
      "```\n",
      "{'object_availability': 'yes'}\n"
     ]
    },
    {
     "name": "stderr",
     "output_type": "stream",
     "text": [
      "Running QA Records:  94%|█████████▎| 374/400 [10:45<00:37,  1.46s/it]"
     ]
    },
    {
     "name": "stdout",
     "output_type": "stream",
     "text": [
      "res ```json\n",
      "{\n",
      "\t\"object_availability\": \"no\"\n",
      "}\n",
      "```\n",
      "{'object_availability': 'no'}\n"
     ]
    },
    {
     "name": "stderr",
     "output_type": "stream",
     "text": [
      "Running QA Records:  94%|█████████▍| 375/400 [10:46<00:37,  1.51s/it]"
     ]
    },
    {
     "name": "stdout",
     "output_type": "stream",
     "text": [
      "res ```json\n",
      "{\n",
      "\t\"object_availability\": \"no\"\n",
      "}\n",
      "```\n",
      "{'object_availability': 'no'}\n"
     ]
    },
    {
     "name": "stderr",
     "output_type": "stream",
     "text": [
      "Running QA Records:  94%|█████████▍| 376/400 [10:48<00:37,  1.55s/it]"
     ]
    },
    {
     "name": "stdout",
     "output_type": "stream",
     "text": [
      "res ```json\n",
      "{\n",
      "\t\"object_availability\": \"yes\"\n",
      "}\n",
      "```\n",
      "{'object_availability': 'yes'}\n"
     ]
    },
    {
     "name": "stderr",
     "output_type": "stream",
     "text": [
      "Running QA Records:  94%|█████████▍| 377/400 [10:49<00:32,  1.41s/it]"
     ]
    },
    {
     "name": "stdout",
     "output_type": "stream",
     "text": [
      "res ```json\n",
      "{\n",
      "\t\"object_availability\": \"no\"\n",
      "}\n",
      "```\n",
      "{'object_availability': 'no'}\n"
     ]
    },
    {
     "name": "stderr",
     "output_type": "stream",
     "text": [
      "Running QA Records:  94%|█████████▍| 378/400 [10:51<00:35,  1.60s/it]"
     ]
    },
    {
     "name": "stdout",
     "output_type": "stream",
     "text": [
      "res ```json\n",
      "{\n",
      "\t\"object_availability\": \"yes\"\n",
      "}\n",
      "```\n",
      "{'object_availability': 'yes'}\n"
     ]
    },
    {
     "name": "stderr",
     "output_type": "stream",
     "text": [
      "Running QA Records:  95%|█████████▍| 379/400 [10:52<00:32,  1.55s/it]"
     ]
    },
    {
     "name": "stdout",
     "output_type": "stream",
     "text": [
      "res ```json\n",
      "{\n",
      "\t\"object_availability\": \"no\"\n",
      "}\n",
      "```\n",
      "{'object_availability': 'no'}\n"
     ]
    },
    {
     "name": "stderr",
     "output_type": "stream",
     "text": [
      "Running QA Records:  95%|█████████▌| 380/400 [10:54<00:31,  1.59s/it]"
     ]
    },
    {
     "name": "stdout",
     "output_type": "stream",
     "text": [
      "res ```json\n",
      "{\n",
      "\t\"object_availability\": \"yes\"\n",
      "}\n",
      "```\n",
      "{'object_availability': 'yes'}\n"
     ]
    },
    {
     "name": "stderr",
     "output_type": "stream",
     "text": [
      "Running QA Records:  95%|█████████▌| 381/400 [10:56<00:30,  1.59s/it]"
     ]
    },
    {
     "name": "stdout",
     "output_type": "stream",
     "text": [
      "res ```json\n",
      "{\n",
      "\t\"object_availability\": \"yes\"\n",
      "}\n",
      "```\n",
      "{'object_availability': 'yes'}\n"
     ]
    },
    {
     "name": "stderr",
     "output_type": "stream",
     "text": [
      "Running QA Records:  96%|█████████▌| 382/400 [10:57<00:27,  1.51s/it]"
     ]
    },
    {
     "name": "stdout",
     "output_type": "stream",
     "text": [
      "res ```json\n",
      "{\n",
      "\t\"object_availability\": \"no\"\n",
      "}\n",
      "```\n",
      "{'object_availability': 'no'}\n"
     ]
    },
    {
     "name": "stderr",
     "output_type": "stream",
     "text": [
      "Running QA Records:  96%|█████████▌| 383/400 [10:58<00:25,  1.51s/it]"
     ]
    },
    {
     "name": "stdout",
     "output_type": "stream",
     "text": [
      "res ```json\n",
      "{\n",
      "\t\"object_availability\": \"no\"\n",
      "}\n",
      "```\n",
      "{'object_availability': 'no'}\n"
     ]
    },
    {
     "name": "stderr",
     "output_type": "stream",
     "text": [
      "Running QA Records:  96%|█████████▌| 384/400 [11:00<00:24,  1.52s/it]"
     ]
    },
    {
     "name": "stdout",
     "output_type": "stream",
     "text": [
      "res ```json\n",
      "{\n",
      "  \"object_availability\": \"no\"\n",
      "}\n",
      "```\n",
      "{'object_availability': 'no'}\n"
     ]
    },
    {
     "name": "stderr",
     "output_type": "stream",
     "text": [
      "Running QA Records:  96%|█████████▋| 385/400 [11:02<00:24,  1.61s/it]"
     ]
    },
    {
     "name": "stdout",
     "output_type": "stream",
     "text": [
      "res ```json\n",
      "{\n",
      "\t\"object_availability\": \"yes\"\n",
      "}\n",
      "```\n",
      "{'object_availability': 'yes'}\n"
     ]
    },
    {
     "name": "stderr",
     "output_type": "stream",
     "text": [
      "Running QA Records:  96%|█████████▋| 386/400 [11:04<00:23,  1.67s/it]"
     ]
    },
    {
     "name": "stdout",
     "output_type": "stream",
     "text": [
      "res ```json\n",
      "{\n",
      "\t\"object_availability\": \"yes\"\n",
      "}\n",
      "```\n",
      "{'object_availability': 'yes'}\n"
     ]
    },
    {
     "name": "stderr",
     "output_type": "stream",
     "text": [
      "Running QA Records:  97%|█████████▋| 387/400 [11:06<00:23,  1.80s/it]"
     ]
    },
    {
     "name": "stdout",
     "output_type": "stream",
     "text": [
      "res ```json\n",
      "{\n",
      "\t\"object_availability\": \"yes\"\n",
      "}\n",
      "```\n",
      "{'object_availability': 'yes'}\n"
     ]
    },
    {
     "name": "stderr",
     "output_type": "stream",
     "text": [
      "Running QA Records:  97%|█████████▋| 388/400 [11:07<00:21,  1.79s/it]"
     ]
    },
    {
     "name": "stdout",
     "output_type": "stream",
     "text": [
      "res ```json\n",
      "{\n",
      "\t\"object_availability\": \"yes\"\n",
      "}\n",
      "```\n",
      "{'object_availability': 'yes'}\n"
     ]
    },
    {
     "name": "stderr",
     "output_type": "stream",
     "text": [
      "Running QA Records:  97%|█████████▋| 389/400 [11:09<00:18,  1.64s/it]"
     ]
    },
    {
     "name": "stdout",
     "output_type": "stream",
     "text": [
      "res ```json\n",
      "{\n",
      "\t\"object_availability\": \"no\"\n",
      "}\n",
      "```\n",
      "{'object_availability': 'no'}\n"
     ]
    },
    {
     "name": "stderr",
     "output_type": "stream",
     "text": [
      "Running QA Records:  98%|█████████▊| 390/400 [11:11<00:16,  1.67s/it]"
     ]
    },
    {
     "name": "stdout",
     "output_type": "stream",
     "text": [
      "res ```json\n",
      "{\n",
      "  \"object_availability\": \"no\"\n",
      "}\n",
      "```\n",
      "{'object_availability': 'no'}\n"
     ]
    },
    {
     "name": "stderr",
     "output_type": "stream",
     "text": [
      "Running QA Records:  98%|█████████▊| 391/400 [11:12<00:13,  1.55s/it]"
     ]
    },
    {
     "name": "stdout",
     "output_type": "stream",
     "text": [
      "res ```json\n",
      "{\n",
      "\t\"object_availability\": \"yes\"\n",
      "}\n",
      "```\n",
      "{'object_availability': 'yes'}\n"
     ]
    },
    {
     "name": "stderr",
     "output_type": "stream",
     "text": [
      "Running QA Records:  98%|█████████▊| 392/400 [11:13<00:12,  1.57s/it]"
     ]
    },
    {
     "name": "stdout",
     "output_type": "stream",
     "text": [
      "res ```json\n",
      "{\n",
      "\t\"object_availability\": \"yes\"\n",
      "}\n",
      "```\n",
      "{'object_availability': 'yes'}\n"
     ]
    },
    {
     "name": "stderr",
     "output_type": "stream",
     "text": [
      "Running QA Records:  98%|█████████▊| 393/400 [11:15<00:11,  1.69s/it]"
     ]
    },
    {
     "name": "stdout",
     "output_type": "stream",
     "text": [
      "res ```json\n",
      "{\n",
      "\t\"object_availability\": \"yes\"\n",
      "}\n",
      "```\n",
      "{'object_availability': 'yes'}\n"
     ]
    },
    {
     "name": "stderr",
     "output_type": "stream",
     "text": [
      "Running QA Records:  98%|█████████▊| 394/400 [11:17<00:10,  1.79s/it]"
     ]
    },
    {
     "name": "stdout",
     "output_type": "stream",
     "text": [
      "res ```json\n",
      "{\n",
      "\t\"object_availability\": \"yes\"\n",
      "}\n",
      "```\n",
      "{'object_availability': 'yes'}\n"
     ]
    },
    {
     "name": "stderr",
     "output_type": "stream",
     "text": [
      "Running QA Records:  99%|█████████▉| 395/400 [11:19<00:08,  1.68s/it]"
     ]
    },
    {
     "name": "stdout",
     "output_type": "stream",
     "text": [
      "res ```json\n",
      "{\n",
      "\t\"object_availability\": \"yes\"\n",
      "}\n",
      "```\n",
      "{'object_availability': 'yes'}\n"
     ]
    },
    {
     "name": "stderr",
     "output_type": "stream",
     "text": [
      "Running QA Records:  99%|█████████▉| 396/400 [11:20<00:06,  1.58s/it]"
     ]
    },
    {
     "name": "stdout",
     "output_type": "stream",
     "text": [
      "res ```json\n",
      "{\n",
      "\t\"object_availability\": \"yes\"\n",
      "}\n",
      "```\n",
      "{'object_availability': 'yes'}\n"
     ]
    },
    {
     "name": "stderr",
     "output_type": "stream",
     "text": [
      "Running QA Records:  99%|█████████▉| 397/400 [11:22<00:04,  1.53s/it]"
     ]
    },
    {
     "name": "stdout",
     "output_type": "stream",
     "text": [
      "res ```json\n",
      "{\n",
      "\t\"object_availability\": \"yes\"\n",
      "}\n",
      "```\n",
      "{'object_availability': 'yes'}\n"
     ]
    },
    {
     "name": "stderr",
     "output_type": "stream",
     "text": [
      "Running QA Records: 100%|█████████▉| 398/400 [11:24<00:03,  1.69s/it]"
     ]
    },
    {
     "name": "stdout",
     "output_type": "stream",
     "text": [
      "res ```json\n",
      "{\n",
      "\t\"object_availability\": \"no\"\n",
      "}\n",
      "```\n",
      "{'object_availability': 'no'}\n"
     ]
    },
    {
     "name": "stderr",
     "output_type": "stream",
     "text": [
      "Running QA Records: 100%|█████████▉| 399/400 [11:26<00:01,  1.95s/it]"
     ]
    },
    {
     "name": "stdout",
     "output_type": "stream",
     "text": [
      "res ```json\n",
      "{\n",
      "\t\"object_availability\": \"yes\"\n",
      "}\n",
      "```\n",
      "{'object_availability': 'yes'}\n"
     ]
    },
    {
     "name": "stderr",
     "output_type": "stream",
     "text": [
      "Running QA Records: 100%|██████████| 400/400 [11:28<00:00,  1.72s/it]"
     ]
    },
    {
     "name": "stdout",
     "output_type": "stream",
     "text": [
      "res ```json\n",
      "{\n",
      "\t\"object_availability\": \"no\"\n",
      "}\n",
      "```\n",
      "{'object_availability': 'no'}\n"
     ]
    },
    {
     "name": "stderr",
     "output_type": "stream",
     "text": [
      "\n"
     ]
    }
   ],
   "source": [
    "from tqdm import tqdm\n",
    "\n",
    "for idx, d in enumerate(tqdm(ds[data_split], desc=\"Running QA Records\")):\n",
    "    d[\"pred_res\"] = qa_records(ds, idx, data_split)\n"
   ]
  },
  {
   "cell_type": "code",
   "execution_count": 67,
   "id": "72ebd096",
   "metadata": {},
   "outputs": [
    {
     "data": {
      "text/plain": [
       "4"
      ]
     },
     "execution_count": 67,
     "metadata": {},
     "output_type": "execute_result"
    }
   ],
   "source": [
    "2+2"
   ]
  },
  {
   "cell_type": "code",
   "execution_count": 68,
   "id": "8c57c013",
   "metadata": {},
   "outputs": [
    {
     "data": {
      "text/plain": [
       "Dataset({\n",
       "    features: ['id', 'question_id', 'question', 'answer', 'image_source', 'image', 'category', 'depth_caption', 'image_path'],\n",
       "    num_rows: 400\n",
       "})"
      ]
     },
     "execution_count": 68,
     "metadata": {},
     "output_type": "execute_result"
    }
   ],
   "source": [
    "ds[data_split]"
   ]
  },
  {
   "cell_type": "code",
   "execution_count": null,
   "metadata": {},
   "outputs": [],
   "source": [
    "from tqdm import tqdm\n",
    "\n",
    "for idx, d in enumerate(tqdm(ds[data_split], desc=\"Running QA Records\")):\n",
    "    d[\"pred_res_with_depth\"] = qa_records(ds, idx, data_split,use_depth=True)\n"
   ]
  },
  {
   "cell_type": "code",
   "execution_count": null,
   "id": "60382127",
   "metadata": {},
   "outputs": [],
   "source": []
  },
  {
   "cell_type": "code",
   "execution_count": null,
   "metadata": {},
   "outputs": [],
   "source": []
  }
 ],
 "metadata": {
  "kernelspec": {
   "display_name": ".conda",
   "language": "python",
   "name": "python3"
  },
  "language_info": {
   "codemirror_mode": {
    "name": "ipython",
    "version": 3
   },
   "file_extension": ".py",
   "mimetype": "text/x-python",
   "name": "python",
   "nbconvert_exporter": "python",
   "pygments_lexer": "ipython3",
   "version": "3.10.16"
  }
 },
 "nbformat": 4,
 "nbformat_minor": 5
}
